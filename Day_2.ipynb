{
 "cells": [
  {
   "cell_type": "code",
   "id": "initial_id",
   "metadata": {
    "collapsed": true,
    "ExecuteTime": {
     "end_time": "2024-08-12T11:04:32.025125Z",
     "start_time": "2024-08-12T11:04:32.015215Z"
    }
   },
   "source": [
    "s = \"this is a first sample string, and this is a second sample string\"\n",
    "\n",
    "for i in range(len(s)):\n",
    "    print(s[i], end=\"\")"
   ],
   "outputs": [
    {
     "name": "stdout",
     "output_type": "stream",
     "text": [
      "this is a first sample string, and this is a second sample string"
     ]
    }
   ],
   "execution_count": 63
  },
  {
   "metadata": {
    "ExecuteTime": {
     "end_time": "2024-08-12T10:33:00.876593Z",
     "start_time": "2024-08-12T10:33:00.857292Z"
    }
   },
   "cell_type": "code",
   "source": "s[0] = \"T\"",
   "id": "5c70158ea2b41974",
   "outputs": [
    {
     "ename": "TypeError",
     "evalue": "'str' object does not support item assignment",
     "output_type": "error",
     "traceback": [
      "\u001B[1;31m---------------------------------------------------------------------------\u001B[0m",
      "\u001B[1;31mTypeError\u001B[0m                                 Traceback (most recent call last)",
      "Cell \u001B[1;32mIn[29], line 1\u001B[0m\n\u001B[1;32m----> 1\u001B[0m \u001B[43ms\u001B[49m\u001B[43m[\u001B[49m\u001B[38;5;241;43m0\u001B[39;49m\u001B[43m]\u001B[49m \u001B[38;5;241m=\u001B[39m \u001B[38;5;124m\"\u001B[39m\u001B[38;5;124mT\u001B[39m\u001B[38;5;124m\"\u001B[39m\n",
      "\u001B[1;31mTypeError\u001B[0m: 'str' object does not support item assignment"
     ]
    }
   ],
   "execution_count": 29
  },
  {
   "metadata": {},
   "cell_type": "markdown",
   "source": "Here it is giving us error which shows that strings are immutable i.e., strings does not support item assignment",
   "id": "80a746f05261646a"
  },
  {
   "metadata": {
    "ExecuteTime": {
     "end_time": "2024-08-12T10:33:02.887182Z",
     "start_time": "2024-08-12T10:33:02.869877Z"
    }
   },
   "cell_type": "code",
   "source": "\"John\" + \"Doe\"",
   "id": "794ba64d62e81506",
   "outputs": [
    {
     "data": {
      "text/plain": [
       "'JohnDoe'"
      ]
     },
     "execution_count": 32,
     "metadata": {},
     "output_type": "execute_result"
    }
   ],
   "execution_count": 32
  },
  {
   "metadata": {
    "ExecuteTime": {
     "end_time": "2024-08-12T10:33:00.921735Z",
     "start_time": "2024-08-12T10:33:00.915457Z"
    }
   },
   "cell_type": "code",
   "source": "\"john.\" * 5",
   "id": "32f88a9a28a4d9e7",
   "outputs": [
    {
     "data": {
      "text/plain": [
       "'john.john.john.john.john.'"
      ]
     },
     "execution_count": 30,
     "metadata": {},
     "output_type": "execute_result"
    }
   ],
   "execution_count": 30
  },
  {
   "metadata": {
    "ExecuteTime": {
     "end_time": "2024-08-12T10:33:00.934074Z",
     "start_time": "2024-08-12T10:33:00.921735Z"
    }
   },
   "cell_type": "code",
   "source": "s.find(\"sample\")",
   "id": "646cd41d37d4fd15",
   "outputs": [
    {
     "data": {
      "text/plain": [
       "10"
      ]
     },
     "execution_count": 31,
     "metadata": {},
     "output_type": "execute_result"
    }
   ],
   "execution_count": 31
  },
  {
   "metadata": {
    "ExecuteTime": {
     "end_time": "2024-08-12T10:33:24.730047Z",
     "start_time": "2024-08-12T10:33:24.711696Z"
    }
   },
   "cell_type": "code",
   "source": "s.count(\"a\")",
   "id": "bf78c831287fe1d9",
   "outputs": [
    {
     "data": {
      "text/plain": [
       "2"
      ]
     },
     "execution_count": 33,
     "metadata": {},
     "output_type": "execute_result"
    }
   ],
   "execution_count": 33
  },
  {
   "metadata": {
    "ExecuteTime": {
     "end_time": "2024-08-12T10:36:27.690409Z",
     "start_time": "2024-08-12T10:36:27.684358Z"
    }
   },
   "cell_type": "code",
   "source": "s.split()",
   "id": "f1a8632e917ff2ca",
   "outputs": [
    {
     "data": {
      "text/plain": [
       "['this',\n",
       " 'is',\n",
       " 'a',\n",
       " 'first',\n",
       " 'sample',\n",
       " 'string,',\n",
       " 'and',\n",
       " 'this',\n",
       " 'is',\n",
       " 'a',\n",
       " 'second',\n",
       " 'sample',\n",
       " 'string']"
      ]
     },
     "execution_count": 44,
     "metadata": {},
     "output_type": "execute_result"
    }
   ],
   "execution_count": 44
  },
  {
   "metadata": {
    "ExecuteTime": {
     "end_time": "2024-08-12T10:36:25.223452Z",
     "start_time": "2024-08-12T10:36:25.216266Z"
    }
   },
   "cell_type": "code",
   "source": "s.split(\",\")",
   "id": "ba49e4a1283a58f8",
   "outputs": [
    {
     "data": {
      "text/plain": [
       "['this is a first sample string', ' and this is a second sample string']"
      ]
     },
     "execution_count": 43,
     "metadata": {},
     "output_type": "execute_result"
    }
   ],
   "execution_count": 43
  },
  {
   "metadata": {
    "ExecuteTime": {
     "end_time": "2024-08-12T10:36:53.073118Z",
     "start_time": "2024-08-12T10:36:53.053792Z"
    }
   },
   "cell_type": "code",
   "source": "s.upper()",
   "id": "7191d20867fd1c0c",
   "outputs": [
    {
     "data": {
      "text/plain": [
       "'THIS IS A FIRST SAMPLE STRING, AND THIS IS A SECOND SAMPLE STRING'"
      ]
     },
     "execution_count": 45,
     "metadata": {},
     "output_type": "execute_result"
    }
   ],
   "execution_count": 45
  },
  {
   "metadata": {
    "ExecuteTime": {
     "end_time": "2024-08-12T10:36:57.370586Z",
     "start_time": "2024-08-12T10:36:57.352128Z"
    }
   },
   "cell_type": "code",
   "source": "s.lower()",
   "id": "157cbe3c39966e2d",
   "outputs": [
    {
     "data": {
      "text/plain": [
       "'this is a first sample string, and this is a second sample string'"
      ]
     },
     "execution_count": 46,
     "metadata": {},
     "output_type": "execute_result"
    }
   ],
   "execution_count": 46
  },
  {
   "metadata": {},
   "cell_type": "markdown",
   "source": "swapcase() -> Convert uppercase characters to lowercase and lowercase characters to uppercase.",
   "id": "2bb3d9c9596491de"
  },
  {
   "metadata": {
    "ExecuteTime": {
     "end_time": "2024-08-12T10:37:01.990697Z",
     "start_time": "2024-08-12T10:37:01.984399Z"
    }
   },
   "cell_type": "code",
   "source": "s.swapcase()",
   "id": "b59230bbb9f194c3",
   "outputs": [
    {
     "data": {
      "text/plain": [
       "'THIS IS A FIRST SAMPLE STRING, AND THIS IS A SECOND SAMPLE STRING'"
      ]
     },
     "execution_count": 47,
     "metadata": {},
     "output_type": "execute_result"
    }
   ],
   "execution_count": 47
  },
  {
   "metadata": {
    "ExecuteTime": {
     "end_time": "2024-08-12T10:37:57.356171Z",
     "start_time": "2024-08-12T10:37:57.336294Z"
    }
   },
   "cell_type": "code",
   "source": "\" \".join(s)",
   "id": "d17b2b508f9537f6",
   "outputs": [
    {
     "data": {
      "text/plain": [
       "'t h i s   i s   a   f i r s t   s a m p l e   s t r i n g ,   a n d   t h i s   i s   a   s e c o n d   s a m p l e   s t r i n g'"
      ]
     },
     "execution_count": 48,
     "metadata": {},
     "output_type": "execute_result"
    }
   ],
   "execution_count": 48
  },
  {
   "metadata": {
    "ExecuteTime": {
     "end_time": "2024-08-12T10:39:28.291033Z",
     "start_time": "2024-08-12T10:39:28.283232Z"
    }
   },
   "cell_type": "code",
   "source": "list(reversed(s))",
   "id": "681d9cfd7188ca5e",
   "outputs": [
    {
     "data": {
      "text/plain": [
       "['g',\n",
       " 'n',\n",
       " 'i',\n",
       " 'r',\n",
       " 't',\n",
       " 's',\n",
       " ' ',\n",
       " 'e',\n",
       " 'l',\n",
       " 'p',\n",
       " 'm',\n",
       " 'a',\n",
       " 's',\n",
       " ' ',\n",
       " 'd',\n",
       " 'n',\n",
       " 'o',\n",
       " 'c',\n",
       " 'e',\n",
       " 's',\n",
       " ' ',\n",
       " 'a',\n",
       " ' ',\n",
       " 's',\n",
       " 'i',\n",
       " ' ',\n",
       " 's',\n",
       " 'i',\n",
       " 'h',\n",
       " 't',\n",
       " ' ',\n",
       " 'd',\n",
       " 'n',\n",
       " 'a',\n",
       " ' ',\n",
       " ',',\n",
       " 'g',\n",
       " 'n',\n",
       " 'i',\n",
       " 'r',\n",
       " 't',\n",
       " 's',\n",
       " ' ',\n",
       " 'e',\n",
       " 'l',\n",
       " 'p',\n",
       " 'm',\n",
       " 'a',\n",
       " 's',\n",
       " ' ',\n",
       " 't',\n",
       " 's',\n",
       " 'r',\n",
       " 'i',\n",
       " 'f',\n",
       " ' ',\n",
       " 'a',\n",
       " ' ',\n",
       " 's',\n",
       " 'i',\n",
       " ' ',\n",
       " 's',\n",
       " 'i',\n",
       " 'h',\n",
       " 't']"
      ]
     },
     "execution_count": 56,
     "metadata": {},
     "output_type": "execute_result"
    }
   ],
   "execution_count": 56
  },
  {
   "metadata": {
    "ExecuteTime": {
     "end_time": "2024-08-12T10:39:45.356086Z",
     "start_time": "2024-08-12T10:39:45.344483Z"
    }
   },
   "cell_type": "code",
   "source": [
    "for i in reversed(s):\n",
    "    print(i)"
   ],
   "id": "6f7b37c1675da598",
   "outputs": [
    {
     "name": "stdout",
     "output_type": "stream",
     "text": [
      "g\n",
      "n\n",
      "i\n",
      "r\n",
      "t\n",
      "s\n",
      " \n",
      "e\n",
      "l\n",
      "p\n",
      "m\n",
      "a\n",
      "s\n",
      " \n",
      "d\n",
      "n\n",
      "o\n",
      "c\n",
      "e\n",
      "s\n",
      " \n",
      "a\n",
      " \n",
      "s\n",
      "i\n",
      " \n",
      "s\n",
      "i\n",
      "h\n",
      "t\n",
      " \n",
      "d\n",
      "n\n",
      "a\n",
      " \n",
      ",\n",
      "g\n",
      "n\n",
      "i\n",
      "r\n",
      "t\n",
      "s\n",
      " \n",
      "e\n",
      "l\n",
      "p\n",
      "m\n",
      "a\n",
      "s\n",
      " \n",
      "t\n",
      "s\n",
      "r\n",
      "i\n",
      "f\n",
      " \n",
      "a\n",
      " \n",
      "s\n",
      "i\n",
      " \n",
      "s\n",
      "i\n",
      "h\n",
      "t\n"
     ]
    }
   ],
   "execution_count": 57
  },
  {
   "metadata": {
    "ExecuteTime": {
     "end_time": "2024-08-12T11:05:18.292805Z",
     "start_time": "2024-08-12T11:05:18.287392Z"
    }
   },
   "cell_type": "code",
   "source": [
    "d = \"  John  Doe  \"\n",
    "d.strip()"
   ],
   "id": "74f1084a5c15989c",
   "outputs": [
    {
     "data": {
      "text/plain": [
       "'John  Doe'"
      ]
     },
     "execution_count": 68,
     "metadata": {},
     "output_type": "execute_result"
    }
   ],
   "execution_count": 68
  },
  {
   "metadata": {
    "ExecuteTime": {
     "end_time": "2024-08-12T11:05:36.910025Z",
     "start_time": "2024-08-12T11:05:36.888657Z"
    }
   },
   "cell_type": "code",
   "source": "d.lstrip()",
   "id": "33c80de7172fdf0a",
   "outputs": [
    {
     "data": {
      "text/plain": [
       "'John  Doe  '"
      ]
     },
     "execution_count": 69,
     "metadata": {},
     "output_type": "execute_result"
    }
   ],
   "execution_count": 69
  },
  {
   "metadata": {
    "ExecuteTime": {
     "end_time": "2024-08-12T11:05:44.519995Z",
     "start_time": "2024-08-12T11:05:44.512024Z"
    }
   },
   "cell_type": "code",
   "source": "d.rstrip()",
   "id": "5ced1b158aa05d6b",
   "outputs": [
    {
     "data": {
      "text/plain": [
       "'  John  Doe'"
      ]
     },
     "execution_count": 70,
     "metadata": {},
     "output_type": "execute_result"
    }
   ],
   "execution_count": 70
  },
  {
   "metadata": {
    "ExecuteTime": {
     "end_time": "2024-08-12T11:06:41.559977Z",
     "start_time": "2024-08-12T11:06:41.553613Z"
    }
   },
   "cell_type": "code",
   "source": "d.replace(\"J\",\"M\")",
   "id": "a11ad665c207abf2",
   "outputs": [
    {
     "data": {
      "text/plain": [
       "'  Mohn  Doe  '"
      ]
     },
     "execution_count": 74,
     "metadata": {},
     "output_type": "execute_result"
    }
   ],
   "execution_count": 74
  },
  {
   "metadata": {},
   "cell_type": "markdown",
   "source": [
    "Ques:- a = \"We all are part of this string\"\n",
    "1. Normalize all the string in lower case\n",
    "2. Find number of occurrences of \"a\" in entire string\n",
    "3. Find all the location/ indexes of \"a\" in string\n",
    "4. Replace all the \"a\" with \"A\"\n",
    "5. print all the word as a list"
   ],
   "id": "cf058fbab1c78465"
  },
  {
   "metadata": {
    "ExecuteTime": {
     "end_time": "2024-08-12T11:09:49.774693Z",
     "start_time": "2024-08-12T11:09:49.759702Z"
    }
   },
   "cell_type": "code",
   "source": [
    "a = \"We all are part of this string\"\n",
    "a.lower()\n",
    "a.count(\"a\")\n"
   ],
   "id": "2b4431e1b38212c4",
   "outputs": [],
   "execution_count": 80
  },
  {
   "metadata": {
    "ExecuteTime": {
     "end_time": "2024-08-12T11:12:30.594166Z",
     "start_time": "2024-08-12T11:12:30.574995Z"
    }
   },
   "cell_type": "code",
   "source": [
    "l = list()\n",
    "for i in range(len(a)):\n",
    "    if a[i] == \"a\":\n",
    "        l.append(i)\n",
    "print(l)"
   ],
   "id": "5034d848a4d5cd4a",
   "outputs": [
    {
     "name": "stdout",
     "output_type": "stream",
     "text": [
      "[3, 7, 12]\n"
     ]
    }
   ],
   "execution_count": 86
  },
  {
   "metadata": {
    "ExecuteTime": {
     "end_time": "2024-08-12T11:12:58.550502Z",
     "start_time": "2024-08-12T11:12:58.543162Z"
    }
   },
   "cell_type": "code",
   "source": "a.replace(\"a\",\"A\")",
   "id": "b9fca1945bdcf8ad",
   "outputs": [
    {
     "data": {
      "text/plain": [
       "'We All Are pArt of this string'"
      ]
     },
     "execution_count": 87,
     "metadata": {},
     "output_type": "execute_result"
    }
   ],
   "execution_count": 87
  },
  {
   "metadata": {
    "ExecuteTime": {
     "end_time": "2024-08-12T12:13:31.413294Z",
     "start_time": "2024-08-12T12:13:31.395513Z"
    }
   },
   "cell_type": "code",
   "source": "a.split()",
   "id": "97b1acb625eacc0b",
   "outputs": [
    {
     "ename": "AttributeError",
     "evalue": "'int' object has no attribute 'split'",
     "output_type": "error",
     "traceback": [
      "\u001B[1;31m---------------------------------------------------------------------------\u001B[0m",
      "\u001B[1;31mAttributeError\u001B[0m                            Traceback (most recent call last)",
      "Cell \u001B[1;32mIn[138], line 1\u001B[0m\n\u001B[1;32m----> 1\u001B[0m \u001B[43ma\u001B[49m\u001B[38;5;241;43m.\u001B[39;49m\u001B[43msplit\u001B[49m()\n",
      "\u001B[1;31mAttributeError\u001B[0m: 'int' object has no attribute 'split'"
     ]
    }
   ],
   "execution_count": 138
  },
  {
   "metadata": {
    "ExecuteTime": {
     "end_time": "2024-08-12T12:13:29.638084Z",
     "start_time": "2024-08-12T12:13:29.608906Z"
    }
   },
   "cell_type": "code",
   "source": [
    "for i in range(1,len(a)):\n",
    "    print(a[-i], end=\"\")"
   ],
   "id": "9e433416ebddbea8",
   "outputs": [
    {
     "ename": "TypeError",
     "evalue": "object of type 'int' has no len()",
     "output_type": "error",
     "traceback": [
      "\u001B[1;31m---------------------------------------------------------------------------\u001B[0m",
      "\u001B[1;31mTypeError\u001B[0m                                 Traceback (most recent call last)",
      "Cell \u001B[1;32mIn[137], line 1\u001B[0m\n\u001B[1;32m----> 1\u001B[0m \u001B[38;5;28;01mfor\u001B[39;00m i \u001B[38;5;129;01min\u001B[39;00m \u001B[38;5;28mrange\u001B[39m(\u001B[38;5;241m1\u001B[39m,\u001B[38;5;28;43mlen\u001B[39;49m\u001B[43m(\u001B[49m\u001B[43ma\u001B[49m\u001B[43m)\u001B[49m):\n\u001B[0;32m      2\u001B[0m     \u001B[38;5;28mprint\u001B[39m(a[\u001B[38;5;241m-\u001B[39mi], end\u001B[38;5;241m=\u001B[39m\u001B[38;5;124m\"\u001B[39m\u001B[38;5;124m\"\u001B[39m)\n",
      "\u001B[1;31mTypeError\u001B[0m: object of type 'int' has no len()"
     ]
    }
   ],
   "execution_count": 137
  },
  {
   "metadata": {
    "ExecuteTime": {
     "end_time": "2024-08-12T11:20:26.365954Z",
     "start_time": "2024-08-12T11:20:26.347193Z"
    }
   },
   "cell_type": "code",
   "source": [
    "name = \"Armaan singh bhau\"\n",
    "vowels = \"aeiouAEIOU\"\n",
    "for i in name:\n",
    "    if i in vowels:\n",
    "        print(\"{} is a vowels\".format(i))\n",
    "    else:\n",
    "        print(\"{} is not a vowel\".format(i))"
   ],
   "id": "657e098f9058339e",
   "outputs": [
    {
     "name": "stdout",
     "output_type": "stream",
     "text": [
      "A is a vowels\n",
      "r is not a vowel\n",
      "m is not a vowel\n",
      "a is a vowels\n",
      "a is a vowels\n",
      "n is not a vowel\n",
      "  is not a vowel\n",
      "s is not a vowel\n",
      "i is a vowels\n",
      "n is not a vowel\n",
      "g is not a vowel\n",
      "h is not a vowel\n",
      "  is not a vowel\n",
      "b is not a vowel\n",
      "h is not a vowel\n",
      "a is a vowels\n",
      "u is a vowels\n"
     ]
    }
   ],
   "execution_count": 100
  },
  {
   "metadata": {},
   "cell_type": "markdown",
   "source": "## check palindrome",
   "id": "5d2b963079eba1c5"
  },
  {
   "metadata": {
    "ExecuteTime": {
     "end_time": "2024-08-12T11:46:41.024426Z",
     "start_time": "2024-08-12T11:46:33.049072Z"
    }
   },
   "cell_type": "code",
   "source": [
    "s = input(\"Enter a string: \")\n",
    "s1 = s[::-1]\n",
    "if s == s1:\n",
    "    print(\"The string is palindrome\")\n",
    "else:\n",
    "    print(\"The string is not palindrome\")"
   ],
   "id": "9ed4d49afd8fd36d",
   "outputs": [
    {
     "name": "stdout",
     "output_type": "stream",
     "text": [
      "The string is palindrome\n"
     ]
    }
   ],
   "execution_count": 101
  },
  {
   "metadata": {
    "ExecuteTime": {
     "end_time": "2024-08-12T11:53:42.968959Z",
     "start_time": "2024-08-12T11:53:42.961285Z"
    }
   },
   "cell_type": "code",
   "source": "print(\"My first name is {a} and last name is {b}\".format(a=\"John\", b=\"Doe\"))",
   "id": "f9e2237d90a2eec7",
   "outputs": [
    {
     "name": "stdout",
     "output_type": "stream",
     "text": [
      "My first name is John and last name is Doe\n"
     ]
    }
   ],
   "execution_count": 103
  },
  {
   "metadata": {
    "ExecuteTime": {
     "end_time": "2024-08-12T11:51:38.799212Z",
     "start_time": "2024-08-12T11:51:38.779434Z"
    }
   },
   "cell_type": "code",
   "source": [
    "s = \"John\"\n",
    "s = list(s)\n",
    "s"
   ],
   "id": "b73fc50041e1bed8",
   "outputs": [
    {
     "data": {
      "text/plain": [
       "['J', 'o', 'h', 'n']"
      ]
     },
     "execution_count": 102,
     "metadata": {},
     "output_type": "execute_result"
    }
   ],
   "execution_count": 102
  },
  {
   "metadata": {
    "ExecuteTime": {
     "end_time": "2024-08-12T11:54:39.604029Z",
     "start_time": "2024-08-12T11:54:39.584887Z"
    }
   },
   "cell_type": "code",
   "source": "4 and 8",
   "id": "1a961a783583e030",
   "outputs": [
    {
     "data": {
      "text/plain": [
       "8"
      ]
     },
     "execution_count": 105,
     "metadata": {},
     "output_type": "execute_result"
    }
   ],
   "execution_count": 105
  },
  {
   "metadata": {
    "ExecuteTime": {
     "end_time": "2024-08-12T12:08:27.140021Z",
     "start_time": "2024-08-12T12:08:27.129830Z"
    }
   },
   "cell_type": "code",
   "source": [
    "s = \"My first name is John and last name is Doe\"\n",
    "a = s.find(\"name\")\n",
    "b =  a + len(\"name\")\n",
    "s.find(\"name\", b)\n"
   ],
   "id": "bec134e86adccc8f",
   "outputs": [
    {
     "data": {
      "text/plain": [
       "31"
      ]
     },
     "execution_count": 122,
     "metadata": {},
     "output_type": "execute_result"
    }
   ],
   "execution_count": 122
  },
  {
   "metadata": {
    "ExecuteTime": {
     "end_time": "2024-08-12T12:47:57.578911Z",
     "start_time": "2024-08-12T12:47:57.572178Z"
    }
   },
   "cell_type": "code",
   "source": [
    "l = [1,2,3,4]\n",
    "l.append(5)\n",
    "l"
   ],
   "id": "fbcb1764e18b871a",
   "outputs": [
    {
     "data": {
      "text/plain": [
       "[1, 2, 3, 4, 5]"
      ]
     },
     "execution_count": 139,
     "metadata": {},
     "output_type": "execute_result"
    }
   ],
   "execution_count": 139
  },
  {
   "metadata": {
    "ExecuteTime": {
     "end_time": "2024-08-12T12:48:42.224729Z",
     "start_time": "2024-08-12T12:48:42.209991Z"
    }
   },
   "cell_type": "code",
   "source": [
    "l.extend([5,6,7])\n",
    "l"
   ],
   "id": "d8ba640a98a25865",
   "outputs": [
    {
     "data": {
      "text/plain": [
       "[1, 2, 3, 4, 5, 5, 6, 7]"
      ]
     },
     "execution_count": 140,
     "metadata": {},
     "output_type": "execute_result"
    }
   ],
   "execution_count": 140
  },
  {
   "metadata": {
    "ExecuteTime": {
     "end_time": "2024-08-12T12:48:52.281354Z",
     "start_time": "2024-08-12T12:48:52.273073Z"
    }
   },
   "cell_type": "code",
   "source": [
    "l.extend(\"John\")\n",
    "l"
   ],
   "id": "360ff0745cc71d25",
   "outputs": [
    {
     "data": {
      "text/plain": [
       "[1, 2, 3, 4, 5, 5, 6, 7, 'J', 'o', 'h', 'n']"
      ]
     },
     "execution_count": 141,
     "metadata": {},
     "output_type": "execute_result"
    }
   ],
   "execution_count": 141
  },
  {
   "metadata": {
    "ExecuteTime": {
     "end_time": "2024-08-12T12:57:15.777478Z",
     "start_time": "2024-08-12T12:57:15.765478Z"
    }
   },
   "cell_type": "code",
   "source": "l.index('o')",
   "id": "c1e4cecfcdad36ab",
   "outputs": [
    {
     "data": {
      "text/plain": [
       "9"
      ]
     },
     "execution_count": 143,
     "metadata": {},
     "output_type": "execute_result"
    }
   ],
   "execution_count": 143
  },
  {
   "metadata": {
    "ExecuteTime": {
     "end_time": "2024-08-12T12:57:24.853490Z",
     "start_time": "2024-08-12T12:57:24.840094Z"
    }
   },
   "cell_type": "code",
   "source": "l.pop()",
   "id": "ee03924b99db0369",
   "outputs": [
    {
     "data": {
      "text/plain": [
       "'n'"
      ]
     },
     "execution_count": 144,
     "metadata": {},
     "output_type": "execute_result"
    }
   ],
   "execution_count": 144
  },
  {
   "metadata": {
    "ExecuteTime": {
     "end_time": "2024-08-12T12:57:27.864627Z",
     "start_time": "2024-08-12T12:57:27.857670Z"
    }
   },
   "cell_type": "code",
   "source": "l",
   "id": "ab223bdd68066da2",
   "outputs": [
    {
     "data": {
      "text/plain": [
       "[1, 2, 3, 4, 5, 5, 6, 7, 'J', 'o', 'h']"
      ]
     },
     "execution_count": 145,
     "metadata": {},
     "output_type": "execute_result"
    }
   ],
   "execution_count": 145
  },
  {
   "metadata": {
    "ExecuteTime": {
     "end_time": "2024-08-12T12:58:51.133033Z",
     "start_time": "2024-08-12T12:58:51.123733Z"
    }
   },
   "cell_type": "code",
   "source": "l.pop()",
   "id": "b1a6eafd77420020",
   "outputs": [
    {
     "data": {
      "text/plain": [
       "'n'"
      ]
     },
     "execution_count": 155,
     "metadata": {},
     "output_type": "execute_result"
    }
   ],
   "execution_count": 155
  },
  {
   "metadata": {
    "ExecuteTime": {
     "end_time": "2024-08-12T12:59:06.865942Z",
     "start_time": "2024-08-12T12:59:06.860952Z"
    }
   },
   "cell_type": "code",
   "source": "l.append('n')",
   "id": "824982ad74b05e1b",
   "outputs": [],
   "execution_count": 160
  },
  {
   "metadata": {
    "ExecuteTime": {
     "end_time": "2024-08-12T12:59:09.132061Z",
     "start_time": "2024-08-12T12:59:09.122289Z"
    }
   },
   "cell_type": "code",
   "source": "l",
   "id": "b005f77582704b5d",
   "outputs": [
    {
     "data": {
      "text/plain": [
       "[1, 2, 3, 4, 5, 5, 6, 7, 'J', 'o', 'h', 'n']"
      ]
     },
     "execution_count": 161,
     "metadata": {},
     "output_type": "execute_result"
    }
   ],
   "execution_count": 161
  },
  {
   "metadata": {
    "ExecuteTime": {
     "end_time": "2024-08-12T13:00:40.891448Z",
     "start_time": "2024-08-12T13:00:40.879313Z"
    }
   },
   "cell_type": "code",
   "source": "l = [1,2,3,3,3,3,3]",
   "id": "8ecbb7366379906b",
   "outputs": [],
   "execution_count": 167
  },
  {
   "metadata": {
    "ExecuteTime": {
     "end_time": "2024-08-12T13:00:42.323304Z",
     "start_time": "2024-08-12T13:00:42.312297Z"
    }
   },
   "cell_type": "code",
   "source": "l.remove(3)",
   "id": "fa34eac52978d96f",
   "outputs": [],
   "execution_count": 168
  },
  {
   "metadata": {
    "ExecuteTime": {
     "end_time": "2024-08-12T13:00:43.853845Z",
     "start_time": "2024-08-12T13:00:43.846654Z"
    }
   },
   "cell_type": "code",
   "source": "l",
   "id": "1540c102c3e977d5",
   "outputs": [
    {
     "data": {
      "text/plain": [
       "[1, 2, 3, 3, 3, 3]"
      ]
     },
     "execution_count": 169,
     "metadata": {},
     "output_type": "execute_result"
    }
   ],
   "execution_count": 169
  },
  {
   "metadata": {
    "ExecuteTime": {
     "end_time": "2024-08-12T13:01:06.013921Z",
     "start_time": "2024-08-12T13:01:06.002267Z"
    }
   },
   "cell_type": "code",
   "source": [
    "l.reverse()\n",
    "l"
   ],
   "id": "1650b3fcb7b8e226",
   "outputs": [
    {
     "data": {
      "text/plain": [
       "[3, 3, 3, 3, 2, 1]"
      ]
     },
     "execution_count": 170,
     "metadata": {},
     "output_type": "execute_result"
    }
   ],
   "execution_count": 170
  },
  {
   "metadata": {
    "ExecuteTime": {
     "end_time": "2024-08-12T13:01:51.262416Z",
     "start_time": "2024-08-12T13:01:51.249883Z"
    }
   },
   "cell_type": "code",
   "source": [
    "l = [3,4,2,5,1,6,7]\n",
    "l.sort()\n",
    "l"
   ],
   "id": "f16f866c250a5c97",
   "outputs": [
    {
     "data": {
      "text/plain": [
       "[1, 2, 3, 4, 5, 6, 7]"
      ]
     },
     "execution_count": 172,
     "metadata": {},
     "output_type": "execute_result"
    }
   ],
   "execution_count": 172
  },
  {
   "metadata": {
    "ExecuteTime": {
     "end_time": "2024-08-12T13:06:03.178616Z",
     "start_time": "2024-08-12T13:05:59.303929Z"
    }
   },
   "cell_type": "code",
   "source": "list(input())",
   "id": "3bdde5f3d0bdbb05",
   "outputs": [
    {
     "data": {
      "text/plain": [
       "['1', '2', '3', '4', '5', '6', '7', '8', '9']"
      ]
     },
     "execution_count": 177,
     "metadata": {},
     "output_type": "execute_result"
    }
   ],
   "execution_count": 177
  },
  {
   "metadata": {},
   "cell_type": "markdown",
   "source": "## Ques:- Find the index of string element in the nested list and remove the string ?",
   "id": "e63e228caddbc29c"
  },
  {
   "metadata": {
    "ExecuteTime": {
     "end_time": "2024-08-12T13:07:55.849081Z",
     "start_time": "2024-08-12T13:07:55.838566Z"
    }
   },
   "cell_type": "code",
   "source": [
    "def find_and_remove(nested_list, target_string):\n",
    "    # Iterate over the list and its sublists\n",
    "    for sublist in nested_list:\n",
    "        if target_string in sublist:\n",
    "            # Find the index of the target string in the sublist\n",
    "            index = sublist.index(target_string)\n",
    "            # Remove the string from the sublist\n",
    "            sublist.pop(index)\n",
    "            # Return the position and success message\n",
    "            return (nested_list.index(sublist), index)\n",
    "    \n",
    "    # If the string is not found, return a message indicating so\n",
    "    return \"String not found in the nested list\"\n",
    "\n",
    "# Example usage\n",
    "nested_list = [\n",
    "    ['apple', 'banana', 'cherry'],\n",
    "    ['date', 'fig', 'grape'],\n",
    "    ['honeydew', 'kiwi', 'lemon']\n",
    "]\n",
    "\n",
    "target_string = 'fig'\n",
    "result = find_and_remove(nested_list, target_string)\n",
    "\n",
    "print(\"Updated nested list:\", nested_list)\n",
    "print(\"Result:\", result)\n"
   ],
   "id": "b5a3562e8ef4dd0c",
   "outputs": [
    {
     "name": "stdout",
     "output_type": "stream",
     "text": [
      "Updated nested list: [['apple', 'banana', 'cherry'], ['date', 'grape'], ['honeydew', 'kiwi', 'lemon']]\n",
      "Result: (1, 1)\n"
     ]
    }
   ],
   "execution_count": 178
  },
  {
   "metadata": {},
   "cell_type": "markdown",
   "source": "### Even numbers",
   "id": "48d0f0f33316df9f"
  },
  {
   "metadata": {
    "ExecuteTime": {
     "end_time": "2024-08-12T13:09:29.262809Z",
     "start_time": "2024-08-12T13:09:29.242555Z"
    }
   },
   "cell_type": "code",
   "source": [
    "l = []\n",
    "for i in range(10):\n",
    "    if i%2 == 0:\n",
    "        print(i,end=\" \")"
   ],
   "id": "6b56231c7e700f8d",
   "outputs": [
    {
     "name": "stdout",
     "output_type": "stream",
     "text": [
      "0 2 4 6 8 "
     ]
    }
   ],
   "execution_count": 182
  },
  {
   "metadata": {
    "ExecuteTime": {
     "end_time": "2024-08-12T13:12:35.665278Z",
     "start_time": "2024-08-12T13:12:35.652024Z"
    }
   },
   "cell_type": "code",
   "source": [
    "l = []\n",
    "for i in range(10):\n",
    "    if i%2 != 0:\n",
    "        l.append(\"odd\")\n",
    "    else:\n",
    "        l.append(\"even\")\n",
    "\n",
    "l"
   ],
   "id": "75a8a7e177c14303",
   "outputs": [
    {
     "data": {
      "text/plain": [
       "['even', 'odd', 'even', 'odd', 'even', 'odd', 'even', 'odd', 'even', 'odd']"
      ]
     },
     "execution_count": 188,
     "metadata": {},
     "output_type": "execute_result"
    }
   ],
   "execution_count": 188
  },
  {
   "metadata": {
    "ExecuteTime": {
     "end_time": "2024-08-12T13:13:47.341350Z",
     "start_time": "2024-08-12T13:13:47.325778Z"
    }
   },
   "cell_type": "code",
   "source": [
    "m = []\n",
    "\n",
    "for i in range(3):\n",
    "    m.append([])\n",
    "    for j in range(3):\n",
    "        m[i].append(j)\n",
    "\n",
    "m"
   ],
   "id": "5a46a279e9d88b8b",
   "outputs": [
    {
     "data": {
      "text/plain": [
       "[[0, 1, 2], [0, 1, 2], [0, 1, 2]]"
      ]
     },
     "execution_count": 189,
     "metadata": {},
     "output_type": "execute_result"
    }
   ],
   "execution_count": 189
  },
  {
   "metadata": {
    "ExecuteTime": {
     "end_time": "2024-08-12T13:35:38.255014Z",
     "start_time": "2024-08-12T13:35:38.247124Z"
    }
   },
   "cell_type": "code",
   "source": [
    "%%time\n",
    "l = [1,2,3,3,3,4,5,6,6,7,7,8,8,9]\n",
    "m = set(l)\n",
    "m"
   ],
   "id": "22a47f308c31169d",
   "outputs": [
    {
     "name": "stdout",
     "output_type": "stream",
     "text": [
      "CPU times: total: 0 ns\n",
      "Wall time: 0 ns\n"
     ]
    },
    {
     "data": {
      "text/plain": [
       "{1, 2, 3, 4, 5, 6, 7, 8, 9}"
      ]
     },
     "execution_count": 198,
     "metadata": {},
     "output_type": "execute_result"
    }
   ],
   "execution_count": 198
  },
  {
   "metadata": {
    "ExecuteTime": {
     "end_time": "2024-08-12T13:36:35.092250Z",
     "start_time": "2024-08-12T13:36:35.080372Z"
    }
   },
   "cell_type": "code",
   "source": [
    "%%time\n",
    "for i in range(100000):\n",
    "    continue"
   ],
   "id": "329774d5bdca4172",
   "outputs": [
    {
     "name": "stdout",
     "output_type": "stream",
     "text": [
      "CPU times: total: 0 ns\n",
      "Wall time: 6.3 ms\n"
     ]
    }
   ],
   "execution_count": 199
  },
  {
   "metadata": {
    "ExecuteTime": {
     "end_time": "2024-08-12T13:40:51.974515Z",
     "start_time": "2024-08-12T13:40:51.968895Z"
    }
   },
   "cell_type": "code",
   "source": [
    "def genfi(n):\n",
    "    a = 1\n",
    "    b = 1\n",
    "    for i in range(n):\n",
    "        print(a,end=\" \")\n",
    "        a, b = b, a + b\n",
    "        \n",
    "genfi(10)"
   ],
   "id": "9a5d6cb8bc09fdc4",
   "outputs": [
    {
     "name": "stdout",
     "output_type": "stream",
     "text": [
      "1 1 2 3 5 8 13 21 34 55 "
     ]
    }
   ],
   "execution_count": 205
  },
  {
   "metadata": {},
   "cell_type": "markdown",
   "source": [
    "This approach can lead to unexpected behavior because modifying a list while iterating over it can cause elements to be skipped or processed incorrectly.\n",
    "\n",
    "Behavior:\n",
    "\n",
    "Initial State: x = ['a', 'b', 'c', 'd', 'e', 'f', 'g', 'h', 'i', 'j']\n",
    "<br>\n",
    "Iteration 1:<br>\n",
    "i = 'a'<br>\n",
    "Print 'a'<br>\n",
    "Remove 'a'<br>\n",
    "Updated x = ['b', 'c', 'd', 'e', 'f', 'g', 'h', 'i', 'j']<br>\n",
    "\n",
    "Iteration 2:<br>\n",
    "i = 'b' (Next element after 'a')<br>\n",
    "Print 'b'<br>\n",
    "Remove 'b'<br>\n",
    "Updated x = ['c', 'd', 'e', 'f', 'g', 'h', 'i', 'j']<br>\n",
    "\n",
    "Iteration 3:<br>\n",
    "i = 'c' (Next element after 'b')<br>\n",
    "Print 'c'<br>\n",
    "Remove 'c'<br>\n",
    "Updated x = ['d', 'e', 'f', 'g', 'h', 'i', 'j']<br>\n",
    "\n",
    "The key issue is that elements are being removed during iteration, which shifts subsequent elements. This causes some elements to be skipped because the iteration index does not account for the changes in the list."
   ],
   "id": "52e26745410960d3"
  },
  {
   "metadata": {
    "ExecuteTime": {
     "end_time": "2024-08-12T13:47:24.470289Z",
     "start_time": "2024-08-12T13:47:24.465791Z"
    }
   },
   "cell_type": "code",
   "source": [
    "x = ['a', 'b', 'c', 'd', 'e', 'f', 'g', 'h', 'i', 'j']\n",
    "for i in x:\n",
    "    print(i)\n",
    "    x.remove(i)"
   ],
   "id": "45646e125d74f1d2",
   "outputs": [
    {
     "name": "stdout",
     "output_type": "stream",
     "text": [
      "a\n",
      "c\n",
      "e\n",
      "g\n",
      "i\n"
     ]
    }
   ],
   "execution_count": 208
  },
  {
   "metadata": {
    "ExecuteTime": {
     "end_time": "2024-08-12T13:48:54.535978Z",
     "start_time": "2024-08-12T13:48:54.528763Z"
    }
   },
   "cell_type": "code",
   "source": [
    "for i in enumerate([1,2,3,4,5]):\n",
    "    print(i)"
   ],
   "id": "2131c64debf08e47",
   "outputs": [
    {
     "name": "stdout",
     "output_type": "stream",
     "text": [
      "(0, 1)\n",
      "(1, 2)\n",
      "(2, 3)\n",
      "(3, 4)\n",
      "(4, 5)\n"
     ]
    }
   ],
   "execution_count": 209
  },
  {
   "metadata": {
    "ExecuteTime": {
     "end_time": "2024-08-12T13:49:41.744583Z",
     "start_time": "2024-08-12T13:49:41.738623Z"
    }
   },
   "cell_type": "code",
   "source": [
    "str = \"Armaan\"\n",
    "list(enumerate(str))"
   ],
   "id": "784907f751e45647",
   "outputs": [
    {
     "data": {
      "text/plain": [
       "[(0, 'A'), (1, 'r'), (2, 'm'), (3, 'a'), (4, 'a'), (5, 'n')]"
      ]
     },
     "execution_count": 214,
     "metadata": {},
     "output_type": "execute_result"
    }
   ],
   "execution_count": 214
  },
  {
   "metadata": {},
   "cell_type": "markdown",
   "source": "# Tuples",
   "id": "33e57e1e6e19cbb5"
  },
  {
   "metadata": {
    "ExecuteTime": {
     "end_time": "2024-08-12T14:21:25.770218Z",
     "start_time": "2024-08-12T14:21:25.761763Z"
    }
   },
   "cell_type": "code",
   "source": [
    "t = ()\n",
    "type(t)"
   ],
   "id": "854e7a2632fb43cc",
   "outputs": [
    {
     "data": {
      "text/plain": [
       "tuple"
      ]
     },
     "execution_count": 216,
     "metadata": {},
     "output_type": "execute_result"
    }
   ],
   "execution_count": 216
  },
  {
   "metadata": {
    "ExecuteTime": {
     "end_time": "2024-08-12T14:24:52.521870Z",
     "start_time": "2024-08-12T14:24:52.506500Z"
    }
   },
   "cell_type": "code",
   "source": [
    "t = (1,5,3,8,7,4,5,9)\n",
    "t[0]"
   ],
   "id": "a7e8c29166998e2c",
   "outputs": [
    {
     "data": {
      "text/plain": [
       "1"
      ]
     },
     "execution_count": 229,
     "metadata": {},
     "output_type": "execute_result"
    }
   ],
   "execution_count": 229
  },
  {
   "metadata": {
    "ExecuteTime": {
     "end_time": "2024-08-12T14:24:53.923832Z",
     "start_time": "2024-08-12T14:24:53.914215Z"
    }
   },
   "cell_type": "code",
   "source": "print(len(t))",
   "id": "5f90689d32154233",
   "outputs": [
    {
     "name": "stdout",
     "output_type": "stream",
     "text": [
      "8\n"
     ]
    }
   ],
   "execution_count": 230
  },
  {
   "metadata": {
    "ExecuteTime": {
     "end_time": "2024-08-12T14:24:55.297205Z",
     "start_time": "2024-08-12T14:24:55.285256Z"
    }
   },
   "cell_type": "code",
   "source": "print(max(t))",
   "id": "2f63155ec9259c11",
   "outputs": [
    {
     "name": "stdout",
     "output_type": "stream",
     "text": [
      "9\n"
     ]
    }
   ],
   "execution_count": 231
  },
  {
   "metadata": {
    "ExecuteTime": {
     "end_time": "2024-08-12T14:24:56.651409Z",
     "start_time": "2024-08-12T14:24:56.645590Z"
    }
   },
   "cell_type": "code",
   "source": "print(min(t))",
   "id": "7d0312fdd50b0d40",
   "outputs": [
    {
     "name": "stdout",
     "output_type": "stream",
     "text": [
      "1\n"
     ]
    }
   ],
   "execution_count": 232
  },
  {
   "metadata": {
    "ExecuteTime": {
     "end_time": "2024-08-12T14:24:58.108336Z",
     "start_time": "2024-08-12T14:24:58.093175Z"
    }
   },
   "cell_type": "code",
   "source": "print(sum(t))",
   "id": "b22b18e618eeba69",
   "outputs": [
    {
     "name": "stdout",
     "output_type": "stream",
     "text": [
      "42\n"
     ]
    }
   ],
   "execution_count": 233
  },
  {
   "metadata": {
    "ExecuteTime": {
     "end_time": "2024-08-12T14:24:59.574899Z",
     "start_time": "2024-08-12T14:24:59.562370Z"
    }
   },
   "cell_type": "code",
   "source": "print(sorted(t))",
   "id": "f1ec873fdfdf2101",
   "outputs": [
    {
     "name": "stdout",
     "output_type": "stream",
     "text": [
      "[1, 3, 4, 5, 5, 7, 8, 9]\n"
     ]
    }
   ],
   "execution_count": 234
  },
  {
   "metadata": {
    "ExecuteTime": {
     "end_time": "2024-08-12T14:25:25.255582Z",
     "start_time": "2024-08-12T14:25:25.238510Z"
    }
   },
   "cell_type": "code",
   "source": "print(tuple(reversed(t)))",
   "id": "ade58c0e7974a73b",
   "outputs": [
    {
     "name": "stdout",
     "output_type": "stream",
     "text": [
      "(9, 5, 4, 7, 8, 3, 5, 1)\n"
     ]
    }
   ],
   "execution_count": 236
  },
  {
   "metadata": {},
   "cell_type": "markdown",
   "source": "## Find the Index of an Element in a Tuple",
   "id": "837904b440f22cd2"
  },
  {
   "metadata": {
    "ExecuteTime": {
     "end_time": "2024-08-12T14:28:01.296823Z",
     "start_time": "2024-08-12T14:28:01.278810Z"
    }
   },
   "cell_type": "code",
   "source": [
    "def find_index(t, value):\n",
    "    try:\n",
    "        return t.index(value)\n",
    "    except ValueError:\n",
    "        return -1\n",
    "    \n",
    "print(find_index((1,2,3,4,5),2))\n",
    "print(find_index((1,2,3,4,5),6))\n"
   ],
   "id": "cd116797d102036e",
   "outputs": [
    {
     "name": "stdout",
     "output_type": "stream",
     "text": [
      "1\n",
      "-1\n"
     ]
    }
   ],
   "execution_count": 237
  },
  {
   "metadata": {},
   "cell_type": "markdown",
   "source": "## Find length of each element in the tuple",
   "id": "f8acb6b51a324b8f"
  },
  {
   "metadata": {
    "ExecuteTime": {
     "end_time": "2024-08-12T14:34:43.701036Z",
     "start_time": "2024-08-12T14:34:43.687800Z"
    }
   },
   "cell_type": "code",
   "source": [
    "def lengths_of_element(t):\n",
    "    \n",
    "    # Approach_1\n",
    "    # return tuple(len(x) for x in t)\n",
    "    \n",
    "    # Approach_2\n",
    "    l = []\n",
    "    for i in t:\n",
    "        l.append(len(i))\n",
    "        \n",
    "    return tuple(l)\n",
    "        \n",
    "print(lengths_of_element((\"apple\", \"banana\", \"cherry\")))  \n",
    "print(lengths_of_element((\"cat\", \"dog\", \"elephant\")))     \n",
    "print(lengths_of_element((\"a\", \"bb\", \"ccc\", \"dddd\")))     "
   ],
   "id": "63e1cbe073172e58",
   "outputs": [
    {
     "name": "stdout",
     "output_type": "stream",
     "text": [
      "(5, 6, 6)\n",
      "(3, 3, 8)\n",
      "(1, 2, 3, 4)\n"
     ]
    }
   ],
   "execution_count": 248
  },
  {
   "metadata": {},
   "cell_type": "markdown",
   "source": "## Sum of element in a Tuple",
   "id": "54b066f42a2a57c4"
  },
  {
   "metadata": {
    "ExecuteTime": {
     "end_time": "2024-08-12T14:36:46.227664Z",
     "start_time": "2024-08-12T14:36:46.222183Z"
    }
   },
   "cell_type": "code",
   "source": [
    "def sum_of_elements(t):\n",
    "    total = 0\n",
    "    for i in t:\n",
    "        total += i\n",
    "    return total\n",
    "    \n",
    "print(sum_of_elements((1,2,3,4,5,6,7,8,9,10)))"
   ],
   "id": "b7bd9e40f5b8df43",
   "outputs": [
    {
     "name": "stdout",
     "output_type": "stream",
     "text": [
      "55\n"
     ]
    }
   ],
   "execution_count": 249
  },
  {
   "metadata": {},
   "cell_type": "markdown",
   "source": "## Tuple of squares",
   "id": "ba6e5a0e6155894f"
  },
  {
   "metadata": {
    "ExecuteTime": {
     "end_time": "2024-08-12T14:38:19.289884Z",
     "start_time": "2024-08-12T14:38:19.272280Z"
    }
   },
   "cell_type": "code",
   "source": [
    "def square_of_elements(t):\n",
    "    squares = []\n",
    "    for i in t:\n",
    "        squares.append(i ** 2)\n",
    "    return tuple(squares)\n",
    "\n",
    "print(square_of_elements((1,2,3,4,5,6,7,8,9,10)))"
   ],
   "id": "833b59ba5ffc603a",
   "outputs": [
    {
     "name": "stdout",
     "output_type": "stream",
     "text": [
      "(1, 4, 9, 16, 25, 36, 49, 64, 81, 100)\n"
     ]
    }
   ],
   "execution_count": 250
  },
  {
   "metadata": {},
   "cell_type": "markdown",
   "source": "## Filter even & odd elements",
   "id": "c6c4666c0123e811"
  },
  {
   "metadata": {
    "ExecuteTime": {
     "end_time": "2024-08-12T14:40:15.580021Z",
     "start_time": "2024-08-12T14:40:15.560442Z"
    }
   },
   "cell_type": "code",
   "source": [
    "def even_and_odd(t):\n",
    "    even = []\n",
    "    odd = []\n",
    "    \n",
    "    for i in t:\n",
    "        if i % 2 == 0:\n",
    "            even.append(i)\n",
    "        elif i % 2 == 1:\n",
    "            odd.append(i)\n",
    "        else:\n",
    "            print(\"Not even or odd\")\n",
    "    \n",
    "    return even, odd\n",
    "\n",
    "print(even_and_odd((1,2,3,4,5,6,7,8,9,10)))"
   ],
   "id": "c61daddb0ed1f335",
   "outputs": [
    {
     "name": "stdout",
     "output_type": "stream",
     "text": [
      "([2, 4, 6, 8, 10], [1, 3, 5, 7, 9])\n"
     ]
    }
   ],
   "execution_count": 253
  },
  {
   "metadata": {},
   "cell_type": "markdown",
   "source": "## Concatenate Strings",
   "id": "30de8edc6636393a"
  },
  {
   "metadata": {
    "ExecuteTime": {
     "end_time": "2024-08-12T14:41:57.340137Z",
     "start_time": "2024-08-12T14:41:57.318384Z"
    }
   },
   "cell_type": "code",
   "source": [
    "def concatenate_string(t):\n",
    "    result = \"\"\n",
    "    for i in t:\n",
    "        result += i\n",
    "    return result\n",
    "\n",
    "print(concatenate_string((\"Hello\",\" \",\"World\",\"!\")))"
   ],
   "id": "bb957a412bfdac29",
   "outputs": [
    {
     "name": "stdout",
     "output_type": "stream",
     "text": [
      "Hello World!\n"
     ]
    }
   ],
   "execution_count": 257
  },
  {
   "metadata": {},
   "cell_type": "markdown",
   "source": "## Check for Presence of Value",
   "id": "2fa7b62dad1a30a8"
  },
  {
   "metadata": {
    "ExecuteTime": {
     "end_time": "2024-08-12T14:43:05.607050Z",
     "start_time": "2024-08-12T14:43:05.597520Z"
    }
   },
   "cell_type": "code",
   "source": [
    "def contains_value(t, value):\n",
    "    for x in t:\n",
    "        if x == value:\n",
    "            return True\n",
    "    return False\n",
    "\n",
    "print(contains_value((1,2,3,4,5,6,7,8,9,10),2))"
   ],
   "id": "f70b0985e5197609",
   "outputs": [
    {
     "name": "stdout",
     "output_type": "stream",
     "text": [
      "True\n"
     ]
    }
   ],
   "execution_count": 259
  },
  {
   "metadata": {},
   "cell_type": "markdown",
   "source": "## Find maximum Length of Strings",
   "id": "d7d56dd0b340ccf9"
  },
  {
   "metadata": {
    "ExecuteTime": {
     "end_time": "2024-08-12T14:44:52.310847Z",
     "start_time": "2024-08-12T14:44:52.295734Z"
    }
   },
   "cell_type": "code",
   "source": [
    "def max_length_of_strings(t):\n",
    "    max_length = 0\n",
    "    for i in t:\n",
    "        if len(i) > max_length:\n",
    "            max_length = len(i)\n",
    "    return max_length\n",
    "\n",
    "print(max_length_of_strings((\"apple\", \"banana\", \"cherry\"))) "
   ],
   "id": "343f4f5f97aecf27",
   "outputs": [
    {
     "name": "stdout",
     "output_type": "stream",
     "text": [
      "6\n"
     ]
    }
   ],
   "execution_count": 267
  },
  {
   "metadata": {},
   "cell_type": "markdown",
   "source": "## Extract Unique Element",
   "id": "d3f9ee318a500ab7"
  },
  {
   "metadata": {
    "ExecuteTime": {
     "end_time": "2024-08-12T14:53:22.835144Z",
     "start_time": "2024-08-12T14:53:22.820701Z"
    }
   },
   "cell_type": "code",
   "source": [
    "x = (1,2,2,3,4,5,6,6,7,7,8,8,9)\n",
    "unique = set(x)\n",
    "print(tuple(unique))"
   ],
   "id": "183f9a515c08e010",
   "outputs": [
    {
     "name": "stdout",
     "output_type": "stream",
     "text": [
      "(1, 2, 3, 4, 5, 6, 7, 8, 9)\n"
     ]
    }
   ],
   "execution_count": 273
  },
  {
   "metadata": {},
   "cell_type": "markdown",
   "source": "## Create tuple from list of Tuples",
   "id": "9116c473bb35ead3"
  },
  {
   "metadata": {
    "ExecuteTime": {
     "end_time": "2024-08-12T14:58:12.102633Z",
     "start_time": "2024-08-12T14:58:12.096551Z"
    }
   },
   "cell_type": "code",
   "source": [
    "def create_tuple_from_list(lst):\n",
    "    return tuple(lst)\n",
    "\n",
    "print(create_tuple_from_list([(1, 2), (3, 4), (5, 6)]))  "
   ],
   "id": "a632cfe963045752",
   "outputs": [
    {
     "name": "stdout",
     "output_type": "stream",
     "text": [
      "((1, 2), (3, 4), (5, 6))\n"
     ]
    }
   ],
   "execution_count": 275
  },
  {
   "metadata": {},
   "cell_type": "markdown",
   "source": "## Find the Tuples with Maximum Sum",
   "id": "db3f9c6201c02d76"
  },
  {
   "metadata": {
    "ExecuteTime": {
     "end_time": "2024-08-12T15:00:34.978800Z",
     "start_time": "2024-08-12T15:00:34.959175Z"
    }
   },
   "cell_type": "code",
   "source": [
    "def Tuple_with_Maximum_Sum(t):\n",
    "    max_sum_tuple = max(t, t:sum(t))\n",
    "    return max_sum_tuple\n",
    "\n",
    "print(Tuple_with_Maximum_Sum(((1, 2), (3, 4, 5), (6, 7))))  "
   ],
   "id": "ea9f608f1b01da00",
   "outputs": [
    {
     "ename": "SyntaxError",
     "evalue": "invalid syntax (4080114891.py, line 2)",
     "output_type": "error",
     "traceback": [
      "\u001B[1;36m  Cell \u001B[1;32mIn[277], line 2\u001B[1;36m\u001B[0m\n\u001B[1;33m    max_sum_tuple = max(t, t:sum(t))\u001B[0m\n\u001B[1;37m                            ^\u001B[0m\n\u001B[1;31mSyntaxError\u001B[0m\u001B[1;31m:\u001B[0m invalid syntax\n"
     ]
    }
   ],
   "execution_count": 277
  },
  {
   "metadata": {},
   "cell_type": "markdown",
   "source": "## Find Longest Tuple",
   "id": "fe1a0b65bf95abb5"
  },
  {
   "metadata": {
    "ExecuteTime": {
     "end_time": "2024-08-12T15:02:39.345647Z",
     "start_time": "2024-08-12T15:02:39.337907Z"
    }
   },
   "cell_type": "code",
   "source": [
    "def longest_tuples(t):\n",
    "    return max(t, key=len)\n",
    "\n",
    "print(longest_tuples(((1, 2), (3, 4, 5), (6, ))))"
   ],
   "id": "207d8d0cbdf1fb4c",
   "outputs": [
    {
     "name": "stdout",
     "output_type": "stream",
     "text": [
      "(3, 4, 5)\n"
     ]
    }
   ],
   "execution_count": 280
  },
  {
   "metadata": {},
   "cell_type": "markdown",
   "source": "## Tuple of Tuples Where Each Inner Tuple is Sorted",
   "id": "297e8dbd2a8fe73a"
  },
  {
   "metadata": {
    "ExecuteTime": {
     "end_time": "2024-08-12T15:04:26.113088Z",
     "start_time": "2024-08-12T15:04:26.105916Z"
    }
   },
   "cell_type": "code",
   "source": [
    "def sort_inner_tuples(t):\n",
    "    return tuple(tuple(sorted(inner)) for inner in t)\n",
    "\n",
    "print(sort_inner_tuples(((3, 1, 2), (9, 7, 8), (6, 5)))) "
   ],
   "id": "99f2494af582121e",
   "outputs": [
    {
     "name": "stdout",
     "output_type": "stream",
     "text": [
      "((1, 2, 3), (7, 8, 9), (5, 6))\n"
     ]
    }
   ],
   "execution_count": 281
  },
  {
   "metadata": {},
   "cell_type": "markdown",
   "source": "## Merge Tuples and Remove Duplicates",
   "id": "83670cf4fc35f6c2"
  },
  {
   "metadata": {
    "ExecuteTime": {
     "end_time": "2024-08-12T15:06:57.837499Z",
     "start_time": "2024-08-12T15:06:57.832254Z"
    }
   },
   "cell_type": "code",
   "source": [
    "def merge_and_remove_duplicates(t):\n",
    "    merges = set()\n",
    "    for i in t:\n",
    "        merges.update(i)\n",
    "    return tuple(sorted(merges))\n",
    "\n",
    "print(merge_and_remove_duplicates(((1, 2), (2, 3), (3, 4, 5))))"
   ],
   "id": "9f142eb62892adb4",
   "outputs": [
    {
     "name": "stdout",
     "output_type": "stream",
     "text": [
      "(1, 2, 3, 4, 5)\n"
     ]
    }
   ],
   "execution_count": 283
  },
  {
   "metadata": {},
   "cell_type": "markdown",
   "source": "## Find Tuple Containing All Unique Elements",
   "id": "6b8b6cb4bea6d31b"
  },
  {
   "metadata": {
    "ExecuteTime": {
     "end_time": "2024-08-12T15:31:39.236723Z",
     "start_time": "2024-08-12T15:31:39.230930Z"
    }
   },
   "cell_type": "code",
   "source": [
    "def unique_elements_tuples(t):\n",
    "    \n",
    "    unique_tuples = []\n",
    "    \n",
    "    for i in t:\n",
    "        if(len(i) == len(set(i))):\n",
    "            unique_tuples.append(i)\n",
    "    return tuple(unique_tuples)\n",
    "\n",
    "print(unique_elements_tuples(((1, 2), (2, 2), (3, 4, 5), (4, 4, 5))))"
   ],
   "id": "d02c13443de2970c",
   "outputs": [
    {
     "name": "stdout",
     "output_type": "stream",
     "text": [
      "((1, 2), (3, 4, 5))\n"
     ]
    }
   ],
   "execution_count": 289
  },
  {
   "metadata": {},
   "cell_type": "markdown",
   "source": "## Count Occurrences of Tuples in a List",
   "id": "2226f04fa8e51a0d"
  },
  {
   "metadata": {
    "ExecuteTime": {
     "end_time": "2024-08-12T15:40:53.761288Z",
     "start_time": "2024-08-12T15:40:53.742573Z"
    }
   },
   "cell_type": "code",
   "source": [
    "def count_tuple_occurences(t):\n",
    "    count = {}\n",
    "    \n",
    "    for i in t:\n",
    "        if i in count:\n",
    "            count[i] += 1\n",
    "        else:\n",
    "            count[i] = 1\n",
    "    return count\n",
    "\n",
    "print(count_tuple_occurences(((1, 2), (3, 4), (1, 2), (5, 6), (3, 4))))"
   ],
   "id": "4dcf602eb44c21",
   "outputs": [
    {
     "name": "stdout",
     "output_type": "stream",
     "text": [
      "{(1, 2): 2, (3, 4): 2, (5, 6): 1}\n"
     ]
    }
   ],
   "execution_count": 294
  },
  {
   "metadata": {},
   "cell_type": "markdown",
   "source": "# Sets",
   "id": "96adb91088b42654"
  },
  {
   "metadata": {
    "ExecuteTime": {
     "end_time": "2024-08-12T15:44:38.650833Z",
     "start_time": "2024-08-12T15:44:38.634541Z"
    }
   },
   "cell_type": "code",
   "source": [
    "x = set()\n",
    "type(x)"
   ],
   "id": "b4e28f6f408e4d12",
   "outputs": [
    {
     "data": {
      "text/plain": [
       "set"
      ]
     },
     "execution_count": 295,
     "metadata": {},
     "output_type": "execute_result"
    }
   ],
   "execution_count": 295
  },
  {
   "metadata": {
    "ExecuteTime": {
     "end_time": "2024-08-12T18:10:40.658012Z",
     "start_time": "2024-08-12T18:10:40.636504Z"
    }
   },
   "cell_type": "code",
   "source": [
    "s = {1,2,3,3,3,4,5,6,6,7,7,8,8,9}\n",
    "s"
   ],
   "id": "5caf869e8904dbe",
   "outputs": [
    {
     "data": {
      "text/plain": [
       "{1, 2, 3, 4, 5, 6, 7, 8, 9}"
      ]
     },
     "execution_count": 296,
     "metadata": {},
     "output_type": "execute_result"
    }
   ],
   "execution_count": 296
  },
  {
   "metadata": {
    "ExecuteTime": {
     "end_time": "2024-08-12T18:11:34.884499Z",
     "start_time": "2024-08-12T18:11:34.864976Z"
    }
   },
   "cell_type": "code",
   "source": [
    "my_set = {1,2,3}\n",
    "my_set.add(4)\n",
    "my_set"
   ],
   "id": "a119409ab5d07df9",
   "outputs": [
    {
     "data": {
      "text/plain": [
       "{1, 2, 3, 4}"
      ]
     },
     "execution_count": 298,
     "metadata": {},
     "output_type": "execute_result"
    }
   ],
   "execution_count": 298
  },
  {
   "metadata": {
    "ExecuteTime": {
     "end_time": "2024-08-12T18:11:58.831762Z",
     "start_time": "2024-08-12T18:11:58.825616Z"
    }
   },
   "cell_type": "code",
   "source": [
    "my_set_copy = my_set.copy()\n",
    "my_set_copy"
   ],
   "id": "5aa9809df67a0129",
   "outputs": [
    {
     "data": {
      "text/plain": [
       "{1, 2, 3, 4}"
      ]
     },
     "execution_count": 299,
     "metadata": {},
     "output_type": "execute_result"
    }
   ],
   "execution_count": 299
  },
  {
   "metadata": {
    "ExecuteTime": {
     "end_time": "2024-08-12T18:12:14.159878Z",
     "start_time": "2024-08-12T18:12:14.147189Z"
    }
   },
   "cell_type": "code",
   "source": [
    "s1 = {1, 2, 3}\n",
    "s2 = {3, 4, 5}\n",
    "diff = s1.difference(s2)\n",
    "diff\n"
   ],
   "id": "2b4c2603b4a11789",
   "outputs": [
    {
     "data": {
      "text/plain": [
       "{1, 2}"
      ]
     },
     "execution_count": 300,
     "metadata": {},
     "output_type": "execute_result"
    }
   ],
   "execution_count": 300
  },
  {
   "metadata": {
    "ExecuteTime": {
     "end_time": "2024-08-12T18:15:20.162363Z",
     "start_time": "2024-08-12T18:15:20.152312Z"
    }
   },
   "cell_type": "code",
   "source": [
    "s1 = {1, 2, 3, 4, 5}\n",
    "s2 = {2, 3, 4}\n",
    "s1.difference_update(s2)\n",
    "s1"
   ],
   "id": "64a9c31d4ba9ac4b",
   "outputs": [
    {
     "data": {
      "text/plain": [
       "{1, 5}"
      ]
     },
     "execution_count": 307,
     "metadata": {},
     "output_type": "execute_result"
    }
   ],
   "execution_count": 307
  },
  {
   "metadata": {
    "ExecuteTime": {
     "end_time": "2024-08-12T18:14:06.148850Z",
     "start_time": "2024-08-12T18:14:06.141438Z"
    }
   },
   "cell_type": "code",
   "source": [
    "s = {1,2,3,4,5}\n",
    "s.discard(4)\n",
    "s"
   ],
   "id": "8e64c9f58e63204d",
   "outputs": [
    {
     "data": {
      "text/plain": [
       "{1, 2, 3, 5}"
      ]
     },
     "execution_count": 304,
     "metadata": {},
     "output_type": "execute_result"
    }
   ],
   "execution_count": 304
  },
  {
   "metadata": {
    "ExecuteTime": {
     "end_time": "2024-08-12T18:15:22.173553Z",
     "start_time": "2024-08-12T18:15:22.167330Z"
    }
   },
   "cell_type": "code",
   "source": [
    "s1 = {1, 2, 3}\n",
    "s2 = {2, 3, 4}\n",
    "s1.intersection_update(s2)\n",
    "s1"
   ],
   "id": "2f09afd51a21636",
   "outputs": [
    {
     "data": {
      "text/plain": [
       "{2, 3}"
      ]
     },
     "execution_count": 308,
     "metadata": {},
     "output_type": "execute_result"
    }
   ],
   "execution_count": 308
  },
  {
   "metadata": {
    "ExecuteTime": {
     "end_time": "2024-08-12T18:14:50.161233Z",
     "start_time": "2024-08-12T18:14:50.152946Z"
    }
   },
   "cell_type": "code",
   "source": [
    "s1 = {1, 2, 3}\n",
    "s2 = {2, 3, 4}\n",
    "inter = s1.intersection(s2)\n",
    "inter"
   ],
   "id": "5b97c2d8a6953841",
   "outputs": [
    {
     "data": {
      "text/plain": [
       "{2, 3}"
      ]
     },
     "execution_count": 306,
     "metadata": {},
     "output_type": "execute_result"
    }
   ],
   "execution_count": 306
  },
  {
   "metadata": {
    "ExecuteTime": {
     "end_time": "2024-08-12T18:16:07.236964Z",
     "start_time": "2024-08-12T18:16:07.229072Z"
    }
   },
   "cell_type": "code",
   "source": [
    "s1 = {1, 2, 3}\n",
    "s2 = {4, 5, 6}\n",
    "print(s1.isdisjoint(s2)) # Return True if set has no element in common"
   ],
   "id": "9ca3c383fbf6e3e8",
   "outputs": [
    {
     "name": "stdout",
     "output_type": "stream",
     "text": [
      "True\n"
     ]
    }
   ],
   "execution_count": 310
  },
  {
   "metadata": {
    "ExecuteTime": {
     "end_time": "2024-08-12T18:16:19.771707Z",
     "start_time": "2024-08-12T18:16:19.767230Z"
    }
   },
   "cell_type": "code",
   "source": [
    "s1 = {1, 2}\n",
    "s2 = {1, 2, 3}\n",
    "print(s1.issubset(s2))"
   ],
   "id": "a1302745d5060b4a",
   "outputs": [
    {
     "name": "stdout",
     "output_type": "stream",
     "text": [
      "True\n"
     ]
    }
   ],
   "execution_count": 311
  },
  {
   "metadata": {
    "ExecuteTime": {
     "end_time": "2024-08-12T18:16:35.367334Z",
     "start_time": "2024-08-12T18:16:35.349235Z"
    }
   },
   "cell_type": "code",
   "source": [
    "s1 = {1, 2, 3}\n",
    "s2 = {1, 2}\n",
    "print(s1.issuperset(s2))"
   ],
   "id": "18f3d3080c1df170",
   "outputs": [
    {
     "name": "stdout",
     "output_type": "stream",
     "text": [
      "True\n"
     ]
    }
   ],
   "execution_count": 312
  },
  {
   "metadata": {
    "ExecuteTime": {
     "end_time": "2024-08-12T18:16:52.650214Z",
     "start_time": "2024-08-12T18:16:52.629645Z"
    }
   },
   "cell_type": "code",
   "source": [
    "s = {1, 2, 3}\n",
    "elem = s.pop()\n",
    "elem"
   ],
   "id": "e213b35488008585",
   "outputs": [
    {
     "data": {
      "text/plain": [
       "1"
      ]
     },
     "execution_count": 314,
     "metadata": {},
     "output_type": "execute_result"
    }
   ],
   "execution_count": 314
  },
  {
   "metadata": {
    "ExecuteTime": {
     "end_time": "2024-08-12T18:17:24.451140Z",
     "start_time": "2024-08-12T18:17:24.444769Z"
    }
   },
   "cell_type": "code",
   "source": [
    "s = {1, 2, 3}\n",
    "s.remove(2)\n",
    "s"
   ],
   "id": "609e3fa6985e17d6",
   "outputs": [
    {
     "data": {
      "text/plain": [
       "{1, 3}"
      ]
     },
     "execution_count": 316,
     "metadata": {},
     "output_type": "execute_result"
    }
   ],
   "execution_count": 316
  },
  {
   "metadata": {
    "ExecuteTime": {
     "end_time": "2024-08-12T18:17:39.149476Z",
     "start_time": "2024-08-12T18:17:39.133235Z"
    }
   },
   "cell_type": "code",
   "source": [
    "s1 = {1, 2, 3}\n",
    "s2 = {3, 4, 5}\n",
    "union_set = s1.union(s2)\n",
    "union_set"
   ],
   "id": "57890c840be063d5",
   "outputs": [
    {
     "data": {
      "text/plain": [
       "{1, 2, 3, 4, 5}"
      ]
     },
     "execution_count": 317,
     "metadata": {},
     "output_type": "execute_result"
    }
   ],
   "execution_count": 317
  },
  {
   "metadata": {
    "ExecuteTime": {
     "end_time": "2024-08-12T18:17:50.164158Z",
     "start_time": "2024-08-12T18:17:50.144726Z"
    }
   },
   "cell_type": "code",
   "source": [
    "s1 = {1, 2}\n",
    "s2 = {2, 3, 4}\n",
    "s1.update(s2)\n",
    "s1"
   ],
   "id": "f4f7ad428a70c2e",
   "outputs": [
    {
     "data": {
      "text/plain": [
       "{1, 2, 3, 4}"
      ]
     },
     "execution_count": 318,
     "metadata": {},
     "output_type": "execute_result"
    }
   ],
   "execution_count": 318
  },
  {
   "metadata": {
    "ExecuteTime": {
     "end_time": "2024-08-12T18:18:11.650790Z",
     "start_time": "2024-08-12T18:18:11.642517Z"
    }
   },
   "cell_type": "code",
   "source": [
    "s1 = {1, 2, 3}\n",
    "s2 = {3, 4, 5}\n",
    "s1.symmetric_difference_update(s2)\n",
    "s1"
   ],
   "id": "6da88be5eb847396",
   "outputs": [
    {
     "data": {
      "text/plain": [
       "{1, 2, 4, 5}"
      ]
     },
     "execution_count": 319,
     "metadata": {},
     "output_type": "execute_result"
    }
   ],
   "execution_count": 319
  },
  {
   "metadata": {
    "ExecuteTime": {
     "end_time": "2024-08-12T18:18:27.719834Z",
     "start_time": "2024-08-12T18:18:27.714469Z"
    }
   },
   "cell_type": "code",
   "source": [
    "s1 = {1, 2, 3}\n",
    "s2 = {3, 4, 5}\n",
    "sym_diff = s1.symmetric_difference(s2)\n",
    "sym_diff"
   ],
   "id": "c6806db6f1d018a5",
   "outputs": [
    {
     "data": {
      "text/plain": [
       "{1, 2, 4, 5}"
      ]
     },
     "execution_count": 320,
     "metadata": {},
     "output_type": "execute_result"
    }
   ],
   "execution_count": 320
  },
  {
   "metadata": {},
   "cell_type": "markdown",
   "source": "## Check if element is there or not",
   "id": "a1c0e633ce7355f2"
  },
  {
   "metadata": {
    "ExecuteTime": {
     "end_time": "2024-08-12T18:20:41.212975Z",
     "start_time": "2024-08-12T18:20:41.206091Z"
    }
   },
   "cell_type": "code",
   "source": [
    "s = {1,2,3,4,5}\n",
    "if 3 in s:\n",
    "    print(3,\"in set\")"
   ],
   "id": "f378aa15c4910dfd",
   "outputs": [
    {
     "name": "stdout",
     "output_type": "stream",
     "text": [
      "3 in set\n"
     ]
    }
   ],
   "execution_count": 322
  },
  {
   "metadata": {},
   "cell_type": "markdown",
   "source": "## Find the union of two set",
   "id": "881eb0d8bd3f64a1"
  },
  {
   "metadata": {
    "ExecuteTime": {
     "end_time": "2024-08-12T18:21:51.635767Z",
     "start_time": "2024-08-12T18:21:51.629231Z"
    }
   },
   "cell_type": "code",
   "source": [
    "s1 = {1, 2, 3}\n",
    "s2 = {3, 4, 5}\n",
    "\n",
    "# Approach_1\n",
    "# union_set = s1 | s2\n",
    "\n",
    "# Approach_2\n",
    "s1.union(s2)\n",
    "\n",
    "union_set"
   ],
   "id": "e6794e6ec2e7e56a",
   "outputs": [
    {
     "data": {
      "text/plain": [
       "{1, 2, 3, 4, 5}"
      ]
     },
     "execution_count": 326,
     "metadata": {},
     "output_type": "execute_result"
    }
   ],
   "execution_count": 326
  },
  {
   "metadata": {},
   "cell_type": "markdown",
   "source": "## Find the intersection of two set",
   "id": "16f77c3f49ee39e"
  },
  {
   "metadata": {
    "ExecuteTime": {
     "end_time": "2024-08-12T18:23:43.528007Z",
     "start_time": "2024-08-12T18:23:43.518597Z"
    }
   },
   "cell_type": "code",
   "source": [
    "s1 = {1, 2, 3}\n",
    "s2 = {3, 4, 5}\n",
    "\n",
    "# Approach_1\n",
    "# intersection_set = s1 & s2\n",
    "\n",
    "# Approach_2\n",
    "intersection_set = s1.intersection(s2)\n",
    "\n",
    "intersection_set"
   ],
   "id": "383715e0c8384b4e",
   "outputs": [
    {
     "data": {
      "text/plain": [
       "{3}"
      ]
     },
     "execution_count": 328,
     "metadata": {},
     "output_type": "execute_result"
    }
   ],
   "execution_count": 328
  },
  {
   "metadata": {},
   "cell_type": "markdown",
   "source": "## Check difference between two set",
   "id": "169e8e98b4b50c52"
  },
  {
   "metadata": {
    "ExecuteTime": {
     "end_time": "2024-08-12T18:26:55.460067Z",
     "start_time": "2024-08-12T18:26:55.449832Z"
    }
   },
   "cell_type": "code",
   "source": [
    "s1 = {1, 2, 3}\n",
    "s2 = {3, 4, 5}\n",
    "\n",
    "# Approach_1\n",
    "# difference_set = s1 - s2\n",
    "\n",
    "# Approach_2\n",
    "difference_set = s1.difference(s2)\n",
    "difference_set"
   ],
   "id": "6008e217f361a235",
   "outputs": [
    {
     "data": {
      "text/plain": [
       "{1, 2}"
      ]
     },
     "execution_count": 330,
     "metadata": {},
     "output_type": "execute_result"
    }
   ],
   "execution_count": 330
  },
  {
   "metadata": {},
   "cell_type": "markdown",
   "source": "## Find the symmetric difference",
   "id": "2258135bc8af32b7"
  },
  {
   "metadata": {
    "ExecuteTime": {
     "end_time": "2024-08-12T18:28:27.284198Z",
     "start_time": "2024-08-12T18:28:27.271092Z"
    }
   },
   "cell_type": "code",
   "source": [
    "s1 = {1, 2, 3}\n",
    "s2 = {3, 4, 5}\n",
    "\n",
    "# Approach_1\n",
    "# symmetric_difference_set = s1 ^ s2\n",
    "\n",
    "# Approach_2\n",
    "symmetric_difference_set = s1.symmetric_difference(s2)\n",
    "symmetric_difference_set"
   ],
   "id": "2ac47a06411017f4",
   "outputs": [
    {
     "data": {
      "text/plain": [
       "{1, 2, 4, 5}"
      ]
     },
     "execution_count": 333,
     "metadata": {},
     "output_type": "execute_result"
    }
   ],
   "execution_count": 333
  },
  {
   "metadata": {},
   "cell_type": "markdown",
   "source": "## Checking Subset",
   "id": "7f429da6d55c99df"
  },
  {
   "metadata": {
    "ExecuteTime": {
     "end_time": "2024-08-12T18:29:47.596574Z",
     "start_time": "2024-08-12T18:29:47.586818Z"
    }
   },
   "cell_type": "code",
   "source": [
    "s1 = {1, 2, 3}\n",
    "s2 = {1, 2, 3, 4, 5}\n",
    "\n",
    "if s1.issubset(s2):\n",
    "    print(\"s1 is subset of s2\")"
   ],
   "id": "2d1995ee464d8d60",
   "outputs": [
    {
     "name": "stdout",
     "output_type": "stream",
     "text": [
      "s1 is subset of s2\n"
     ]
    }
   ],
   "execution_count": 337
  },
  {
   "metadata": {
    "ExecuteTime": {
     "end_time": "2024-08-12T18:32:34.704452Z",
     "start_time": "2024-08-12T18:32:34.686134Z"
    }
   },
   "cell_type": "code",
   "source": "my_set",
   "id": "84a6693790498be5",
   "outputs": [
    {
     "data": {
      "text/plain": [
       "{1, 2, 3, 4}"
      ]
     },
     "execution_count": 338,
     "metadata": {},
     "output_type": "execute_result"
    }
   ],
   "execution_count": 338
  },
  {
   "metadata": {
    "ExecuteTime": {
     "end_time": "2024-08-12T18:32:40.552200Z",
     "start_time": "2024-08-12T18:32:40.538071Z"
    }
   },
   "cell_type": "code",
   "source": "my_set.clear()",
   "id": "7ff0eba865d3d1a7",
   "outputs": [],
   "execution_count": 339
  },
  {
   "metadata": {
    "ExecuteTime": {
     "end_time": "2024-08-12T18:32:43.905874Z",
     "start_time": "2024-08-12T18:32:43.890634Z"
    }
   },
   "cell_type": "code",
   "source": "my_set",
   "id": "dd022de316969df8",
   "outputs": [
    {
     "data": {
      "text/plain": [
       "set()"
      ]
     },
     "execution_count": 340,
     "metadata": {},
     "output_type": "execute_result"
    }
   ],
   "execution_count": 340
  },
  {
   "metadata": {},
   "cell_type": "markdown",
   "source": "# Dictionary",
   "id": "d24c4b14b2484738"
  },
  {
   "metadata": {
    "ExecuteTime": {
     "end_time": "2024-08-12T18:45:47.858117Z",
     "start_time": "2024-08-12T18:45:47.850577Z"
    }
   },
   "cell_type": "code",
   "source": [
    "x = {}\n",
    "type(x)"
   ],
   "id": "5b029f4fa8c0a316",
   "outputs": [
    {
     "data": {
      "text/plain": [
       "dict"
      ]
     },
     "execution_count": 343,
     "metadata": {},
     "output_type": "execute_result"
    }
   ],
   "execution_count": 343
  },
  {
   "metadata": {},
   "cell_type": "markdown",
   "source": "## Creates new dictionary",
   "id": "9cde659bfb2e785d"
  },
  {
   "metadata": {
    "ExecuteTime": {
     "end_time": "2024-08-13T06:53:59.852824Z",
     "start_time": "2024-08-13T06:53:59.836679Z"
    }
   },
   "cell_type": "code",
   "source": [
    "d = dict(a=1, b=2, c=3)\n",
    "d"
   ],
   "id": "d714fe14ff59c4a1",
   "outputs": [
    {
     "data": {
      "text/plain": [
       "{'a': 1, 'b': 2, 'c': 3}"
      ]
     },
     "execution_count": 350,
     "metadata": {},
     "output_type": "execute_result"
    }
   ],
   "execution_count": 350
  },
  {
   "metadata": {
    "ExecuteTime": {
     "end_time": "2024-08-13T06:54:49.609347Z",
     "start_time": "2024-08-13T06:54:49.602878Z"
    }
   },
   "cell_type": "code",
   "source": [
    "d_copy = d.copy()\n",
    "d_copy"
   ],
   "id": "6abfcd2e8eab2731",
   "outputs": [
    {
     "data": {
      "text/plain": [
       "{'a': 1, 'b': 2, 'c': 3}"
      ]
     },
     "execution_count": 352,
     "metadata": {},
     "output_type": "execute_result"
    }
   ],
   "execution_count": 352
  },
  {
   "metadata": {
    "ExecuteTime": {
     "end_time": "2024-08-13T06:55:28.883013Z",
     "start_time": "2024-08-13T06:55:28.873939Z"
    }
   },
   "cell_type": "code",
   "source": [
    "d = dict.fromkeys(['a', 'b', 'c'], 0)\n",
    "d"
   ],
   "id": "e3c5927bb952c622",
   "outputs": [
    {
     "data": {
      "text/plain": [
       "{'a': 0, 'b': 0, 'c': 0}"
      ]
     },
     "execution_count": 354,
     "metadata": {},
     "output_type": "execute_result"
    }
   ],
   "execution_count": 354
  },
  {
   "metadata": {
    "ExecuteTime": {
     "end_time": "2024-08-13T06:56:20.775025Z",
     "start_time": "2024-08-13T06:56:20.767195Z"
    }
   },
   "cell_type": "code",
   "source": [
    "keys = d.keys()\n",
    "values = d.values()\n",
    "keys"
   ],
   "id": "1cfa2f7b5b5fe735",
   "outputs": [
    {
     "data": {
      "text/plain": [
       "dict_values([0, 0, 0])"
      ]
     },
     "execution_count": 359,
     "metadata": {},
     "output_type": "execute_result"
    }
   ],
   "execution_count": 359
  },
  {
   "metadata": {
    "ExecuteTime": {
     "end_time": "2024-08-13T06:56:34.368621Z",
     "start_time": "2024-08-13T06:56:34.359598Z"
    }
   },
   "cell_type": "code",
   "source": "values",
   "id": "7bc3066ed5e4c71d",
   "outputs": [
    {
     "data": {
      "text/plain": [
       "dict_values([0, 0, 0])"
      ]
     },
     "execution_count": 360,
     "metadata": {},
     "output_type": "execute_result"
    }
   ],
   "execution_count": 360
  },
  {
   "metadata": {
    "ExecuteTime": {
     "end_time": "2024-08-13T06:57:40.620143Z",
     "start_time": "2024-08-13T06:57:40.611450Z"
    }
   },
   "cell_type": "code",
   "source": [
    "value = d.setdefault('a','default_value')\n",
    "value"
   ],
   "id": "120c5173fb568fa",
   "outputs": [
    {
     "data": {
      "text/plain": [
       "0"
      ]
     },
     "execution_count": 365,
     "metadata": {},
     "output_type": "execute_result"
    }
   ],
   "execution_count": 365
  },
  {
   "metadata": {
    "ExecuteTime": {
     "end_time": "2024-08-13T06:58:10.758630Z",
     "start_time": "2024-08-13T06:58:10.747433Z"
    }
   },
   "cell_type": "code",
   "source": [
    "d.update({'c':3, 'd':4})\n",
    "d"
   ],
   "id": "7d28f217e1c7ac8f",
   "outputs": [
    {
     "data": {
      "text/plain": [
       "{'a': 0, 'b': 0, 'c': 3, 'd': 4}"
      ]
     },
     "execution_count": 366,
     "metadata": {},
     "output_type": "execute_result"
    }
   ],
   "execution_count": 366
  },
  {
   "metadata": {
    "ExecuteTime": {
     "end_time": "2024-08-13T06:58:45.957385Z",
     "start_time": "2024-08-13T06:58:45.949295Z"
    }
   },
   "cell_type": "code",
   "source": [
    "d1 = {'a': 1, 'b': 2}\n",
    "d2 = {'c': 3, 'd': 4}\n",
    "d3 = d1 | d2\n",
    "d3"
   ],
   "id": "c50007d945e2380e",
   "outputs": [
    {
     "data": {
      "text/plain": [
       "{'a': 1, 'b': 2, 'c': 3, 'd': 4}"
      ]
     },
     "execution_count": 367,
     "metadata": {},
     "output_type": "execute_result"
    }
   ],
   "execution_count": 367
  },
  {
   "metadata": {
    "ExecuteTime": {
     "end_time": "2024-08-13T06:59:10.253239Z",
     "start_time": "2024-08-13T06:59:10.245028Z"
    }
   },
   "cell_type": "code",
   "source": [
    "items = d.items()\n",
    "items"
   ],
   "id": "754822205ffbf9de",
   "outputs": [
    {
     "data": {
      "text/plain": [
       "dict_items([('a', 0), ('b', 0), ('c', 3), ('d', 4)])"
      ]
     },
     "execution_count": 368,
     "metadata": {},
     "output_type": "execute_result"
    }
   ],
   "execution_count": 368
  },
  {
   "metadata": {
    "ExecuteTime": {
     "end_time": "2024-08-13T06:59:24.620247Z",
     "start_time": "2024-08-13T06:59:24.610454Z"
    }
   },
   "cell_type": "code",
   "source": [
    "keys = d.keys()\n",
    "keys"
   ],
   "id": "471651e47f96b82c",
   "outputs": [
    {
     "data": {
      "text/plain": [
       "dict_keys(['a', 'b', 'c', 'd'])"
      ]
     },
     "execution_count": 369,
     "metadata": {},
     "output_type": "execute_result"
    }
   ],
   "execution_count": 369
  },
  {
   "metadata": {
    "ExecuteTime": {
     "end_time": "2024-08-13T06:59:48.853441Z",
     "start_time": "2024-08-13T06:59:48.846212Z"
    }
   },
   "cell_type": "code",
   "source": [
    "values = d.values()\n",
    "values"
   ],
   "id": "b449eda72045177c",
   "outputs": [
    {
     "data": {
      "text/plain": [
       "dict_values([0, 0, 3, 4])"
      ]
     },
     "execution_count": 371,
     "metadata": {},
     "output_type": "execute_result"
    }
   ],
   "execution_count": 371
  },
  {
   "metadata": {
    "ExecuteTime": {
     "end_time": "2024-08-13T07:01:10.268556Z",
     "start_time": "2024-08-13T07:01:10.249833Z"
    }
   },
   "cell_type": "code",
   "source": [
    "d1 = {'a': 1, 'b': 2}\n",
    "d2 = {'c': 3, 'd': 4}\n",
    "intersection = d1 & d2\n",
    "intersection"
   ],
   "id": "751786374fe7c408",
   "outputs": [
    {
     "ename": "TypeError",
     "evalue": "unsupported operand type(s) for &: 'dict' and 'dict'",
     "output_type": "error",
     "traceback": [
      "\u001B[1;31m---------------------------------------------------------------------------\u001B[0m",
      "\u001B[1;31mTypeError\u001B[0m                                 Traceback (most recent call last)",
      "Cell \u001B[1;32mIn[375], line 3\u001B[0m\n\u001B[0;32m      1\u001B[0m d1 \u001B[38;5;241m=\u001B[39m {\u001B[38;5;124m'\u001B[39m\u001B[38;5;124ma\u001B[39m\u001B[38;5;124m'\u001B[39m: \u001B[38;5;241m1\u001B[39m, \u001B[38;5;124m'\u001B[39m\u001B[38;5;124mb\u001B[39m\u001B[38;5;124m'\u001B[39m: \u001B[38;5;241m2\u001B[39m}\n\u001B[0;32m      2\u001B[0m d2 \u001B[38;5;241m=\u001B[39m {\u001B[38;5;124m'\u001B[39m\u001B[38;5;124mc\u001B[39m\u001B[38;5;124m'\u001B[39m: \u001B[38;5;241m3\u001B[39m, \u001B[38;5;124m'\u001B[39m\u001B[38;5;124md\u001B[39m\u001B[38;5;124m'\u001B[39m: \u001B[38;5;241m4\u001B[39m}\n\u001B[1;32m----> 3\u001B[0m intersection \u001B[38;5;241m=\u001B[39m \u001B[43md1\u001B[49m\u001B[43m \u001B[49m\u001B[38;5;241;43m&\u001B[39;49m\u001B[43m \u001B[49m\u001B[43md2\u001B[49m\n\u001B[0;32m      4\u001B[0m intersection\n",
      "\u001B[1;31mTypeError\u001B[0m: unsupported operand type(s) for &: 'dict' and 'dict'"
     ]
    }
   ],
   "execution_count": 375
  },
  {
   "metadata": {
    "ExecuteTime": {
     "end_time": "2024-08-13T07:01:36.028061Z",
     "start_time": "2024-08-13T07:01:36.011170Z"
    }
   },
   "cell_type": "code",
   "source": [
    "symmetric_diff = d1 ^ d2\n",
    "symmetric_diff"
   ],
   "id": "443d3ca7a723941b",
   "outputs": [
    {
     "ename": "TypeError",
     "evalue": "unsupported operand type(s) for ^: 'dict' and 'dict'",
     "output_type": "error",
     "traceback": [
      "\u001B[1;31m---------------------------------------------------------------------------\u001B[0m",
      "\u001B[1;31mTypeError\u001B[0m                                 Traceback (most recent call last)",
      "Cell \u001B[1;32mIn[376], line 1\u001B[0m\n\u001B[1;32m----> 1\u001B[0m symmetric_diff \u001B[38;5;241m=\u001B[39m \u001B[43md1\u001B[49m\u001B[43m \u001B[49m\u001B[38;5;241;43m^\u001B[39;49m\u001B[43m \u001B[49m\u001B[43md2\u001B[49m\n\u001B[0;32m      2\u001B[0m symmetric_diff\n",
      "\u001B[1;31mTypeError\u001B[0m: unsupported operand type(s) for ^: 'dict' and 'dict'"
     ]
    }
   ],
   "execution_count": 376
  },
  {
   "metadata": {},
   "cell_type": "markdown",
   "source": "## Create a dictionary in a concise way",
   "id": "db54e2ecdbbaad1b"
  },
  {
   "metadata": {
    "ExecuteTime": {
     "end_time": "2024-08-13T07:02:56.602266Z",
     "start_time": "2024-08-13T07:02:56.582911Z"
    }
   },
   "cell_type": "code",
   "source": [
    "d = {x: x**2 for x in range(10)}\n",
    "d"
   ],
   "id": "aaec6551b2e14583",
   "outputs": [
    {
     "data": {
      "text/plain": [
       "{0: 0, 1: 1, 2: 4, 3: 9, 4: 16, 5: 25, 6: 36, 7: 49, 8: 64, 9: 81}"
      ]
     },
     "execution_count": 379,
     "metadata": {},
     "output_type": "execute_result"
    }
   ],
   "execution_count": 379
  },
  {
   "metadata": {},
   "cell_type": "markdown",
   "source": "## Nested Dictionaries: A dictionary can contain other dictionaries as values",
   "id": "c1e1ec1a76ef6f0b"
  },
  {
   "metadata": {
    "ExecuteTime": {
     "end_time": "2024-08-13T07:04:20.334929Z",
     "start_time": "2024-08-13T07:04:20.326834Z"
    }
   },
   "cell_type": "code",
   "source": [
    "nested_dict = {'outer': {'inner': 1}}\n",
    "nested_dict"
   ],
   "id": "46d37b7536d16b9a",
   "outputs": [
    {
     "data": {
      "text/plain": [
       "{'outer': {'inner': 1}}"
      ]
     },
     "execution_count": 380,
     "metadata": {},
     "output_type": "execute_result"
    }
   ],
   "execution_count": 380
  },
  {
   "metadata": {},
   "cell_type": "markdown",
   "source": "# Questions",
   "id": "5e90f85dcb9572f7"
  },
  {
   "metadata": {},
   "cell_type": "markdown",
   "source": "## Create a dictionary",
   "id": "ae38cfdf709a184f"
  },
  {
   "metadata": {
    "ExecuteTime": {
     "end_time": "2024-08-13T07:06:20.515161Z",
     "start_time": "2024-08-13T07:06:20.506685Z"
    }
   },
   "cell_type": "code",
   "source": [
    "person = {'name': 'John', 'age': 25, 'city': 'New York'}\n",
    "person"
   ],
   "id": "172d46d4272be39f",
   "outputs": [
    {
     "data": {
      "text/plain": [
       "{'name': 'John', 'age': 25, 'city': 'New York'}"
      ]
     },
     "execution_count": 381,
     "metadata": {},
     "output_type": "execute_result"
    }
   ],
   "execution_count": 381
  },
  {
   "metadata": {},
   "cell_type": "markdown",
   "source": "## Access Dictionary Values",
   "id": "5af747a66819e8ca"
  },
  {
   "metadata": {
    "ExecuteTime": {
     "end_time": "2024-08-13T07:06:49.921363Z",
     "start_time": "2024-08-13T07:06:49.911497Z"
    }
   },
   "cell_type": "code",
   "source": [
    "age = person['age']\n",
    "age"
   ],
   "id": "e393dad269c36858",
   "outputs": [
    {
     "data": {
      "text/plain": [
       "25"
      ]
     },
     "execution_count": 382,
     "metadata": {},
     "output_type": "execute_result"
    }
   ],
   "execution_count": 382
  },
  {
   "metadata": {},
   "cell_type": "markdown",
   "source": "## Update Dictionary Values",
   "id": "94c2db4d717c7a3c"
  },
  {
   "metadata": {
    "ExecuteTime": {
     "end_time": "2024-08-13T07:07:27.007403Z",
     "start_time": "2024-08-13T07:07:26.998199Z"
    }
   },
   "cell_type": "code",
   "source": [
    "person['city'] = 'Los Angeles'\n",
    "person"
   ],
   "id": "811a25b2a7a7aa45",
   "outputs": [
    {
     "data": {
      "text/plain": [
       "{'name': 'John', 'age': 25, 'city': 'Los Angeles'}"
      ]
     },
     "execution_count": 383,
     "metadata": {},
     "output_type": "execute_result"
    }
   ],
   "execution_count": 383
  },
  {
   "metadata": {},
   "cell_type": "markdown",
   "source": "## Remove a key-value Pair",
   "id": "85b82358199d12b4"
  },
  {
   "metadata": {},
   "cell_type": "code",
   "source": "del person['city']",
   "id": "1e913a400ef7a802",
   "outputs": [],
   "execution_count": null
  },
  {
   "metadata": {
    "ExecuteTime": {
     "end_time": "2024-08-13T07:08:01.372038Z",
     "start_time": "2024-08-13T07:08:01.364243Z"
    }
   },
   "cell_type": "code",
   "source": "person",
   "id": "d3da9267c0c8dc3b",
   "outputs": [
    {
     "data": {
      "text/plain": [
       "{'name': 'John', 'age': 25}"
      ]
     },
     "execution_count": 386,
     "metadata": {},
     "output_type": "execute_result"
    }
   ],
   "execution_count": 386
  },
  {
   "metadata": {},
   "cell_type": "markdown",
   "source": "## Check if Key Exists",
   "id": "7e99c05298a7c973"
  },
  {
   "metadata": {
    "ExecuteTime": {
     "end_time": "2024-08-13T07:08:45.166049Z",
     "start_time": "2024-08-13T07:08:45.156326Z"
    }
   },
   "cell_type": "code",
   "source": [
    "exists = 'city' in person\n",
    "exists"
   ],
   "id": "31e6154159eed18",
   "outputs": [
    {
     "data": {
      "text/plain": [
       "False"
      ]
     },
     "execution_count": 388,
     "metadata": {},
     "output_type": "execute_result"
    }
   ],
   "execution_count": 388
  },
  {
   "metadata": {},
   "cell_type": "markdown",
   "source": "## Dictionary with Default Values",
   "id": "642286d472ec7ed3"
  },
  {
   "metadata": {
    "ExecuteTime": {
     "end_time": "2024-08-13T07:09:14.254461Z",
     "start_time": "2024-08-13T07:09:14.234314Z"
    }
   },
   "cell_type": "code",
   "source": [
    "d = dict.fromkeys(['a', 'b', 'c'], 0)\n",
    "d"
   ],
   "id": "686d05de553624d",
   "outputs": [
    {
     "data": {
      "text/plain": [
       "{'a': 0, 'b': 0, 'c': 0}"
      ]
     },
     "execution_count": 389,
     "metadata": {},
     "output_type": "execute_result"
    }
   ],
   "execution_count": 389
  },
  {
   "metadata": {},
   "cell_type": "markdown",
   "source": "## Merge Two Dictionaries",
   "id": "503757e6e370d1ad"
  },
  {
   "metadata": {
    "ExecuteTime": {
     "end_time": "2024-08-13T07:09:56.005889Z",
     "start_time": "2024-08-13T07:09:55.990384Z"
    }
   },
   "cell_type": "code",
   "source": [
    "d1 = {'a': 1}\n",
    "d2 = {'b': 2}\n",
    "merged = {**d1, **d2}\n",
    "merged"
   ],
   "id": "186b5a3a8de612b2",
   "outputs": [
    {
     "data": {
      "text/plain": [
       "{'a': 1, 'b': 2}"
      ]
     },
     "execution_count": 390,
     "metadata": {},
     "output_type": "execute_result"
    }
   ],
   "execution_count": 390
  },
  {
   "metadata": {},
   "cell_type": "markdown",
   "source": "## Dictionary Comprehension",
   "id": "9437a23988ea3eaf"
  },
  {
   "metadata": {
    "ExecuteTime": {
     "end_time": "2024-08-13T07:11:51.259196Z",
     "start_time": "2024-08-13T07:11:51.251798Z"
    }
   },
   "cell_type": "code",
   "source": [
    "squares = {x: x**2 for x in range(10)}\n",
    "squares"
   ],
   "id": "f2ea3a94ecfcdeee",
   "outputs": [
    {
     "data": {
      "text/plain": [
       "{0: 0, 1: 1, 2: 4, 3: 9, 4: 16, 5: 25, 6: 36, 7: 49, 8: 64, 9: 81}"
      ]
     },
     "execution_count": 391,
     "metadata": {},
     "output_type": "execute_result"
    }
   ],
   "execution_count": 391
  },
  {
   "metadata": {},
   "cell_type": "markdown",
   "source": "## Get Default Value",
   "id": "f81bc11a6efe6cb3"
  },
  {
   "metadata": {
    "ExecuteTime": {
     "end_time": "2024-08-13T07:12:38.643877Z",
     "start_time": "2024-08-13T07:12:38.633636Z"
    }
   },
   "cell_type": "code",
   "source": [
    "email = person.get('email', 'not_provided')\n",
    "email"
   ],
   "id": "155da0d1ab87ef23",
   "outputs": [
    {
     "data": {
      "text/plain": [
       "'not_provided'"
      ]
     },
     "execution_count": 393,
     "metadata": {},
     "output_type": "execute_result"
    }
   ],
   "execution_count": 393
  },
  {
   "metadata": {},
   "cell_type": "markdown",
   "source": "## Iterate Over Dictionary",
   "id": "efbe119c04beb25f"
  },
  {
   "metadata": {
    "ExecuteTime": {
     "end_time": "2024-08-13T07:13:23.437472Z",
     "start_time": "2024-08-13T07:13:23.431180Z"
    }
   },
   "cell_type": "code",
   "source": [
    "for key, value in person.items():\n",
    "    print(keys, value)"
   ],
   "id": "3c57633009bb8758",
   "outputs": [
    {
     "name": "stdout",
     "output_type": "stream",
     "text": [
      "dict_keys(['a', 'b', 'c', 'd']) John\n",
      "dict_keys(['a', 'b', 'c', 'd']) 25\n"
     ]
    }
   ],
   "execution_count": 394
  },
  {
   "metadata": {},
   "cell_type": "markdown",
   "source": "## Find key with Maximum Value",
   "id": "aaa1e39377689eb8"
  },
  {
   "metadata": {
    "ExecuteTime": {
     "end_time": "2024-08-13T07:14:09.551535Z",
     "start_time": "2024-08-13T07:14:09.543015Z"
    }
   },
   "cell_type": "code",
   "source": [
    "max_key = max(d, key=d.get)\n",
    "max_key"
   ],
   "id": "ea97278a57ed64da",
   "outputs": [
    {
     "data": {
      "text/plain": [
       "'a'"
      ]
     },
     "execution_count": 395,
     "metadata": {},
     "output_type": "execute_result"
    }
   ],
   "execution_count": 395
  },
  {
   "metadata": {},
   "cell_type": "markdown",
   "source": "## Nested Dictionary Access",
   "id": "efa0343bcf7e6cab"
  },
  {
   "metadata": {
    "ExecuteTime": {
     "end_time": "2024-08-13T07:15:45.222654Z",
     "start_time": "2024-08-13T07:15:45.200048Z"
    }
   },
   "cell_type": "code",
   "source": [
    "value = nested_dict['outer']['inner']\n",
    "value"
   ],
   "id": "18ec47d08d616613",
   "outputs": [
    {
     "data": {
      "text/plain": [
       "1"
      ]
     },
     "execution_count": 396,
     "metadata": {},
     "output_type": "execute_result"
    }
   ],
   "execution_count": 396
  },
  {
   "metadata": {},
   "cell_type": "markdown",
   "source": "## Count Occurrences of Keys",
   "id": "36eeef2669342643"
  },
  {
   "metadata": {
    "ExecuteTime": {
     "end_time": "2024-08-13T07:17:21.096534Z",
     "start_time": "2024-08-13T07:17:21.086510Z"
    }
   },
   "cell_type": "code",
   "source": [
    "list_of_dict = [{'a': 1}, {'b': 2}, {'a': 3}]\n",
    "for key in list_of_dict:\n",
    "    print(key)"
   ],
   "id": "acee8a44e7fc1a3c",
   "outputs": [
    {
     "name": "stdout",
     "output_type": "stream",
     "text": [
      "{'a': 1}\n",
      "{'b': 2}\n",
      "{'a': 3}\n"
     ]
    }
   ],
   "execution_count": 397
  },
  {
   "metadata": {},
   "cell_type": "markdown",
   "source": "## Update Dictionary with Another",
   "id": "100a2df8f60c5cdd"
  },
  {
   "metadata": {
    "ExecuteTime": {
     "end_time": "2024-08-13T07:18:45.084405Z",
     "start_time": "2024-08-13T07:18:45.074066Z"
    }
   },
   "cell_type": "code",
   "source": [
    "d1.update({'b':3, 'c':4})\n",
    "d1"
   ],
   "id": "6f5ea691f4a6a6b7",
   "outputs": [
    {
     "data": {
      "text/plain": [
       "{'a': 1, 'b': 3, 'c': 4}"
      ]
     },
     "execution_count": 401,
     "metadata": {},
     "output_type": "execute_result"
    }
   ],
   "execution_count": 401
  },
  {
   "metadata": {},
   "cell_type": "markdown",
   "source": "## Remove Items Based on Condition",
   "id": "c6c7988a499cd162"
  },
  {
   "metadata": {
    "ExecuteTime": {
     "end_time": "2024-08-13T07:27:45.997386Z",
     "start_time": "2024-08-13T07:27:45.991995Z"
    }
   },
   "cell_type": "code",
   "source": [
    "d = {'a': 1, 'b': 2, 'c': 3}\n",
    "new_d = {}\n",
    "for k, v in d.items():\n",
    "    if v <= 1:\n",
    "        new_d[k] = v\n",
    "        \n",
    "print(new_d)"
   ],
   "id": "6658a158396e2e6e",
   "outputs": [
    {
     "name": "stdout",
     "output_type": "stream",
     "text": [
      "{'a': 1}\n"
     ]
    }
   ],
   "execution_count": 404
  },
  {
   "metadata": {},
   "cell_type": "markdown",
   "source": "## Remove Items Based on Value Length",
   "id": "c5a389e1bb6bebf9"
  },
  {
   "metadata": {
    "ExecuteTime": {
     "end_time": "2024-08-13T07:29:53.856959Z",
     "start_time": "2024-08-13T07:29:53.844196Z"
    }
   },
   "cell_type": "code",
   "source": [
    "d = {'a': 'apple', 'b': 'banana', 'c': 'cherry'}\n",
    "new_d = {}\n",
    "for k, v in d.items():\n",
    "    if len(v) <= 5:\n",
    "        new_d[k] = v\n",
    "\n",
    "print(new_d)"
   ],
   "id": "33fb374d4241e61",
   "outputs": [
    {
     "name": "stdout",
     "output_type": "stream",
     "text": [
      "{'a': 'apple'}\n"
     ]
    }
   ],
   "execution_count": 405
  },
  {
   "metadata": {},
   "cell_type": "markdown",
   "source": "## Remove Items Where Value is Even",
   "id": "6fa951393bc1f9ea"
  },
  {
   "metadata": {
    "ExecuteTime": {
     "end_time": "2024-08-13T07:31:03.586304Z",
     "start_time": "2024-08-13T07:31:03.567161Z"
    }
   },
   "cell_type": "code",
   "source": [
    "d = {'a':2, 'b':3, 'c':4}\n",
    "new_d = {}\n",
    "for k, v in d.items():\n",
    "    if v % 2 == 0:\n",
    "        new_d[k] = v\n",
    "\n",
    "print(new_d)"
   ],
   "id": "47b4fb8ec05ae4fd",
   "outputs": [
    {
     "name": "stdout",
     "output_type": "stream",
     "text": [
      "{'a': 2, 'c': 4}\n"
     ]
    }
   ],
   "execution_count": 406
  },
  {
   "metadata": {},
   "cell_type": "markdown",
   "source": "## Remove Items Based on Key",
   "id": "c7e7b6154871d8fe"
  },
  {
   "metadata": {
    "ExecuteTime": {
     "end_time": "2024-08-13T07:32:38.678871Z",
     "start_time": "2024-08-13T07:32:38.669703Z"
    }
   },
   "cell_type": "code",
   "source": [
    "d = {'first': 1, 'second': 2, 'third': 3}\n",
    "new_d = {}\n",
    "for k, v in d.items():\n",
    "    if 'second' not in k:\n",
    "        new_d[k] = v\n",
    "\n",
    "print(new_d)"
   ],
   "id": "d2ebbb2d8b53a218",
   "outputs": [
    {
     "name": "stdout",
     "output_type": "stream",
     "text": [
      "{'first': 1, 'third': 3}\n"
     ]
    }
   ],
   "execution_count": 407
  },
  {
   "metadata": {},
   "cell_type": "markdown",
   "source": "## Remove Items Where Value is a Boolean",
   "id": "f93adbcfdfe978c2"
  },
  {
   "metadata": {
    "ExecuteTime": {
     "end_time": "2024-08-13T07:35:01.986197Z",
     "start_time": "2024-08-13T07:35:01.978396Z"
    }
   },
   "cell_type": "code",
   "source": [
    "d = {'a': True, 'b': False, 'c': 1}\n",
    "new_d = {}\n",
    "for k, v in d.items():\n",
    "    if not isinstance(v, bool):\n",
    "        new_d[k] = v\n",
    "        \n",
    "print(new_d)"
   ],
   "id": "48c62d8f970724f5",
   "outputs": [
    {
     "name": "stdout",
     "output_type": "stream",
     "text": [
      "{'a': True, 'b': False}\n"
     ]
    }
   ],
   "execution_count": 409
  },
  {
   "metadata": {},
   "cell_type": "markdown",
   "source": "## Remove Items Based on Key Value Pair",
   "id": "a087dc87305bf146"
  },
  {
   "metadata": {
    "ExecuteTime": {
     "end_time": "2024-08-13T07:36:21.199034Z",
     "start_time": "2024-08-13T07:36:21.190838Z"
    }
   },
   "cell_type": "code",
   "source": [
    "d = {'a':1, 'b':2, 'c':3}\n",
    "new_d = {}\n",
    "for k, v in d.items():\n",
    "    if not (k == 'a' and v == 1):\n",
    "        new_d[k] = v\n",
    "        \n",
    "print(new_d)"
   ],
   "id": "85faa8b528114ea8",
   "outputs": [
    {
     "name": "stdout",
     "output_type": "stream",
     "text": [
      "{'b': 2, 'c': 3}\n"
     ]
    }
   ],
   "execution_count": 410
  },
  {
   "metadata": {},
   "cell_type": "markdown",
   "source": "## Remove Items Where Value is a Prime Number",
   "id": "8395f1618d3f4350"
  },
  {
   "metadata": {
    "ExecuteTime": {
     "end_time": "2024-08-13T07:39:38.151523Z",
     "start_time": "2024-08-13T07:39:38.131518Z"
    }
   },
   "cell_type": "code",
   "source": [
    "def is_prime(n):\n",
    "    if n <= 1:\n",
    "        return False\n",
    "    for i in range(2, int(n ** 0.5) + 1):\n",
    "        if n % i == 0:\n",
    "            return False\n",
    "    return True\n",
    "    \n",
    "d = {'a':1, 'b':2, 'c':3, 'd':4}\n",
    "new_d = {}\n",
    "for k, v in d.items():\n",
    "    if not is_prime(v):\n",
    "        new_d[k] = v\n",
    "\n",
    "print(new_d)\n",
    "        "
   ],
   "id": "ff330918d3a34217",
   "outputs": [
    {
     "name": "stdout",
     "output_type": "stream",
     "text": [
      "{'a': 1, 'd': 4}\n"
     ]
    }
   ],
   "execution_count": 411
  },
  {
   "metadata": {
    "ExecuteTime": {
     "end_time": "2024-08-13T07:58:19.158835Z",
     "start_time": "2024-08-13T07:58:19.156Z"
    }
   },
   "cell_type": "code",
   "source": "",
   "id": "b60c53f7c83cdece",
   "outputs": [],
   "execution_count": 411
  },
  {
   "metadata": {},
   "cell_type": "code",
   "outputs": [],
   "execution_count": null,
   "source": "",
   "id": "9ed2c870e112b3a3"
  }
 ],
 "metadata": {
  "kernelspec": {
   "display_name": "Python 3",
   "language": "python",
   "name": "python3"
  },
  "language_info": {
   "codemirror_mode": {
    "name": "ipython",
    "version": 2
   },
   "file_extension": ".py",
   "mimetype": "text/x-python",
   "name": "python",
   "nbconvert_exporter": "python",
   "pygments_lexer": "ipython2",
   "version": "2.7.6"
  }
 },
 "nbformat": 4,
 "nbformat_minor": 5
}
