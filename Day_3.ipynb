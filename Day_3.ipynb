{
 "cells": [
  {
   "metadata": {},
   "cell_type": "markdown",
   "source": "# Working with Functions",
   "id": "4a6e70f1d0c90b62"
  },
  {
   "metadata": {},
   "cell_type": "markdown",
   "source": "## Defining a Function",
   "id": "3496e7074e7e3c1b"
  },
  {
   "cell_type": "code",
   "id": "initial_id",
   "metadata": {
    "collapsed": true,
    "ExecuteTime": {
     "end_time": "2024-08-13T08:19:51.411046Z",
     "start_time": "2024-08-13T08:19:51.402528Z"
    }
   },
   "source": [
    "def greet(name):\n",
    "    print(f\"Hello {name}\")"
   ],
   "outputs": [],
   "execution_count": 2
  },
  {
   "metadata": {},
   "cell_type": "markdown",
   "source": "## Calling a Function",
   "id": "d4a6b84d201746ea"
  },
  {
   "metadata": {
    "ExecuteTime": {
     "end_time": "2024-08-13T08:19:53.900724Z",
     "start_time": "2024-08-13T08:19:53.895086Z"
    }
   },
   "cell_type": "code",
   "source": "greet(\"John\")",
   "id": "2d17ab2f5e7e4d81",
   "outputs": [
    {
     "name": "stdout",
     "output_type": "stream",
     "text": [
      "Hello John\n"
     ]
    }
   ],
   "execution_count": 3
  },
  {
   "metadata": {},
   "cell_type": "markdown",
   "source": "## Return Values",
   "id": "f604f6852978d80c"
  },
  {
   "metadata": {
    "ExecuteTime": {
     "end_time": "2024-08-13T08:21:24.595052Z",
     "start_time": "2024-08-13T08:21:24.587691Z"
    }
   },
   "cell_type": "code",
   "source": [
    "def add(a, b):\n",
    "    return a + b\n",
    "\n",
    "result = add(1, 2)"
   ],
   "id": "29a329c0a47e339d",
   "outputs": [],
   "execution_count": 4
  },
  {
   "metadata": {
    "ExecuteTime": {
     "end_time": "2024-08-13T08:21:37.183012Z",
     "start_time": "2024-08-13T08:21:37.176215Z"
    }
   },
   "cell_type": "code",
   "source": "result",
   "id": "43d856dc86b218eb",
   "outputs": [
    {
     "data": {
      "text/plain": [
       "3"
      ]
     },
     "execution_count": 6,
     "metadata": {},
     "output_type": "execute_result"
    }
   ],
   "execution_count": 6
  },
  {
   "metadata": {},
   "cell_type": "markdown",
   "source": "## Default Parameters",
   "id": "62b14ea1cdc20c82"
  },
  {
   "metadata": {
    "ExecuteTime": {
     "end_time": "2024-08-13T08:22:15.274482Z",
     "start_time": "2024-08-13T08:22:15.265623Z"
    }
   },
   "cell_type": "code",
   "source": [
    "def greet(name = \"Guest\"):\n",
    "    print(f\"Hello {name}\")\n",
    "\n",
    "greet()\n",
    "greet(\"John\")"
   ],
   "id": "91d03ad0a547b795",
   "outputs": [
    {
     "name": "stdout",
     "output_type": "stream",
     "text": [
      "Hello Guest\n",
      "Hello John\n"
     ]
    }
   ],
   "execution_count": 7
  },
  {
   "metadata": {},
   "cell_type": "markdown",
   "source": "## Keyword Arguments",
   "id": "34e2767d38c34417"
  },
  {
   "metadata": {
    "ExecuteTime": {
     "end_time": "2024-08-13T08:23:23.142925Z",
     "start_time": "2024-08-13T08:23:23.125424Z"
    }
   },
   "cell_type": "code",
   "source": [
    "def describe_person(name, age):\n",
    "    print(f\"{name} is {age} years old\")\n",
    "    \n",
    "describe_person(age=20, name=\"John\")"
   ],
   "id": "fcba39e7423f3f89",
   "outputs": [
    {
     "name": "stdout",
     "output_type": "stream",
     "text": [
      "John is 20 years old\n"
     ]
    }
   ],
   "execution_count": 8
  },
  {
   "metadata": {},
   "cell_type": "markdown",
   "source": [
    "# Variable-Length Arguments\n",
    "\n",
    "Functions can accept a variable number of arguments using *args for non-keyword arguments and **kwargs for keyword arguments."
   ],
   "id": "91d892d041a4272f"
  },
  {
   "metadata": {
    "ExecuteTime": {
     "end_time": "2024-08-13T08:26:59.098504Z",
     "start_time": "2024-08-13T08:26:59.090645Z"
    }
   },
   "cell_type": "code",
   "source": "",
   "id": "2f269654503bf7ff",
   "outputs": [],
   "execution_count": 8
  },
  {
   "metadata": {
    "ExecuteTime": {
     "end_time": "2024-08-13T08:26:59.451095Z",
     "start_time": "2024-08-13T08:26:59.439078Z"
    }
   },
   "cell_type": "code",
   "source": "",
   "id": "8d686edc59f2ee0d",
   "outputs": [],
   "execution_count": 8
  },
  {
   "metadata": {},
   "cell_type": "markdown",
   "source": "# Common Function Methods and Techniques",
   "id": "1d83f169a8e11bc8"
  },
  {
   "metadata": {},
   "cell_type": "markdown",
   "source": [
    "### Docstrings\n",
    "\n",
    "Functions can have documentation strings (docstrings) that describe what the function does. These are written inside triple quotes right after the function definition."
   ],
   "id": "aa2a78aab4f79ffb"
  },
  {
   "metadata": {
    "ExecuteTime": {
     "end_time": "2024-08-13T08:29:51.127849Z",
     "start_time": "2024-08-13T08:29:51.114402Z"
    }
   },
   "cell_type": "code",
   "source": [
    "def add(a, b):\n",
    "    \"\"\"\n",
    "    Add Two numbers and return the result\n",
    "    \"\"\"\n",
    "    return a + b\n",
    "\n",
    "add(5,5)"
   ],
   "id": "ff433e85f5ed671f",
   "outputs": [
    {
     "data": {
      "text/plain": [
       "10"
      ]
     },
     "execution_count": 11,
     "metadata": {},
     "output_type": "execute_result"
    }
   ],
   "execution_count": 11
  },
  {
   "metadata": {},
   "cell_type": "markdown",
   "source": "### Recursive Functions",
   "id": "b98009006a2ee95e"
  },
  {
   "metadata": {
    "ExecuteTime": {
     "end_time": "2024-08-13T08:29:39.106993Z",
     "start_time": "2024-08-13T08:29:39.099005Z"
    }
   },
   "cell_type": "code",
   "source": [
    "def factorial(n):\n",
    "    if n == 0:\n",
    "        return 1\n",
    "    else:\n",
    "        return n * factorial(n-1)\n",
    "\n",
    "factorial(5)"
   ],
   "id": "d280f344132d1c8",
   "outputs": [
    {
     "data": {
      "text/plain": [
       "120"
      ]
     },
     "execution_count": 9,
     "metadata": {},
     "output_type": "execute_result"
    }
   ],
   "execution_count": 9
  },
  {
   "metadata": {},
   "cell_type": "markdown",
   "source": [
    "### Function Annotations\n",
    "\n",
    "Python allows you to add optional type hints to function parameters and return values."
   ],
   "id": "efc8bad309deb6f5"
  },
  {
   "metadata": {
    "ExecuteTime": {
     "end_time": "2024-08-13T08:30:59.576927Z",
     "start_time": "2024-08-13T08:30:59.564332Z"
    }
   },
   "cell_type": "code",
   "source": [
    "def multiply(x: int, y: int) -> int:\n",
    "    return x * y\n",
    "\n",
    "multiply(5, 5)"
   ],
   "id": "76809867208d1abf",
   "outputs": [
    {
     "data": {
      "text/plain": [
       "25"
      ]
     },
     "execution_count": 16,
     "metadata": {},
     "output_type": "execute_result"
    }
   ],
   "execution_count": 16
  },
  {
   "metadata": {},
   "cell_type": "markdown",
   "source": [
    "### Higher - Order Funtions\n",
    "\n",
    "Functions that accept other functions as arguments or return functions as results."
   ],
   "id": "c7c685d181090525"
  },
  {
   "metadata": {
    "ExecuteTime": {
     "end_time": "2024-08-13T08:31:51.423997Z",
     "start_time": "2024-08-13T08:31:51.413961Z"
    }
   },
   "cell_type": "code",
   "source": [
    "def apply_function(f, value):\n",
    "    return f(value)\n",
    "\n",
    "def square(x):\n",
    "    return x * x\n",
    "\n",
    "result = apply_function(square, 5)\n",
    "result"
   ],
   "id": "ca655c9786892fe4",
   "outputs": [
    {
     "data": {
      "text/plain": [
       "25"
      ]
     },
     "execution_count": 18,
     "metadata": {},
     "output_type": "execute_result"
    }
   ],
   "execution_count": 18
  },
  {
   "metadata": {},
   "cell_type": "markdown",
   "source": [
    "### Nested Functions\n",
    "\n",
    "Functions can be defined within other functions. Inner functions can access variables from the outer function."
   ],
   "id": "66b8ee2499867435"
  },
  {
   "metadata": {
    "ExecuteTime": {
     "end_time": "2024-08-13T08:33:45.157481Z",
     "start_time": "2024-08-13T08:33:45.144740Z"
    }
   },
   "cell_type": "code",
   "source": [
    "def outer_function(x):\n",
    "    def inner_function(y):\n",
    "        return y + x\n",
    "    return inner_function\n",
    "\n",
    "f = outer_function(5)\n",
    "print(f(5))"
   ],
   "id": "b84e3c412e18f5ab",
   "outputs": [
    {
     "name": "stdout",
     "output_type": "stream",
     "text": [
      "10\n"
     ]
    }
   ],
   "execution_count": 21
  },
  {
   "metadata": {},
   "cell_type": "markdown",
   "source": [
    "### Function Decorators\n",
    "Modify the behaviour of a function without changing its code."
   ],
   "id": "847511f4a1d64104"
  },
  {
   "metadata": {
    "ExecuteTime": {
     "end_time": "2024-08-17T05:37:39.612471Z",
     "start_time": "2024-08-17T05:37:39.605043Z"
    }
   },
   "cell_type": "code",
   "source": [
    "def decorator(func):\n",
    "    def wrapper():\n",
    "        print(\"Something is happening before the function.\")\n",
    "        func()\n",
    "        print(\"Something is happening after the function.\")\n",
    "    return wrapper\n",
    "\n",
    "@decorator\n",
    "def say_hello():\n",
    "    print(\"Hello!\")\n",
    "\n",
    "say_hello()"
   ],
   "id": "84fea79d31a93118",
   "outputs": [
    {
     "name": "stdout",
     "output_type": "stream",
     "text": [
      "Something is happening before the function.\n",
      "Hello!\n",
      "Something is happening after the function.\n"
     ]
    }
   ],
   "execution_count": 5
  },
  {
   "metadata": {
    "ExecuteTime": {
     "end_time": "2024-08-13T08:34:51.387269Z",
     "start_time": "2024-08-13T08:34:51.381458Z"
    }
   },
   "cell_type": "code",
   "source": "",
   "id": "c6d7490934e3701b",
   "outputs": [],
   "execution_count": 21
  },
  {
   "metadata": {
    "ExecuteTime": {
     "end_time": "2024-08-17T05:37:42.963633Z",
     "start_time": "2024-08-17T05:37:42.957388Z"
    }
   },
   "cell_type": "code",
   "source": "",
   "id": "dce78c9c1f53666f",
   "outputs": [],
   "execution_count": 5
  },
  {
   "metadata": {
    "ExecuteTime": {
     "end_time": "2024-08-17T05:37:43.217637Z",
     "start_time": "2024-08-17T05:37:43.213874Z"
    }
   },
   "cell_type": "code",
   "source": "",
   "id": "3dd1d231ace77e4b",
   "outputs": [],
   "execution_count": 5
  },
  {
   "metadata": {},
   "cell_type": "code",
   "outputs": [],
   "execution_count": null,
   "source": "",
   "id": "89984aa6ddb64bd3"
  }
 ],
 "metadata": {
  "kernelspec": {
   "display_name": "Python 3",
   "language": "python",
   "name": "python3"
  },
  "language_info": {
   "codemirror_mode": {
    "name": "ipython",
    "version": 2
   },
   "file_extension": ".py",
   "mimetype": "text/x-python",
   "name": "python",
   "nbconvert_exporter": "python",
   "pygments_lexer": "ipython2",
   "version": "2.7.6"
  }
 },
 "nbformat": 4,
 "nbformat_minor": 5
}
