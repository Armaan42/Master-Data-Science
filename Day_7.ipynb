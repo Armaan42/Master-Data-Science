{
 "cells": [
  {
   "metadata": {},
   "cell_type": "markdown",
   "source": [
    "Character - meaning\n",
    " - 'r' - open for reading (default)\n",
    " - 'w' - open for writing, truncating the file first\n",
    " - 'x' - create a new file and open it for writing\n",
    " - 'a' - open for writing, appending to the end of the file if it exists\n",
    " - 'b' - binary mode\n",
    " - 't' - text mode (default)\n",
    " - '+' - open a disk file for updating (reading and writing)\n",
    "\n",
    "The default mode is 'rt' (open for reading text). For binary random access, the mode 'w+b' opens and truncates the file to 0 bytes, while 'r+b' opens the file without truncation. The 'x' mode implies 'w' and raises an FileExistsError if the file already exists."
   ],
   "id": "f1203c39c9b8d31f"
  },
  {
   "cell_type": "code",
   "id": "initial_id",
   "metadata": {
    "collapsed": true,
    "ExecuteTime": {
     "end_time": "2024-08-19T17:44:07.100244Z",
     "start_time": "2024-08-19T17:44:07.092648Z"
    }
   },
   "source": [
    "f = open(\"test.txt\",\"w\")\n",
    "f.write(\"Hello World\")\n",
    "f.close()"
   ],
   "outputs": [],
   "execution_count": 9
  },
  {
   "metadata": {},
   "cell_type": "markdown",
   "source": "Here, the file is opened in read mode (\"r\"), and the f.read() command reads the entire content of the file, which is \"Hello World\".",
   "id": "99f1b4eea13798a1"
  },
  {
   "metadata": {
    "ExecuteTime": {
     "end_time": "2024-08-19T17:45:02.105341Z",
     "start_time": "2024-08-19T17:45:02.096605Z"
    }
   },
   "cell_type": "code",
   "source": [
    "f = open(\"test.txt\",\"r\")\n",
    "f.read()"
   ],
   "id": "ae2c4606c193273b",
   "outputs": [
    {
     "data": {
      "text/plain": [
       "'Hello World'"
      ]
     },
     "execution_count": 10,
     "metadata": {},
     "output_type": "execute_result"
    }
   ],
   "execution_count": 10
  },
  {
   "metadata": {},
   "cell_type": "markdown",
   "source": "After the first f.read() call, the file cursor (or file pointer) is at the end of the file because f.read() reads until the end. When you call f.read() again, it returns an empty string because there's nothing left to read.",
   "id": "1f4f8b3b73c20a26"
  },
  {
   "metadata": {
    "ExecuteTime": {
     "end_time": "2024-08-19T17:45:50.025012Z",
     "start_time": "2024-08-19T17:45:50.008696Z"
    }
   },
   "cell_type": "code",
   "source": "f.read()",
   "id": "4d9ea2398940feb3",
   "outputs": [
    {
     "data": {
      "text/plain": [
       "''"
      ]
     },
     "execution_count": 12,
     "metadata": {},
     "output_type": "execute_result"
    }
   ],
   "execution_count": 12
  },
  {
   "metadata": {},
   "cell_type": "markdown",
   "source": [
    "To address this issue and see the content of the file again, you can either:\n",
    "\n",
    " - Re-open the File: Close and re-open the file to reset the file pointer.\n",
    " - Use seek(): Move the file pointer back to the beginning of the file using f.seek(0)."
   ],
   "id": "89d182605995a6c0"
  },
  {
   "metadata": {
    "ExecuteTime": {
     "end_time": "2024-08-19T17:46:45.156840Z",
     "start_time": "2024-08-19T17:46:45.147841Z"
    }
   },
   "cell_type": "code",
   "source": "f.seek(0)",
   "id": "51608b733d24f832",
   "outputs": [
    {
     "data": {
      "text/plain": [
       "0"
      ]
     },
     "execution_count": 13,
     "metadata": {},
     "output_type": "execute_result"
    }
   ],
   "execution_count": 13
  },
  {
   "metadata": {
    "ExecuteTime": {
     "end_time": "2024-08-19T17:46:49.258964Z",
     "start_time": "2024-08-19T17:46:49.246451Z"
    }
   },
   "cell_type": "code",
   "source": "f.read()",
   "id": "1436e40d5a422bf7",
   "outputs": [
    {
     "data": {
      "text/plain": [
       "'Hello World'"
      ]
     },
     "execution_count": 14,
     "metadata": {},
     "output_type": "execute_result"
    }
   ],
   "execution_count": 14
  },
  {
   "metadata": {},
   "cell_type": "markdown",
   "source": "Attempting to write to a file opened in read mode (\"r\") will raise an error. The file needs to be opened in a mode that allows writing, such as \"w\" (write), \"a\" (append), or \"r+\" (read and write).",
   "id": "93d7457aa4780071"
  },
  {
   "metadata": {
    "ExecuteTime": {
     "end_time": "2024-08-19T17:51:37.158700Z",
     "start_time": "2024-08-19T17:51:37.126702Z"
    }
   },
   "cell_type": "code",
   "source": [
    "f = open(\"test.txt\",\"r\")\n",
    "f.write(\"woene\")"
   ],
   "id": "23674de59a003985",
   "outputs": [
    {
     "ename": "UnsupportedOperation",
     "evalue": "not writable",
     "output_type": "error",
     "traceback": [
      "\u001B[1;31m---------------------------------------------------------------------------\u001B[0m",
      "\u001B[1;31mUnsupportedOperation\u001B[0m                      Traceback (most recent call last)",
      "Cell \u001B[1;32mIn[15], line 2\u001B[0m\n\u001B[0;32m      1\u001B[0m f \u001B[38;5;241m=\u001B[39m \u001B[38;5;28mopen\u001B[39m(\u001B[38;5;124m\"\u001B[39m\u001B[38;5;124mtest.txt\u001B[39m\u001B[38;5;124m\"\u001B[39m,\u001B[38;5;124m\"\u001B[39m\u001B[38;5;124mr\u001B[39m\u001B[38;5;124m\"\u001B[39m)\n\u001B[1;32m----> 2\u001B[0m \u001B[43mf\u001B[49m\u001B[38;5;241;43m.\u001B[39;49m\u001B[43mwrite\u001B[49m\u001B[43m(\u001B[49m\u001B[38;5;124;43m\"\u001B[39;49m\u001B[38;5;124;43mwoene\u001B[39;49m\u001B[38;5;124;43m\"\u001B[39;49m\u001B[43m)\u001B[49m\n",
      "\u001B[1;31mUnsupportedOperation\u001B[0m: not writable"
     ]
    }
   ],
   "execution_count": 15
  },
  {
   "metadata": {},
   "cell_type": "markdown",
   "source": "The f.read(5) method reads up to 5 bytes ",
   "id": "ca2a2dbcbf495857"
  },
  {
   "metadata": {
    "ExecuteTime": {
     "end_time": "2024-08-19T17:53:12.213051Z",
     "start_time": "2024-08-19T17:53:12.201004Z"
    }
   },
   "cell_type": "code",
   "source": "f.read(5)",
   "id": "6cdf1be8b3c4a2d3",
   "outputs": [
    {
     "data": {
      "text/plain": [
       "'Hello'"
      ]
     },
     "execution_count": 16,
     "metadata": {},
     "output_type": "execute_result"
    }
   ],
   "execution_count": 16
  },
  {
   "metadata": {
    "ExecuteTime": {
     "end_time": "2024-08-19T17:58:59.728462Z",
     "start_time": "2024-08-19T17:58:59.701041Z"
    }
   },
   "cell_type": "code",
   "source": [
    "f = open(\"test_1.txt\",\"wb\")\n",
    "f.write(\"Helloji\")"
   ],
   "id": "4a4a10f4f9ef1b97",
   "outputs": [
    {
     "ename": "TypeError",
     "evalue": "a bytes-like object is required, not 'str'",
     "output_type": "error",
     "traceback": [
      "\u001B[1;31m---------------------------------------------------------------------------\u001B[0m",
      "\u001B[1;31mTypeError\u001B[0m                                 Traceback (most recent call last)",
      "Cell \u001B[1;32mIn[18], line 2\u001B[0m\n\u001B[0;32m      1\u001B[0m f \u001B[38;5;241m=\u001B[39m \u001B[38;5;28mopen\u001B[39m(\u001B[38;5;124m\"\u001B[39m\u001B[38;5;124mtest_1.txt\u001B[39m\u001B[38;5;124m\"\u001B[39m,\u001B[38;5;124m\"\u001B[39m\u001B[38;5;124mwb\u001B[39m\u001B[38;5;124m\"\u001B[39m)\n\u001B[1;32m----> 2\u001B[0m \u001B[43mf\u001B[49m\u001B[38;5;241;43m.\u001B[39;49m\u001B[43mwrite\u001B[49m\u001B[43m(\u001B[49m\u001B[38;5;124;43m\"\u001B[39;49m\u001B[38;5;124;43mHelloji\u001B[39;49m\u001B[38;5;124;43m\"\u001B[39;49m\u001B[43m)\u001B[49m\n",
      "\u001B[1;31mTypeError\u001B[0m: a bytes-like object is required, not 'str'"
     ]
    }
   ],
   "execution_count": 18
  },
  {
   "metadata": {},
   "cell_type": "markdown",
   "source": "While writing in the file in binary mode, we need to use bytes-like object b before the string we are writing",
   "id": "10d2e30d98909b77"
  },
  {
   "metadata": {
    "ExecuteTime": {
     "end_time": "2024-08-19T17:59:13.057925Z",
     "start_time": "2024-08-19T17:59:13.038797Z"
    }
   },
   "cell_type": "code",
   "source": "f.write(b\"helloji\")",
   "id": "3449c4867d9b9c7a",
   "outputs": [
    {
     "data": {
      "text/plain": [
       "7"
      ]
     },
     "execution_count": 19,
     "metadata": {},
     "output_type": "execute_result"
    }
   ],
   "execution_count": 19
  },
  {
   "metadata": {
    "ExecuteTime": {
     "end_time": "2024-08-19T17:59:23.814135Z",
     "start_time": "2024-08-19T17:59:23.800919Z"
    }
   },
   "cell_type": "code",
   "source": "f.close()",
   "id": "b4691e6787b5467a",
   "outputs": [],
   "execution_count": 20
  },
  {
   "metadata": {
    "ExecuteTime": {
     "end_time": "2024-08-19T18:01:44.806524Z",
     "start_time": "2024-08-19T18:01:44.790356Z"
    }
   },
   "cell_type": "code",
   "source": [
    "f = open(\"test_1.txt\",\"r\")\n",
    "f.read()"
   ],
   "id": "13c30f03ebcd5ea8",
   "outputs": [
    {
     "data": {
      "text/plain": [
       "'helloji'"
      ]
     },
     "execution_count": 22,
     "metadata": {},
     "output_type": "execute_result"
    }
   ],
   "execution_count": 22
  },
  {
   "metadata": {
    "ExecuteTime": {
     "end_time": "2024-08-19T18:02:12.686986Z",
     "start_time": "2024-08-19T18:02:12.675838Z"
    }
   },
   "cell_type": "code",
   "source": "f.seek(1)",
   "id": "831fe08d1b57f777",
   "outputs": [
    {
     "data": {
      "text/plain": [
       "1"
      ]
     },
     "execution_count": 25,
     "metadata": {},
     "output_type": "execute_result"
    }
   ],
   "execution_count": 25
  },
  {
   "metadata": {
    "ExecuteTime": {
     "end_time": "2024-08-19T18:02:15.820271Z",
     "start_time": "2024-08-19T18:02:15.811731Z"
    }
   },
   "cell_type": "code",
   "source": "f.read(1)",
   "id": "97e544d1ecb1ad0d",
   "outputs": [
    {
     "data": {
      "text/plain": [
       "'e'"
      ]
     },
     "execution_count": 26,
     "metadata": {},
     "output_type": "execute_result"
    }
   ],
   "execution_count": 26
  },
  {
   "metadata": {
    "ExecuteTime": {
     "end_time": "2024-08-19T18:12:16.698929Z",
     "start_time": "2024-08-19T18:12:16.692436Z"
    }
   },
   "cell_type": "code",
   "source": [
    "f = open(\"test.txt\",\"w\")\n",
    "f.write(\"Hello World\\n\")\n",
    "f.close()"
   ],
   "id": "277294b989b49b26",
   "outputs": [],
   "execution_count": 36
  },
  {
   "metadata": {},
   "cell_type": "markdown",
   "source": "### Appending in the file",
   "id": "8013f7f1e9f755ca"
  },
  {
   "metadata": {
    "ExecuteTime": {
     "end_time": "2024-08-19T18:12:48.014287Z",
     "start_time": "2024-08-19T18:12:47.999812Z"
    }
   },
   "cell_type": "code",
   "source": [
    "f = open(\"test.txt\",\"a\")\n",
    "f.write(\"This is second line\\n\")\n",
    "f.write(\"This is third line\\n\")\n",
    "f.write(\"This is fourth line\\n\")\n",
    "f.close()"
   ],
   "id": "9c62a7be25d63106",
   "outputs": [],
   "execution_count": 37
  },
  {
   "metadata": {
    "ExecuteTime": {
     "end_time": "2024-08-19T18:14:29.968788Z",
     "start_time": "2024-08-19T18:14:29.961039Z"
    }
   },
   "cell_type": "code",
   "source": [
    "f = open(\"test.txt\",\"r\")\n",
    "f.readline()"
   ],
   "id": "16f2437f508939a6",
   "outputs": [
    {
     "data": {
      "text/plain": [
       "'Hello World\\n'"
      ]
     },
     "execution_count": 45,
     "metadata": {},
     "output_type": "execute_result"
    }
   ],
   "execution_count": 45
  },
  {
   "metadata": {
    "ExecuteTime": {
     "end_time": "2024-08-19T18:15:28.936355Z",
     "start_time": "2024-08-19T18:15:28.923405Z"
    }
   },
   "cell_type": "code",
   "source": "f.readlines()",
   "id": "8ec43d35cd805bc9",
   "outputs": [
    {
     "data": {
      "text/plain": [
       "[]"
      ]
     },
     "execution_count": 48,
     "metadata": {},
     "output_type": "execute_result"
    }
   ],
   "execution_count": 48
  },
  {
   "metadata": {
    "ExecuteTime": {
     "end_time": "2024-08-19T18:15:34.674418Z",
     "start_time": "2024-08-19T18:15:34.667238Z"
    }
   },
   "cell_type": "code",
   "source": "f.seek(0)",
   "id": "1f3b9b4d63e2150d",
   "outputs": [
    {
     "data": {
      "text/plain": [
       "0"
      ]
     },
     "execution_count": 49,
     "metadata": {},
     "output_type": "execute_result"
    }
   ],
   "execution_count": 49
  },
  {
   "metadata": {
    "ExecuteTime": {
     "end_time": "2024-08-19T18:15:40.631811Z",
     "start_time": "2024-08-19T18:15:40.622527Z"
    }
   },
   "cell_type": "code",
   "source": "f.readlines()",
   "id": "7b127c2f610c338f",
   "outputs": [
    {
     "data": {
      "text/plain": [
       "['Hello World\\n',\n",
       " 'This is second line\\n',\n",
       " 'This is third line\\n',\n",
       " 'This is fourth line\\n']"
      ]
     },
     "execution_count": 50,
     "metadata": {},
     "output_type": "execute_result"
    }
   ],
   "execution_count": 50
  },
  {
   "metadata": {},
   "cell_type": "markdown",
   "source": "The readline function is used to read a single line from a file. When you call readline on a file object, it reads up to and including the newline character (\\n) and returns the line as a string. If the end of the file is reached, readline will return an empty string.",
   "id": "fdc373ef91868881"
  },
  {
   "metadata": {
    "ExecuteTime": {
     "end_time": "2024-08-20T12:51:19.629296Z",
     "start_time": "2024-08-20T12:51:19.618702Z"
    }
   },
   "cell_type": "code",
   "source": [
    "f = open(\"test.txt\",\"r\")\n",
    "f.readline()"
   ],
   "id": "d109576315f7c44a",
   "outputs": [
    {
     "data": {
      "text/plain": [
       "'Hello World\\n'"
      ]
     },
     "execution_count": 51,
     "metadata": {},
     "output_type": "execute_result"
    }
   ],
   "execution_count": 51
  },
  {
   "metadata": {
    "ExecuteTime": {
     "end_time": "2024-08-20T12:51:24.352459Z",
     "start_time": "2024-08-20T12:51:24.346052Z"
    }
   },
   "cell_type": "code",
   "source": "f.readline()",
   "id": "353856d6357a2396",
   "outputs": [
    {
     "data": {
      "text/plain": [
       "'This is second line\\n'"
      ]
     },
     "execution_count": 52,
     "metadata": {},
     "output_type": "execute_result"
    }
   ],
   "execution_count": 52
  },
  {
   "metadata": {
    "ExecuteTime": {
     "end_time": "2024-08-20T12:51:28.391611Z",
     "start_time": "2024-08-20T12:51:28.370007Z"
    }
   },
   "cell_type": "code",
   "source": "f.readline()",
   "id": "e1a7f4680424aeba",
   "outputs": [
    {
     "data": {
      "text/plain": [
       "'This is third line\\n'"
      ]
     },
     "execution_count": 53,
     "metadata": {},
     "output_type": "execute_result"
    }
   ],
   "execution_count": 53
  },
  {
   "metadata": {
    "ExecuteTime": {
     "end_time": "2024-08-20T12:51:34.433690Z",
     "start_time": "2024-08-20T12:51:34.427053Z"
    }
   },
   "cell_type": "code",
   "source": "f.readline()",
   "id": "5e90cafebf0c0fd9",
   "outputs": [
    {
     "data": {
      "text/plain": [
       "'This is fourth line\\n'"
      ]
     },
     "execution_count": 54,
     "metadata": {},
     "output_type": "execute_result"
    }
   ],
   "execution_count": 54
  },
  {
   "metadata": {
    "ExecuteTime": {
     "end_time": "2024-08-20T12:51:38.346129Z",
     "start_time": "2024-08-20T12:51:38.337436Z"
    }
   },
   "cell_type": "code",
   "source": "f.readline()",
   "id": "185c0e803580c2a1",
   "outputs": [
    {
     "data": {
      "text/plain": [
       "''"
      ]
     },
     "execution_count": 55,
     "metadata": {},
     "output_type": "execute_result"
    }
   ],
   "execution_count": 55
  },
  {
   "metadata": {
    "ExecuteTime": {
     "end_time": "2024-08-20T12:54:05.221305Z",
     "start_time": "2024-08-20T12:54:05.211544Z"
    }
   },
   "cell_type": "code",
   "source": [
    "with open(\"test.txt\",\"r\") as file:\n",
    "    first_line = file.readline()\n",
    "    print(\"First Line: \", first_line)\n",
    "    \n",
    "    second_line = file.readline()\n",
    "    print(\"Second Line: \", second_line)\n",
    "    \n",
    "    third_line = file.readline()\n",
    "    print(\"Third Line: \", third_line)\n",
    "    \n",
    "    fourth_line = file.readline()\n",
    "    print(\"Fourth Line: \", fourth_line)\n",
    "    \n",
    "    fifth_line = file.readline()\n",
    "    print(\"Fifth Line: \", fifth_line)\n",
    "    \n",
    "    sixth_line = file.readline()\n",
    "    print(\"Sixth Line: \", sixth_line)"
   ],
   "id": "ae1bde7e29552252",
   "outputs": [
    {
     "name": "stdout",
     "output_type": "stream",
     "text": [
      "First Line:  Hello World\n",
      "\n",
      "Second Line:  This is second line\n",
      "\n",
      "Third Line:  This is third line\n",
      "\n",
      "Fourth Line:  This is fourth line\n",
      "\n",
      "Fifth Line:  \n",
      "Sixth Line:  \n"
     ]
    }
   ],
   "execution_count": 57
  },
  {
   "metadata": {
    "ExecuteTime": {
     "end_time": "2024-08-20T12:57:23.070491Z",
     "start_time": "2024-08-20T12:57:23.055105Z"
    }
   },
   "cell_type": "code",
   "source": "f = open(\"test.txt\",\"r\")",
   "id": "1125d84371dc75fd",
   "outputs": [],
   "execution_count": 59
  },
  {
   "metadata": {
    "ExecuteTime": {
     "end_time": "2024-08-20T12:57:30.030857Z",
     "start_time": "2024-08-20T12:57:30.013826Z"
    }
   },
   "cell_type": "code",
   "source": [
    "for i in f:\n",
    "    print(i)"
   ],
   "id": "59384416d32dd4b5",
   "outputs": [
    {
     "name": "stdout",
     "output_type": "stream",
     "text": [
      "Hello World\n",
      "\n",
      "This is second line\n",
      "\n",
      "This is third line\n",
      "\n",
      "This is fourth line\n",
      "\n"
     ]
    }
   ],
   "execution_count": 60
  },
  {
   "metadata": {
    "ExecuteTime": {
     "end_time": "2024-08-20T13:04:59.035447Z",
     "start_time": "2024-08-20T13:04:59.020167Z"
    }
   },
   "cell_type": "code",
   "source": [
    "lines = [\n",
    "    'This is the first line',\n",
    "    'This is the second line',\n",
    "    'This is the third line',\n",
    "    'This is the fourth line',\n",
    "    'This is the fifth line',\n",
    "]\n",
    "\n",
    "with open(\"example.txt\",\"w\") as file:\n",
    "    for line in lines:\n",
    "        file.writelines(line + \"\\n\")"
   ],
   "id": "9889ea914a690859",
   "outputs": [],
   "execution_count": 69
  },
  {
   "metadata": {},
   "cell_type": "markdown",
   "source": [
    "### fileno\n",
    "\n",
    "The fileno() method gives you a special number called a file descriptor. This number is like an ID for the open file, used by the operating system to keep track of it.\n",
    "\n"
   ],
   "id": "b876e2e0b459ca5c"
  },
  {
   "metadata": {
    "ExecuteTime": {
     "end_time": "2024-08-20T13:07:24.776353Z",
     "start_time": "2024-08-20T13:07:24.754341Z"
    }
   },
   "cell_type": "code",
   "source": "f.fileno()",
   "id": "5a65d3e4a0f82ad0",
   "outputs": [
    {
     "data": {
      "text/plain": [
       "3"
      ]
     },
     "execution_count": 70,
     "metadata": {},
     "output_type": "execute_result"
    }
   ],
   "execution_count": 70
  },
  {
   "metadata": {
    "ExecuteTime": {
     "end_time": "2024-08-20T13:08:17.297929Z",
     "start_time": "2024-08-20T13:08:17.286418Z"
    }
   },
   "cell_type": "code",
   "source": [
    "f = open(\"test.txt\",\"r\")\n",
    "f.readlines()"
   ],
   "id": "483da4f2a84f15bd",
   "outputs": [
    {
     "data": {
      "text/plain": [
       "['Hello World\\n',\n",
       " 'This is second line\\n',\n",
       " 'This is third line\\n',\n",
       " 'This is fourth line\\n']"
      ]
     },
     "execution_count": 71,
     "metadata": {},
     "output_type": "execute_result"
    }
   ],
   "execution_count": 71
  },
  {
   "metadata": {
    "ExecuteTime": {
     "end_time": "2024-08-20T13:10:01.056758Z",
     "start_time": "2024-08-20T13:10:01.044946Z"
    }
   },
   "cell_type": "code",
   "source": "f.fileno()",
   "id": "bf8726cbab85a548",
   "outputs": [
    {
     "data": {
      "text/plain": [
       "4"
      ]
     },
     "execution_count": 76,
     "metadata": {},
     "output_type": "execute_result"
    }
   ],
   "execution_count": 76
  },
  {
   "metadata": {},
   "cell_type": "markdown",
   "source": "The <code>%%writefile</code> magic command is used in Jupyter Notebooks and IPython environments to write content directly to a file. This command allows you to create or overwrite a file with the specified content.",
   "id": "7dc516f68311a949"
  },
  {
   "metadata": {
    "ExecuteTime": {
     "end_time": "2024-08-20T13:11:30.384059Z",
     "start_time": "2024-08-20T13:11:30.342474Z"
    }
   },
   "cell_type": "code",
   "source": [
    "%%writefile test5.txt\n",
    "my name is armaan"
   ],
   "id": "21c0e855a7d5d81e",
   "outputs": [
    {
     "name": "stdout",
     "output_type": "stream",
     "text": [
      "Writing test5.txt\n"
     ]
    }
   ],
   "execution_count": 77
  },
  {
   "metadata": {
    "ExecuteTime": {
     "end_time": "2024-08-20T13:15:15.240613Z",
     "start_time": "2024-08-20T13:15:15.226921Z"
    }
   },
   "cell_type": "code",
   "source": "import os",
   "id": "44bb8e08f37992d8",
   "outputs": [],
   "execution_count": 80
  },
  {
   "metadata": {},
   "cell_type": "markdown",
   "source": "pwd() - current working directory.",
   "id": "885c89b00029a7d9"
  },
  {
   "metadata": {
    "ExecuteTime": {
     "end_time": "2024-08-20T13:15:18.599085Z",
     "start_time": "2024-08-20T13:15:18.580177Z"
    }
   },
   "cell_type": "code",
   "source": "pwd()",
   "id": "df5a72c8a1b36590",
   "outputs": [
    {
     "data": {
      "text/plain": [
       "'C:\\\\Users\\\\ASUS\\\\Documents\\\\Pycharm\\\\pythonProject\\\\Master Data Science'"
      ]
     },
     "execution_count": 81,
     "metadata": {},
     "output_type": "execute_result"
    }
   ],
   "execution_count": 81
  },
  {
   "metadata": {},
   "cell_type": "markdown",
   "source": "getcwd() - get current working currently.",
   "id": "3a86c137226a69c"
  },
  {
   "metadata": {
    "ExecuteTime": {
     "end_time": "2024-08-20T13:15:47.209289Z",
     "start_time": "2024-08-20T13:15:47.203379Z"
    }
   },
   "cell_type": "code",
   "source": "os.getcwd()",
   "id": "6c7e7bd1ff507cd2",
   "outputs": [
    {
     "data": {
      "text/plain": [
       "'C:\\\\Users\\\\ASUS\\\\Documents\\\\Pycharm\\\\pythonProject\\\\Master Data Science'"
      ]
     },
     "execution_count": 82,
     "metadata": {},
     "output_type": "execute_result"
    }
   ],
   "execution_count": 82
  },
  {
   "metadata": {},
   "cell_type": "markdown",
   "source": "The listdir() function is used to get a list of the files and directories in a specified directory",
   "id": "1281e0ae0532151f"
  },
  {
   "metadata": {
    "ExecuteTime": {
     "end_time": "2024-08-20T13:17:18.737660Z",
     "start_time": "2024-08-20T13:17:18.728120Z"
    }
   },
   "cell_type": "code",
   "source": "os.listdir()",
   "id": "450350e533f92620",
   "outputs": [
    {
     "data": {
      "text/plain": [
       "['.idea',\n",
       " '.ipynb_checkpoints',\n",
       " 'Day_1.ipynb',\n",
       " 'Day_2.ipynb',\n",
       " 'Day_3.ipynb',\n",
       " 'Day_4.ipynb',\n",
       " 'Day_5.ipynb',\n",
       " 'Day_6.ipynb',\n",
       " 'Day_7.ipynb',\n",
       " 'example.txt',\n",
       " 'hello.py',\n",
       " 'test.txt',\n",
       " 'test5.txt',\n",
       " 'test_1.txt']"
      ]
     },
     "execution_count": 83,
     "metadata": {},
     "output_type": "execute_result"
    }
   ],
   "execution_count": 83
  },
  {
   "metadata": {
    "ExecuteTime": {
     "end_time": "2024-08-20T13:18:44.896466Z",
     "start_time": "2024-08-20T13:18:44.883282Z"
    }
   },
   "cell_type": "code",
   "source": "os.listdir(\"C:\\\\Users\\\\Asus\\\\Documents\")",
   "id": "50c347af084e5c54",
   "outputs": [
    {
     "data": {
      "text/plain": [
       "['Bitcoin_Blockchain_Logs.txt',\n",
       " 'books',\n",
       " 'coa.docx',\n",
       " 'Custom Office Templates',\n",
       " 'Database1.accdb',\n",
       " 'desktop.ini',\n",
       " 'final_linux_hand_book.docx',\n",
       " 'IntelliJ',\n",
       " 'Microsoft VS Code',\n",
       " 'My Music',\n",
       " 'My Pictures',\n",
       " 'My Videos',\n",
       " 'OneNote Notebooks',\n",
       " 'Pycharm',\n",
       " 'PythonMysqlConnectivity',\n",
       " 'red_hat_system_adminstration_books',\n",
       " 'Tor Browser',\n",
       " 'vscode',\n",
       " 'Web Application Vulnerability Report.pdf',\n",
       " 'WindowsPowerShell',\n",
       " 'Zoom']"
      ]
     },
     "execution_count": 86,
     "metadata": {},
     "output_type": "execute_result"
    }
   ],
   "execution_count": 86
  },
  {
   "metadata": {
    "ExecuteTime": {
     "end_time": "2024-08-20T13:20:03.125690Z",
     "start_time": "2024-08-20T13:20:03.115172Z"
    }
   },
   "cell_type": "code",
   "source": [
    "import os\n",
    "files_and_directory = os.listdir(\"C:\\\\Users\\\\Asus\\\\Documents\")\n",
    "print(\"Contents of current directory: \", files_and_directory)"
   ],
   "id": "1f7e0684a57358d2",
   "outputs": [
    {
     "name": "stdout",
     "output_type": "stream",
     "text": [
      "Contents of current directory:  ['Bitcoin_Blockchain_Logs.txt', 'books', 'coa.docx', 'Custom Office Templates', 'Database1.accdb', 'desktop.ini', 'final_linux_hand_book.docx', 'IntelliJ', 'Microsoft VS Code', 'My Music', 'My Pictures', 'My Videos', 'OneNote Notebooks', 'Pycharm', 'PythonMysqlConnectivity', 'red_hat_system_adminstration_books', 'Tor Browser', 'vscode', 'Web Application Vulnerability Report.pdf', 'WindowsPowerShell', 'Zoom']\n"
     ]
    }
   ],
   "execution_count": 92
  },
  {
   "metadata": {
    "ExecuteTime": {
     "end_time": "2024-08-20T13:21:35.097820Z",
     "start_time": "2024-08-20T13:21:35.079134Z"
    }
   },
   "cell_type": "code",
   "source": "pwd()",
   "id": "cb32f3d9be7f8a24",
   "outputs": [
    {
     "data": {
      "text/plain": [
       "'C:\\\\Users\\\\ASUS\\\\Documents\\\\Pycharm\\\\pythonProject\\\\Master Data Science'"
      ]
     },
     "execution_count": 93,
     "metadata": {},
     "output_type": "execute_result"
    }
   ],
   "execution_count": 93
  },
  {
   "metadata": {
    "ExecuteTime": {
     "end_time": "2024-08-20T13:24:00.438395Z",
     "start_time": "2024-08-20T13:24:00.419785Z"
    }
   },
   "cell_type": "code",
   "source": "os.chdir(\"C:\\\\Users\\\\Asus\\\\Documents\")",
   "id": "7102f713434e2dd",
   "outputs": [],
   "execution_count": 96
  },
  {
   "metadata": {
    "ExecuteTime": {
     "end_time": "2024-08-20T13:24:07.958950Z",
     "start_time": "2024-08-20T13:24:07.940858Z"
    }
   },
   "cell_type": "code",
   "source": "pwd()",
   "id": "845fd057dda3cb76",
   "outputs": [
    {
     "data": {
      "text/plain": [
       "'C:\\\\Users\\\\Asus\\\\Documents'"
      ]
     },
     "execution_count": 97,
     "metadata": {},
     "output_type": "execute_result"
    }
   ],
   "execution_count": 97
  },
  {
   "metadata": {
    "ExecuteTime": {
     "end_time": "2024-08-20T13:24:24.322430Z",
     "start_time": "2024-08-20T13:24:24.303073Z"
    }
   },
   "cell_type": "code",
   "source": "os.chdir(\"C:\\\\Users\\\\Asus\\\\Documents\\\\Pycharm\\\\pythonProject\\\\Master Data Science\")",
   "id": "70b4b383c5102e73",
   "outputs": [],
   "execution_count": 98
  },
  {
   "metadata": {
    "ExecuteTime": {
     "end_time": "2024-08-20T13:24:27.465254Z",
     "start_time": "2024-08-20T13:24:27.444927Z"
    }
   },
   "cell_type": "code",
   "source": "pwd()",
   "id": "4a3a28046b019d0",
   "outputs": [
    {
     "data": {
      "text/plain": [
       "'C:\\\\Users\\\\Asus\\\\Documents\\\\Pycharm\\\\pythonProject\\\\Master Data Science'"
      ]
     },
     "execution_count": 99,
     "metadata": {},
     "output_type": "execute_result"
    }
   ],
   "execution_count": 99
  },
  {
   "metadata": {
    "ExecuteTime": {
     "end_time": "2024-08-20T13:32:56.184794Z",
     "start_time": "2024-08-20T13:32:56.165188Z"
    }
   },
   "cell_type": "code",
   "source": "os.mkdir(\"demo\")",
   "id": "aed1e6b6d3f138c",
   "outputs": [],
   "execution_count": 117
  },
  {
   "metadata": {
    "ExecuteTime": {
     "end_time": "2024-08-20T13:26:04.209870Z",
     "start_time": "2024-08-20T13:26:04.203215Z"
    }
   },
   "cell_type": "code",
   "source": "os.rmdir(\"demo\")",
   "id": "18e85eddfc0cdb5f",
   "outputs": [],
   "execution_count": 104
  },
  {
   "metadata": {
    "ExecuteTime": {
     "end_time": "2024-08-20T13:31:04.674306Z",
     "start_time": "2024-08-20T13:31:02.395231Z"
    }
   },
   "cell_type": "code",
   "source": [
    "file_name = input(\"Enter file name: \")\n",
    "if file_name in os.listdir():\n",
    "    print(\"File exists\")\n",
    "    f = open(file_name,\"r+\")\n",
    "    content = f.read()\n",
    "    print(content)\n",
    "else:\n",
    "    print(\"File not exists\")"
   ],
   "id": "15997f1eafcf6481",
   "outputs": [
    {
     "name": "stdout",
     "output_type": "stream",
     "text": [
      "File exists\n",
      "Hello World\n",
      "This is second line\n",
      "This is third line\n",
      "This is fourth line\n",
      "\n"
     ]
    }
   ],
   "execution_count": 116
  },
  {
   "metadata": {
    "ExecuteTime": {
     "end_time": "2024-08-20T13:33:17.316123Z",
     "start_time": "2024-08-20T13:33:17.300800Z"
    }
   },
   "cell_type": "code",
   "source": [
    "if not os.path.isdir(\"demo\"):\n",
    "    os.mkdir(\"demo\")"
   ],
   "id": "17e6843db89e9f94",
   "outputs": [],
   "execution_count": 118
  },
  {
   "metadata": {},
   "cell_type": "markdown",
   "source": "## common function in 'os.path'",
   "id": "ec732408a77b83a8"
  },
  {
   "metadata": {},
   "cell_type": "markdown",
   "source": "os.path.join() - Joins one or more path components intelligently.",
   "id": "fa20ccb33fdd3c32"
  },
  {
   "metadata": {
    "ExecuteTime": {
     "end_time": "2024-08-20T13:35:08.299769Z",
     "start_time": "2024-08-20T13:35:08.278806Z"
    }
   },
   "cell_type": "code",
   "source": [
    "import os\n",
    "full_path = os.path.join(\"demo\",\"test.txt\")\n",
    "print(full_path)"
   ],
   "id": "c03e7848f31ef4c4",
   "outputs": [
    {
     "name": "stdout",
     "output_type": "stream",
     "text": [
      "demo\\test.txt\n"
     ]
    }
   ],
   "execution_count": 119
  },
  {
   "metadata": {},
   "cell_type": "markdown",
   "source": "os.path.exists() - Checks whether a path exists (whether it is a file or directory).",
   "id": "93dec6fb417e9c28"
  },
  {
   "metadata": {
    "ExecuteTime": {
     "end_time": "2024-08-20T13:37:33.489194Z",
     "start_time": "2024-08-20T13:37:33.476819Z"
    }
   },
   "cell_type": "code",
   "source": [
    "import os\n",
    "exists = os.path.exists('test.txt')\n",
    "print(exists)"
   ],
   "id": "388d30ead73a318f",
   "outputs": [
    {
     "name": "stdout",
     "output_type": "stream",
     "text": [
      "True\n"
     ]
    }
   ],
   "execution_count": 123
  },
  {
   "metadata": {},
   "cell_type": "markdown",
   "source": "os.path.isfile - Checks whether a path is a file.",
   "id": "d91578055b7ca1e3"
  },
  {
   "metadata": {
    "ExecuteTime": {
     "end_time": "2024-08-20T13:38:45.837553Z",
     "start_time": "2024-08-20T13:38:45.832100Z"
    }
   },
   "cell_type": "code",
   "source": [
    "import os\n",
    "is_file = os.path.isfile('test.txt')\n",
    "print(is_file)"
   ],
   "id": "62753bcc5292ae42",
   "outputs": [
    {
     "name": "stdout",
     "output_type": "stream",
     "text": [
      "True\n"
     ]
    }
   ],
   "execution_count": 124
  },
  {
   "metadata": {},
   "cell_type": "markdown",
   "source": "os.path.isdir() - Checks whether a path is a directory.",
   "id": "cbbe8bd46e022b27"
  },
  {
   "metadata": {
    "ExecuteTime": {
     "end_time": "2024-08-20T13:39:41.522886Z",
     "start_time": "2024-08-20T13:39:41.516015Z"
    }
   },
   "cell_type": "code",
   "source": [
    "import os\n",
    "is_dir = os.path.isdir('test.txt')\n",
    "print(is_dir)"
   ],
   "id": "ed6fa47e829bce28",
   "outputs": [
    {
     "name": "stdout",
     "output_type": "stream",
     "text": [
      "False\n"
     ]
    }
   ],
   "execution_count": 125
  },
  {
   "metadata": {},
   "cell_type": "markdown",
   "source": "os.path.basename() - Returns the base name of the pathname (i.e., the last component).",
   "id": "4d687f83cf247d64"
  },
  {
   "metadata": {
    "ExecuteTime": {
     "end_time": "2024-08-20T13:40:31.812742Z",
     "start_time": "2024-08-20T13:40:31.794349Z"
    }
   },
   "cell_type": "code",
   "source": [
    "import os\n",
    "base_name = os.path.basename('test.txt')\n",
    "print(base_name)"
   ],
   "id": "ca4c1ca1d72484ce",
   "outputs": [
    {
     "name": "stdout",
     "output_type": "stream",
     "text": [
      "test.txt\n"
     ]
    }
   ],
   "execution_count": 126
  },
  {
   "metadata": {},
   "cell_type": "markdown",
   "source": "os.path.dirname() - Returns the directory name of the pathname (i.e., everything before the last component).",
   "id": "19058943935c75ff"
  },
  {
   "metadata": {
    "ExecuteTime": {
     "end_time": "2024-08-20T13:41:56.813334Z",
     "start_time": "2024-08-20T13:41:56.807344Z"
    }
   },
   "cell_type": "code",
   "source": [
    "import os\n",
    "dir_name = os.path.dirname(\"C:\\\\Users\\\\ASUS\\\\Documents\\\\Pycharm\\\\pythonProject\\\\Master Data Science\\\\test.txt\")\n",
    "print(dir_name)"
   ],
   "id": "34e40ca3fc3d8d28",
   "outputs": [
    {
     "name": "stdout",
     "output_type": "stream",
     "text": [
      "C:\\Users\\ASUS\\Documents\\Pycharm\\pythonProject\\Master Data Science\n"
     ]
    }
   ],
   "execution_count": 130
  },
  {
   "metadata": {},
   "cell_type": "markdown",
   "source": "os.path.splitext() - Splits the pathname into a pair (root, ext) where root is everything before the last dot and ext is everything after the last dot.\n",
   "id": "20b7cb4e4ca7ef6d"
  },
  {
   "metadata": {
    "ExecuteTime": {
     "end_time": "2024-08-20T13:43:17.354207Z",
     "start_time": "2024-08-20T13:43:17.333838Z"
    }
   },
   "cell_type": "code",
   "source": [
    "import os\n",
    "root, extension = os.path.splitext(\"test.txt\")\n",
    "print(root)\n",
    "print(extension)"
   ],
   "id": "5792c95cac86e4ac",
   "outputs": [
    {
     "name": "stdout",
     "output_type": "stream",
     "text": [
      "test\n",
      ".txt\n"
     ]
    }
   ],
   "execution_count": 131
  },
  {
   "metadata": {},
   "cell_type": "markdown",
   "source": "os.path.abspath() - Returns the absolute path fo the pathname",
   "id": "66761480ae91e961"
  },
  {
   "metadata": {
    "ExecuteTime": {
     "end_time": "2024-08-20T13:44:58.410696Z",
     "start_time": "2024-08-20T13:44:58.403244Z"
    }
   },
   "cell_type": "code",
   "source": [
    "import os\n",
    "abs_path = os.path.abspath('test.txt')\n",
    "print(abs_path)"
   ],
   "id": "bed188363ed63832",
   "outputs": [
    {
     "name": "stdout",
     "output_type": "stream",
     "text": [
      "C:\\Users\\Asus\\Documents\\Pycharm\\pythonProject\\Master Data Science\\test.txt\n"
     ]
    }
   ],
   "execution_count": 132
  },
  {
   "metadata": {},
   "cell_type": "markdown",
   "source": "os.rename() - It is used to rename or move a file or directory.",
   "id": "63bb0f2c06850a05"
  },
  {
   "metadata": {},
   "cell_type": "markdown",
   "source": "Renaming a File",
   "id": "ae51b53c9ac53fc0"
  },
  {
   "metadata": {
    "ExecuteTime": {
     "end_time": "2024-08-20T13:48:45.741033Z",
     "start_time": "2024-08-20T13:48:45.734816Z"
    }
   },
   "cell_type": "code",
   "source": [
    "import os\n",
    "os.rename('demo.txt','demo_1.txt')"
   ],
   "id": "cab07e98c2dfcb14",
   "outputs": [],
   "execution_count": 134
  },
  {
   "metadata": {
    "ExecuteTime": {
     "end_time": "2024-08-20T13:49:08.518632Z",
     "start_time": "2024-08-20T13:49:08.510023Z"
    }
   },
   "cell_type": "code",
   "source": "os.rename(\"demo_1.txt\", \"demo.txt\")",
   "id": "3be8f72b946cc384",
   "outputs": [],
   "execution_count": 135
  },
  {
   "metadata": {},
   "cell_type": "markdown",
   "source": "Moving a File",
   "id": "68558810ad5e4e0c"
  },
  {
   "metadata": {
    "ExecuteTime": {
     "end_time": "2024-08-20T13:57:29.198113Z",
     "start_time": "2024-08-20T13:57:29.175534Z"
    }
   },
   "cell_type": "code",
   "source": [
    "import os\n",
    "current_destination_folder = \"C:\\\\Users\\\\ASUS\\\\Documents\\\\Pycharm\\\\pythonProject\\\\Master Data Science\\\\demo.txt\"\n",
    "destination_folder = \"C:\\\\Users\\\\ASUS\\\\Documents\\\\Pycharm\\\\pythonProject\\\\Master Data Science\\\\demo\\\\demo.txt\"\n",
    "os.rename(current_destination_folder, destination_folder)"
   ],
   "id": "8b5fd432904a66d7",
   "outputs": [],
   "execution_count": 141
  },
  {
   "metadata": {},
   "cell_type": "markdown",
   "source": "Renaming a Directory",
   "id": "c06a9de9aba3044a"
  },
  {
   "metadata": {
    "ExecuteTime": {
     "end_time": "2024-08-20T13:59:09.223751Z",
     "start_time": "2024-08-20T13:59:09.213515Z"
    }
   },
   "cell_type": "code",
   "source": [
    "import os\n",
    "old_directory = \"C:\\\\Users\\\\ASUS\\\\Documents\\\\Pycharm\\\\pythonProject\\\\Master Data Science\\\\demo\"\n",
    "new_directory = \"C:\\\\Users\\\\ASUS\\\\Documents\\\\Pycharm\\\\pythonProject\\\\Master Data Science\\\\example\"\n",
    "os.rename(old_directory, new_directory)"
   ],
   "id": "44b733dd2b00e58c",
   "outputs": [],
   "execution_count": 142
  },
  {
   "metadata": {},
   "cell_type": "markdown",
   "source": "Error Handling",
   "id": "2a2fba8641bcc484"
  },
  {
   "metadata": {
    "ExecuteTime": {
     "end_time": "2024-08-20T14:01:28.424052Z",
     "start_time": "2024-08-20T14:01:28.415903Z"
    }
   },
   "cell_type": "code",
   "source": [
    "import os\n",
    "\n",
    "src = \"dmeo.txt\"\n",
    "dst = \"demo.txt\"\n",
    "\n",
    "try:\n",
    "    os.rename(src, dst)\n",
    "    print(f\"File {src} has been renamed to {dst}\")\n",
    "except FileNotFoundError:\n",
    "    print(f\"File {src} does not exist\")\n",
    "except PermissionError:\n",
    "    print(f\"Permission denied\")\n",
    "except Exception as e:\n",
    "    print(f\"An error occurred: {e}\")"
   ],
   "id": "64065c2504980bbf",
   "outputs": [
    {
     "name": "stdout",
     "output_type": "stream",
     "text": [
      "File dmeo.txt has been renamed to demo.txt\n"
     ]
    }
   ],
   "execution_count": 143
  },
  {
   "metadata": {},
   "cell_type": "markdown",
   "source": [
    "## import shutil\n",
    "\n",
    "The \"shutil\" module in Python provides a higher-level interface for file operations, including file and directory management. It is part of the Python Standard Library and offers various utility functions for copying, moving, and deleting files and directories, as well as for managing disk space and other file-related tasks."
   ],
   "id": "d1e8d25936573a7b"
  },
  {
   "metadata": {},
   "cell_type": "markdown",
   "source": "### common functions in \"shutil\":",
   "id": "91e97ebfb7c28962"
  },
  {
   "metadata": {},
   "cell_type": "markdown",
   "source": "shutil.copy(src, dst) - Copies the file from src to dst. The destination can be a directory or a file path.",
   "id": "19ad9807fdf8ff3b"
  },
  {
   "metadata": {
    "ExecuteTime": {
     "end_time": "2024-08-20T14:08:25.529731Z",
     "start_time": "2024-08-20T14:08:25.495451Z"
    }
   },
   "cell_type": "code",
   "source": [
    "import shutil\n",
    "shutil.copy(\"hello.py\", \"example\")"
   ],
   "id": "1e2c6d4227a71138",
   "outputs": [
    {
     "data": {
      "text/plain": [
       "'example\\\\hello.py'"
      ]
     },
     "execution_count": 144,
     "metadata": {},
     "output_type": "execute_result"
    }
   ],
   "execution_count": 144
  },
  {
   "metadata": {},
   "cell_type": "markdown",
   "source": "shutil.copy2(src, dst) - Similar to shutil.copy(), but also attempts to preserve file metadata (like timestamps).",
   "id": "9ec5987094ecd401"
  },
  {
   "metadata": {
    "ExecuteTime": {
     "end_time": "2024-08-20T14:11:51.698069Z",
     "start_time": "2024-08-20T14:11:51.674785Z"
    }
   },
   "cell_type": "code",
   "source": [
    "import shutil\n",
    "shutil.copy2(\"hello.py\", \"example\")"
   ],
   "id": "58eaf09b0974750f",
   "outputs": [
    {
     "data": {
      "text/plain": [
       "'example\\\\hello.py'"
      ]
     },
     "execution_count": 145,
     "metadata": {},
     "output_type": "execute_result"
    }
   ],
   "execution_count": 145
  },
  {
   "metadata": {},
   "cell_type": "markdown",
   "source": "shutil.copytree(src, dst) - Recursively copies an entire directory tree from 'src' to 'dst'",
   "id": "daa6529d787e0873"
  },
  {
   "metadata": {
    "ExecuteTime": {
     "end_time": "2024-08-20T14:14:41.080582Z",
     "start_time": "2024-08-20T14:14:41.064538Z"
    }
   },
   "cell_type": "code",
   "source": [
    "import shutil\n",
    "shutil.copytree(\"example\", \"example_1\")"
   ],
   "id": "1250f67c4e3209b9",
   "outputs": [
    {
     "data": {
      "text/plain": [
       "'example_1'"
      ]
     },
     "execution_count": 147,
     "metadata": {},
     "output_type": "execute_result"
    }
   ],
   "execution_count": 147
  },
  {
   "metadata": {},
   "cell_type": "markdown",
   "source": "shutil.move(src, dst) - Moves a file or directory from src to dst. If the destination is on a different filesystem, it will copy and then delete the original.",
   "id": "d970cf36b6a25a0c"
  },
  {
   "metadata": {
    "ExecuteTime": {
     "end_time": "2024-08-20T14:22:23.910100Z",
     "start_time": "2024-08-20T14:22:23.884854Z"
    }
   },
   "cell_type": "code",
   "source": [
    "import shutil\n",
    "shutil.move(\"asb\", \"example_1\")"
   ],
   "id": "77232b9f3a07e90e",
   "outputs": [
    {
     "data": {
      "text/plain": [
       "'example_1\\\\asb'"
      ]
     },
     "execution_count": 149,
     "metadata": {},
     "output_type": "execute_result"
    }
   ],
   "execution_count": 149
  },
  {
   "metadata": {},
   "cell_type": "markdown",
   "source": "shutil.rmtree(src, dst) - Recursively deletes a directory tree.",
   "id": "b6b466623329e26"
  },
  {
   "metadata": {
    "ExecuteTime": {
     "end_time": "2024-08-20T14:23:40.488084Z",
     "start_time": "2024-08-20T14:23:40.476174Z"
    }
   },
   "cell_type": "code",
   "source": [
    "import shutil\n",
    "shutil.rmtree(\"example_1\")"
   ],
   "id": "295ffe01bfe4a703",
   "outputs": [],
   "execution_count": 150
  },
  {
   "metadata": {},
   "cell_type": "markdown",
   "source": "shutil.make_archive(base_name, format, root_dir=None, base_dir=None) - Creates an archive file (e.g., ZIP or TAR) of a directory. The format can be 'zip', 'tar', etc.",
   "id": "95b721b4a21584aa"
  },
  {
   "metadata": {
    "ExecuteTime": {
     "end_time": "2024-08-20T14:27:20.605199Z",
     "start_time": "2024-08-20T14:27:20.595298Z"
    }
   },
   "cell_type": "code",
   "source": [
    "import shutil\n",
    "shutil.make_archive(\"archieve\", \"zip\", \"example\")"
   ],
   "id": "3e7dd830c4758456",
   "outputs": [
    {
     "data": {
      "text/plain": [
       "'C:\\\\Users\\\\Asus\\\\Documents\\\\Pycharm\\\\pythonProject\\\\Master Data Science\\\\archieve.zip'"
      ]
     },
     "execution_count": 154,
     "metadata": {},
     "output_type": "execute_result"
    }
   ],
   "execution_count": 154
  },
  {
   "metadata": {},
   "cell_type": "markdown",
   "source": "shutil.unpack_archive(filename, extract_dir=None, format=None) - Extracts an archive file to a specified directory. The format can be 'zip', 'tar', etc.",
   "id": "9e02c1783b9945b4"
  },
  {
   "metadata": {
    "ExecuteTime": {
     "end_time": "2024-08-20T14:29:53.167389Z",
     "start_time": "2024-08-20T14:29:53.124743Z"
    }
   },
   "cell_type": "code",
   "source": [
    "import shutil\n",
    "shutil.unpack_archive(\"archieve.zip\", \"example_1\")"
   ],
   "id": "de39e2ca51a5435a",
   "outputs": [],
   "execution_count": 159
  },
  {
   "metadata": {},
   "cell_type": "markdown",
   "source": "shutil.disk_usage(path) - Returns a named tuple with the total, used, and free disk space of the given path.",
   "id": "b5a08897382c6bf5"
  },
  {
   "metadata": {
    "ExecuteTime": {
     "end_time": "2024-08-20T14:31:41.406896Z",
     "start_time": "2024-08-20T14:31:41.388587Z"
    }
   },
   "cell_type": "code",
   "source": [
    "import shutil\n",
    "usage = shutil.disk_usage('/')\n",
    "print(f\"Disk usage: {usage}, Used: {usage.used}, Free: {usage.free}\")"
   ],
   "id": "4e427cbf8bacb85f",
   "outputs": [
    {
     "name": "stdout",
     "output_type": "stream",
     "text": [
      "Disk usage: usage(total=487147769856, used=399687524352, free=87460245504), Used: 399687524352, Free: 87460245504\n"
     ]
    }
   ],
   "execution_count": 160
  },
  {
   "metadata": {},
   "cell_type": "markdown",
   "source": "shutil.get_terminal_size(fallback=(columns, lines)) - Return the size of the terminal window (width and height).",
   "id": "baee03bbd9d86ea5"
  },
  {
   "metadata": {
    "ExecuteTime": {
     "end_time": "2024-08-20T14:36:34.719120Z",
     "start_time": "2024-08-20T14:36:34.712178Z"
    }
   },
   "cell_type": "code",
   "source": [
    "import shutil\n",
    "size = shutil.get_terminal_size()\n",
    "print(f\"Terminal size: {size.columns} columns x {size.lines} lines\")"
   ],
   "id": "8eb03e9841a67152",
   "outputs": [
    {
     "name": "stdout",
     "output_type": "stream",
     "text": [
      "Terminal size: 80 columns x 24 lines\n"
     ]
    }
   ],
   "execution_count": 163
  },
  {
   "metadata": {},
   "cell_type": "code",
   "outputs": [],
   "execution_count": null,
   "source": "",
   "id": "1f568b9ab97f83a9"
  }
 ],
 "metadata": {
  "kernelspec": {
   "display_name": "Python 3",
   "language": "python",
   "name": "python3"
  },
  "language_info": {
   "codemirror_mode": {
    "name": "ipython",
    "version": 2
   },
   "file_extension": ".py",
   "mimetype": "text/x-python",
   "name": "python",
   "nbconvert_exporter": "python",
   "pygments_lexer": "ipython2",
   "version": "2.7.6"
  }
 },
 "nbformat": 4,
 "nbformat_minor": 5
}
