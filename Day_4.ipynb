{
 "cells": [
  {
   "metadata": {},
   "cell_type": "markdown",
   "source": "Ques_1: Write a function named subtract that takes two arguments and returns their difference.",
   "id": "ddaf1710a41f064f"
  },
  {
   "cell_type": "code",
   "id": "initial_id",
   "metadata": {
    "collapsed": true,
    "ExecuteTime": {
     "end_time": "2024-08-17T05:54:36.145213Z",
     "start_time": "2024-08-17T05:54:36.135749Z"
    }
   },
   "source": [
    "def subtract(a,b):\n",
    "    return a-b\n",
    "\n",
    "subtract(1,2)"
   ],
   "outputs": [
    {
     "data": {
      "text/plain": [
       "-1"
      ]
     },
     "execution_count": 1,
     "metadata": {},
     "output_type": "execute_result"
    }
   ],
   "execution_count": 1
  },
  {
   "metadata": {},
   "cell_type": "markdown",
   "source": "Ques_2: Modify the subtract function from the previous question to use a default value of 5 for the second argument.",
   "id": "b38dfc23872e834"
  },
  {
   "metadata": {
    "ExecuteTime": {
     "end_time": "2024-08-17T05:55:09.387637Z",
     "start_time": "2024-08-17T05:55:09.382392Z"
    }
   },
   "cell_type": "code",
   "source": [
    "def subtract(a, b=5):\n",
    "    return a - b\n",
    "\n",
    "subtract(1)"
   ],
   "id": "f147370c265bd9c6",
   "outputs": [
    {
     "data": {
      "text/plain": [
       "-4"
      ]
     },
     "execution_count": 2,
     "metadata": {},
     "output_type": "execute_result"
    }
   ],
   "execution_count": 2
  },
  {
   "metadata": {},
   "cell_type": "markdown",
   "source": "Ques_3: Write a function concatenate_strings that takes any number of string arguments and returns a single concatenated string.",
   "id": "e427e9593d71fad"
  },
  {
   "metadata": {
    "ExecuteTime": {
     "end_time": "2024-08-17T05:56:04.519752Z",
     "start_time": "2024-08-17T05:56:04.513757Z"
    }
   },
   "cell_type": "code",
   "source": [
    "def concatenate_strings(*args):\n",
    "    return ''.join(args)\n",
    "\n",
    "concatenate_strings(\"abc\", \"def\", \"ghi\")"
   ],
   "id": "78c14cf093f13f20",
   "outputs": [
    {
     "data": {
      "text/plain": [
       "'abcdefghi'"
      ]
     },
     "execution_count": 4,
     "metadata": {},
     "output_type": "execute_result"
    }
   ],
   "execution_count": 4
  },
  {
   "metadata": {},
   "cell_type": "markdown",
   "source": "Ques_4: Write a function print_info that accepts a name and age as keyword arguments and prints them in a formatted string.\n",
   "id": "2217eb239ac481ac"
  },
  {
   "metadata": {
    "ExecuteTime": {
     "end_time": "2024-08-17T05:56:41.529106Z",
     "start_time": "2024-08-17T05:56:41.524748Z"
    }
   },
   "cell_type": "code",
   "source": [
    "def print_info(name, age):\n",
    "    print(f\"Name: {name}, Age: {age}\")\n",
    "\n",
    "print_info(\"John\", 22)"
   ],
   "id": "6b3ec16b5ecf232f",
   "outputs": [
    {
     "name": "stdout",
     "output_type": "stream",
     "text": [
      "Name: John, Age: 22\n"
     ]
    }
   ],
   "execution_count": 5
  },
  {
   "metadata": {},
   "cell_type": "markdown",
   "source": "Ques_5: Write a decorator uppercase_decorator that converts the return value of a function to uppercase. Apply it to a function say_hello that returns a greeting message.",
   "id": "6a9a3ea41ccc8346"
  },
  {
   "metadata": {
    "ExecuteTime": {
     "end_time": "2024-08-17T05:57:24.613693Z",
     "start_time": "2024-08-17T05:57:24.609497Z"
    }
   },
   "cell_type": "code",
   "source": [
    "def uppercase_decorator(func):\n",
    "    def wrapper():\n",
    "        return func().upper()\n",
    "    return wrapper\n",
    "\n",
    "@uppercase_decorator\n",
    "def say_hello():\n",
    "    return \"hello\"\n",
    "\n",
    "print(say_hello())"
   ],
   "id": "7a5d4d91115453e",
   "outputs": [
    {
     "name": "stdout",
     "output_type": "stream",
     "text": [
      "HELLO\n"
     ]
    }
   ],
   "execution_count": 6
  },
  {
   "metadata": {},
   "cell_type": "markdown",
   "source": "Ques_6:  Define a function divide that takes two integers and returns a float. Use function annotations to specify the types of the arguments and the return type.",
   "id": "ff7bfe679f406795"
  },
  {
   "metadata": {
    "ExecuteTime": {
     "end_time": "2024-08-17T05:57:52.711060Z",
     "start_time": "2024-08-17T05:57:52.705210Z"
    }
   },
   "cell_type": "code",
   "source": [
    "def divide(a: int, b: int) -> float:\n",
    "    return a / b\n",
    "\n",
    "divide(2,3)"
   ],
   "id": "da1f94b03e15c1b8",
   "outputs": [
    {
     "data": {
      "text/plain": [
       "0.6666666666666666"
      ]
     },
     "execution_count": 7,
     "metadata": {},
     "output_type": "execute_result"
    }
   ],
   "execution_count": 7
  },
  {
   "metadata": {},
   "cell_type": "markdown",
   "source": "Ques_7: Write a recursive function fibonacci(n) that returns the nth Fibonacci number.",
   "id": "c8644ecdf23a977b"
  },
  {
   "metadata": {
    "ExecuteTime": {
     "end_time": "2024-08-17T05:58:32.630871Z",
     "start_time": "2024-08-17T05:58:32.624189Z"
    }
   },
   "cell_type": "code",
   "source": [
    "def fibonacci(n):\n",
    "    if n <= 1:\n",
    "        return n\n",
    "    return fibonacci(n-1) + fibonacci(n-2)\n",
    "\n",
    "fibonacci(3)"
   ],
   "id": "1606f2d79a6b370e",
   "outputs": [
    {
     "data": {
      "text/plain": [
       "2"
      ]
     },
     "execution_count": 11,
     "metadata": {},
     "output_type": "execute_result"
    }
   ],
   "execution_count": 11
  },
  {
   "metadata": {},
   "cell_type": "markdown",
   "source": "Ques_8: Write a function to compute the greatest common divisor (GCD) of two numbers.",
   "id": "b4de0880973491af"
  },
  {
   "metadata": {
    "ExecuteTime": {
     "end_time": "2024-08-17T06:00:48.787049Z",
     "start_time": "2024-08-17T06:00:48.780518Z"
    }
   },
   "cell_type": "code",
   "source": [
    "def gcd(a, b):\n",
    "    while b:\n",
    "        a, b = b, a%b\n",
    "    return a\n",
    "\n",
    "gcd(48,18)"
   ],
   "id": "6006b6e9294f036",
   "outputs": [
    {
     "data": {
      "text/plain": [
       "6"
      ]
     },
     "execution_count": 12,
     "metadata": {},
     "output_type": "execute_result"
    }
   ],
   "execution_count": 12
  },
  {
   "metadata": {},
   "cell_type": "markdown",
   "source": "Ques_9: Write a function that reverses a string.",
   "id": "7894127a3f1b7461"
  },
  {
   "metadata": {
    "ExecuteTime": {
     "end_time": "2024-08-17T06:02:02.292265Z",
     "start_time": "2024-08-17T06:02:02.287108Z"
    }
   },
   "cell_type": "code",
   "source": [
    "def reverse_string(s):\n",
    "    return s[::-1]\n",
    "\n",
    "reverse_string(\"Hello\")"
   ],
   "id": "c7403dfb06f3f4f5",
   "outputs": [
    {
     "data": {
      "text/plain": [
       "'olleH'"
      ]
     },
     "execution_count": 13,
     "metadata": {},
     "output_type": "execute_result"
    }
   ],
   "execution_count": 13
  },
  {
   "metadata": {},
   "cell_type": "markdown",
   "source": "Ques_10: Write a function to find the maximum number in a list.",
   "id": "3ed31ea521d68e65"
  },
  {
   "metadata": {
    "ExecuteTime": {
     "end_time": "2024-08-17T06:02:27.716842Z",
     "start_time": "2024-08-17T06:02:27.712531Z"
    }
   },
   "cell_type": "code",
   "source": [
    "def max_in_list(lst):\n",
    "    return max(lst)\n",
    "\n",
    "print(max_in_list([1, 5, 3, 9, 2]))"
   ],
   "id": "20df25d912811b10",
   "outputs": [
    {
     "name": "stdout",
     "output_type": "stream",
     "text": [
      "9\n"
     ]
    }
   ],
   "execution_count": 15
  },
  {
   "metadata": {},
   "cell_type": "markdown",
   "source": "Ques_11: Write a function to check if a number is even or odd.",
   "id": "fb030c2e4d92a56a"
  },
  {
   "metadata": {
    "ExecuteTime": {
     "end_time": "2024-08-17T06:02:51.263978Z",
     "start_time": "2024-08-17T06:02:51.259006Z"
    }
   },
   "cell_type": "code",
   "source": [
    "def is_even(num):\n",
    "    return num % 2 == 0\n",
    "\n",
    "print(is_even(10)) \n",
    "print(is_even(7))  "
   ],
   "id": "edc5e1605eedec7b",
   "outputs": [
    {
     "name": "stdout",
     "output_type": "stream",
     "text": [
      "True\n",
      "False\n"
     ]
    }
   ],
   "execution_count": 16
  },
  {
   "metadata": {},
   "cell_type": "markdown",
   "source": "Ques_12: Write a function to check if a number is prime.",
   "id": "4511ec28e401d25b"
  },
  {
   "metadata": {
    "ExecuteTime": {
     "end_time": "2024-08-17T06:03:20.409613Z",
     "start_time": "2024-08-17T06:03:20.404785Z"
    }
   },
   "cell_type": "code",
   "source": [
    "def is_prime(n):\n",
    "    if n <= 1:\n",
    "        return False\n",
    "    for i in range(2, int(n**0.5) + 1):\n",
    "        if n % i == 0:\n",
    "            return False\n",
    "    return True\n",
    "\n",
    "print(is_prime(11))  \n",
    "print(is_prime(4))   "
   ],
   "id": "10566beac4bb6d1f",
   "outputs": [
    {
     "name": "stdout",
     "output_type": "stream",
     "text": [
      "True\n",
      "False\n"
     ]
    }
   ],
   "execution_count": 17
  },
  {
   "metadata": {},
   "cell_type": "markdown",
   "source": "Ques_13: Write a function to generate the first n numbers of the Fibonacci sequence.",
   "id": "3d266e1d1b592cd4"
  },
  {
   "metadata": {
    "ExecuteTime": {
     "end_time": "2024-08-17T06:03:43.506448Z",
     "start_time": "2024-08-17T06:03:43.501966Z"
    }
   },
   "cell_type": "code",
   "source": [
    "def fibonacci_sequence(n):\n",
    "    sequence = []\n",
    "    a, b = 0, 1\n",
    "    while len(sequence) < n:\n",
    "        sequence.append(a)\n",
    "        a, b = b, a + b\n",
    "    return sequence\n",
    "\n",
    "print(fibonacci_sequence(5))"
   ],
   "id": "aa8681ef8f41814",
   "outputs": [
    {
     "name": "stdout",
     "output_type": "stream",
     "text": [
      "[0, 1, 1, 2, 3]\n"
     ]
    }
   ],
   "execution_count": 18
  },
  {
   "metadata": {},
   "cell_type": "markdown",
   "source": "Ques_14: Write a function to calculate the factorial of a number.",
   "id": "33b4e2b4d65ab3aa"
  },
  {
   "metadata": {
    "ExecuteTime": {
     "end_time": "2024-08-17T06:04:07.700225Z",
     "start_time": "2024-08-17T06:04:07.695251Z"
    }
   },
   "cell_type": "code",
   "source": [
    "def factorial(n):\n",
    "    if n == 0:\n",
    "        return 1\n",
    "    else:\n",
    "        return n * factorial(n - 1)\n",
    "\n",
    "print(factorial(5))"
   ],
   "id": "a00824ac15424dc2",
   "outputs": [
    {
     "name": "stdout",
     "output_type": "stream",
     "text": [
      "120\n"
     ]
    }
   ],
   "execution_count": 19
  },
  {
   "metadata": {},
   "cell_type": "markdown",
   "source": "Ques_15: Write a function to convert Celsius to Fahrenheit.",
   "id": "345c04608a693f50"
  },
  {
   "metadata": {
    "ExecuteTime": {
     "end_time": "2024-08-17T06:04:47.727782Z",
     "start_time": "2024-08-17T06:04:47.723146Z"
    }
   },
   "cell_type": "code",
   "source": [
    "def celsius_to_fahrenheit(celsius):\n",
    "    return (celsius * 9/5) + 32\n",
    "\n",
    "print(celsius_to_fahrenheit(25)) "
   ],
   "id": "4c275d9da43be99c",
   "outputs": [
    {
     "name": "stdout",
     "output_type": "stream",
     "text": [
      "77.0\n"
     ]
    }
   ],
   "execution_count": 20
  },
  {
   "metadata": {},
   "cell_type": "markdown",
   "source": "Ques_16: Write a function to calculate the sum of squares of all numbers from 1 to n.",
   "id": "58e31d9aaae26f"
  },
  {
   "metadata": {
    "ExecuteTime": {
     "end_time": "2024-08-17T06:05:15.660443Z",
     "start_time": "2024-08-17T06:05:15.655805Z"
    }
   },
   "cell_type": "code",
   "source": [
    "def sum_of_squares(n):\n",
    "    return sum(i**2 for i in range(1, n+1))\n",
    "\n",
    "print(sum_of_squares(3))"
   ],
   "id": "968455f574a03dab",
   "outputs": [
    {
     "name": "stdout",
     "output_type": "stream",
     "text": [
      "14\n"
     ]
    }
   ],
   "execution_count": 22
  },
  {
   "metadata": {},
   "cell_type": "markdown",
   "source": "Ques_17: Write a function to sort a list of dictionaries by a specific key.",
   "id": "37ea305ff46a29ee"
  },
  {
   "metadata": {
    "ExecuteTime": {
     "end_time": "2024-08-17T06:05:42.603588Z",
     "start_time": "2024-08-17T06:05:42.597912Z"
    }
   },
   "cell_type": "code",
   "source": [
    "def sort_dicts_by_key(dict_list, key):\n",
    "    return sorted(dict_list, key=lambda x: x[key])\n",
    "\n",
    "data = [{'name': 'Alice', 'age': 30}, {'name': 'Bob', 'age': 25}, {'name': 'Charlie', 'age': 35}]\n",
    "sorted_data = sort_dicts_by_key(data, 'age')\n",
    "print(sorted_data)"
   ],
   "id": "9cfbb12b7791b2a4",
   "outputs": [
    {
     "name": "stdout",
     "output_type": "stream",
     "text": [
      "[{'name': 'Bob', 'age': 25}, {'name': 'Alice', 'age': 30}, {'name': 'Charlie', 'age': 35}]\n"
     ]
    }
   ],
   "execution_count": 23
  },
  {
   "metadata": {},
   "cell_type": "markdown",
   "source": "Ques_18: Write a function to merge two lists, removing duplicates.",
   "id": "2b02affa3f69422d"
  },
  {
   "metadata": {
    "ExecuteTime": {
     "end_time": "2024-08-17T06:06:38.838187Z",
     "start_time": "2024-08-17T06:06:38.834097Z"
    }
   },
   "cell_type": "code",
   "source": [
    "def merge_lists(lst1, lst2):\n",
    "    return list(set(lst1) | set(lst2))\n",
    "\n",
    "print(merge_lists([1, 2, 3], [3, 4, 5]))"
   ],
   "id": "d4d4f6cb454ec388",
   "outputs": [
    {
     "name": "stdout",
     "output_type": "stream",
     "text": [
      "[1, 2, 3, 4, 5]\n"
     ]
    }
   ],
   "execution_count": 24
  },
  {
   "metadata": {},
   "cell_type": "markdown",
   "source": "Ques_19: Write a function to check if two strings are anagrams (contain the same characters in a different order).",
   "id": "1f926f4f140c33db"
  },
  {
   "metadata": {
    "ExecuteTime": {
     "end_time": "2024-08-17T06:08:35.654122Z",
     "start_time": "2024-08-17T06:08:35.649368Z"
    }
   },
   "cell_type": "code",
   "source": [
    "def are_anagrams(str1, str2):\n",
    "    return sorted(str1) == sorted(str2)\n",
    "\n",
    "print(are_anagrams(\"listen\", \"silent\"))  \n",
    "print(are_anagrams(\"hello\", \"world\"))    "
   ],
   "id": "76ace4ee1ad4f291",
   "outputs": [
    {
     "name": "stdout",
     "output_type": "stream",
     "text": [
      "True\n",
      "False\n"
     ]
    }
   ],
   "execution_count": 25
  },
  {
   "metadata": {},
   "cell_type": "markdown",
   "source": "Ques_20:  Write a function to generate a random password with a specified length.",
   "id": "8689c21be4eb08e7"
  },
  {
   "metadata": {
    "ExecuteTime": {
     "end_time": "2024-08-17T06:09:12.061615Z",
     "start_time": "2024-08-17T06:09:12.056755Z"
    }
   },
   "cell_type": "code",
   "source": [
    "import random\n",
    "import string\n",
    "\n",
    "def generate_password(length):\n",
    "    characters = string.ascii_letters + string.digits + string.punctuation\n",
    "    return ''.join(random.choice(characters) for _ in range(length))\n",
    "\n",
    "print(generate_password(12))"
   ],
   "id": "cae560a47860b5c4",
   "outputs": [
    {
     "name": "stdout",
     "output_type": "stream",
     "text": [
      "~\"?=(=#q3{t>\n"
     ]
    }
   ],
   "execution_count": 29
  },
  {
   "metadata": {
    "ExecuteTime": {
     "end_time": "2024-08-17T06:09:07.615015Z",
     "start_time": "2024-08-17T06:09:07.611767Z"
    }
   },
   "cell_type": "code",
   "source": "",
   "id": "dca720b6dc592599",
   "outputs": [],
   "execution_count": 27
  },
  {
   "metadata": {},
   "cell_type": "code",
   "outputs": [],
   "execution_count": null,
   "source": "",
   "id": "8fd36b2a468c3bd2"
  }
 ],
 "metadata": {
  "kernelspec": {
   "display_name": "Python 3",
   "language": "python",
   "name": "python3"
  },
  "language_info": {
   "codemirror_mode": {
    "name": "ipython",
    "version": 2
   },
   "file_extension": ".py",
   "mimetype": "text/x-python",
   "name": "python",
   "nbconvert_exporter": "python",
   "pygments_lexer": "ipython2",
   "version": "2.7.6"
  }
 },
 "nbformat": 4,
 "nbformat_minor": 5
}
