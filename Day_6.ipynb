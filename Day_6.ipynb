{
 "cells": [
  {
   "metadata": {
    "ExecuteTime": {
     "end_time": "2024-08-17T12:59:11.809169Z",
     "start_time": "2024-08-17T12:59:11.797704Z"
    }
   },
   "cell_type": "code",
   "source": [
    "a = 10\n",
    "b = 20\n",
    "\n",
    "def test1(a, b):\n",
    "    return a + b\n",
    "\n",
    "test1(a,b)"
   ],
   "id": "a5dc9ca8429b4565",
   "outputs": [
    {
     "data": {
      "text/plain": [
       "30"
      ]
     },
     "execution_count": 3,
     "metadata": {},
     "output_type": "execute_result"
    }
   ],
   "execution_count": 3
  },
  {
   "metadata": {},
   "cell_type": "markdown",
   "source": [
    "## Lambda: Anonymous function\n",
    "A lambda function in Python is a small, anonymous function defined with the lambda keyword. It allows you to create a function in a concise way without having to use the standard def syntax. Lambda functions are often used for short-lived, simple operations where defining a full function might be overkill.\n",
    "### Basic Syntax\n",
    "<code>lambda arguments: expression</code>\n",
    "\n",
    " - lambda: The keyword used to create a lambda function.\n",
    " - arguments: A comma-separated list of parameters.\n",
    " - expression: A single expression that is evaluated and returned by the lambda function."
   ],
   "id": "9949252504f1db4f"
  },
  {
   "metadata": {
    "ExecuteTime": {
     "end_time": "2024-08-17T13:00:59.747322Z",
     "start_time": "2024-08-17T13:00:59.732076Z"
    }
   },
   "cell_type": "code",
   "source": [
    "add = lambda a, b: a + b\n",
    "add(10, 20)"
   ],
   "id": "99a6a2f5fd91f6d0",
   "outputs": [
    {
     "data": {
      "text/plain": [
       "30"
      ]
     },
     "execution_count": 5,
     "metadata": {},
     "output_type": "execute_result"
    }
   ],
   "execution_count": 5
  },
  {
   "metadata": {
    "ExecuteTime": {
     "end_time": "2024-08-17T13:06:22.398335Z",
     "start_time": "2024-08-17T13:06:22.381221Z"
    }
   },
   "cell_type": "code",
   "source": [
    "x = \"John\"\n",
    "y = \"smith\"\n",
    "\n",
    "n = lambda arg1, arg2: print(arg1, arg2)\n",
    "n(x, y)"
   ],
   "id": "779288e789cd3bb6",
   "outputs": [
    {
     "name": "stdout",
     "output_type": "stream",
     "text": [
      "John smith\n"
     ]
    }
   ],
   "execution_count": 8
  },
  {
   "metadata": {
    "ExecuteTime": {
     "end_time": "2024-08-17T13:11:49.434831Z",
     "start_time": "2024-08-17T13:11:49.419183Z"
    }
   },
   "cell_type": "code",
   "source": [
    "q = 10\n",
    "\n",
    "def test3(a, b):\n",
    "    q = a / b\n",
    "    return q\n",
    "\n",
    "test3(10, 10)\n"
   ],
   "id": "47ebe5f89f77234c",
   "outputs": [
    {
     "ename": "SyntaxError",
     "evalue": "invalid syntax (12602900.py, line 1)",
     "output_type": "error",
     "traceback": [
      "\u001B[1;36m  Cell \u001B[1;32mIn[11], line 1\u001B[1;36m\u001B[0m\n\u001B[1;33m    global q = 10\u001B[0m\n\u001B[1;37m             ^\u001B[0m\n\u001B[1;31mSyntaxError\u001B[0m\u001B[1;31m:\u001B[0m invalid syntax\n"
     ]
    }
   ],
   "execution_count": 11
  },
  {
   "metadata": {
    "ExecuteTime": {
     "end_time": "2024-08-19T16:48:18.210218Z",
     "start_time": "2024-08-19T16:48:18.177104Z"
    }
   },
   "cell_type": "code",
   "source": [
    "for i in \"john\":\n",
    "    print(i)"
   ],
   "id": "13a09be7c2949bd",
   "outputs": [
    {
     "name": "stdout",
     "output_type": "stream",
     "text": [
      "j\n",
      "o\n",
      "h\n",
      "n\n"
     ]
    }
   ],
   "execution_count": 12
  },
  {
   "metadata": {
    "ExecuteTime": {
     "end_time": "2024-08-19T16:51:53.324709Z",
     "start_time": "2024-08-19T16:51:53.297105Z"
    }
   },
   "cell_type": "code",
   "source": [
    "a = 10\n",
    "for i in a:\n",
    "    print(i)"
   ],
   "id": "c66764dac610dea9",
   "outputs": [
    {
     "ename": "TypeError",
     "evalue": "'int' object is not iterable",
     "output_type": "error",
     "traceback": [
      "\u001B[1;31m---------------------------------------------------------------------------\u001B[0m",
      "\u001B[1;31mTypeError\u001B[0m                                 Traceback (most recent call last)",
      "Cell \u001B[1;32mIn[14], line 2\u001B[0m\n\u001B[0;32m      1\u001B[0m a \u001B[38;5;241m=\u001B[39m \u001B[38;5;241m10\u001B[39m\n\u001B[1;32m----> 2\u001B[0m \u001B[38;5;28;43;01mfor\u001B[39;49;00m\u001B[43m \u001B[49m\u001B[43mi\u001B[49m\u001B[43m \u001B[49m\u001B[38;5;129;43;01min\u001B[39;49;00m\u001B[43m \u001B[49m\u001B[43ma\u001B[49m\u001B[43m:\u001B[49m\n\u001B[0;32m      3\u001B[0m \u001B[43m    \u001B[49m\u001B[38;5;28;43mprint\u001B[39;49m\u001B[43m(\u001B[49m\u001B[43mi\u001B[49m\u001B[43m)\u001B[49m\n",
      "\u001B[1;31mTypeError\u001B[0m: 'int' object is not iterable"
     ]
    }
   ],
   "execution_count": 14
  },
  {
   "metadata": {
    "ExecuteTime": {
     "end_time": "2024-08-19T17:02:27.691491Z",
     "start_time": "2024-08-19T17:02:27.658238Z"
    }
   },
   "cell_type": "code",
   "source": [
    "s = \"john\"\n",
    "next(s)"
   ],
   "id": "508d74f9f9cce5a7",
   "outputs": [
    {
     "ename": "TypeError",
     "evalue": "'str' object is not an iterator",
     "output_type": "error",
     "traceback": [
      "\u001B[1;31m---------------------------------------------------------------------------\u001B[0m",
      "\u001B[1;31mTypeError\u001B[0m                                 Traceback (most recent call last)",
      "Cell \u001B[1;32mIn[38], line 2\u001B[0m\n\u001B[0;32m      1\u001B[0m s \u001B[38;5;241m=\u001B[39m \u001B[38;5;124m\"\u001B[39m\u001B[38;5;124mjohn\u001B[39m\u001B[38;5;124m\"\u001B[39m\n\u001B[1;32m----> 2\u001B[0m \u001B[38;5;28;43mnext\u001B[39;49m\u001B[43m(\u001B[49m\u001B[43ms\u001B[49m\u001B[43m)\u001B[49m\n",
      "\u001B[1;31mTypeError\u001B[0m: 'str' object is not an iterator"
     ]
    }
   ],
   "execution_count": 38
  },
  {
   "metadata": {},
   "cell_type": "markdown",
   "source": [
    "## Iterable: \n",
    "An iterable is any object in Python that can return an iterator.\n",
    "\n",
    "Examples of iterables include lists, tuples, strings, and dictionaries. Essentially, if you can use a for loop on an object, it's likely an iterable.\n",
    "\n",
    "<code>\n",
    "my_list = [1, 2, 3] <br>\n",
    "# Here, my_list is an iterable.\n",
    "</code>\n",
    "\n",
    "\n",
    "## Iterator:\n",
    "An iterator is an object that represents a stream of data. \n",
    "\n",
    "Iterators are used to iterate over a sequence of values.\n",
    "\n",
    "<code>\n",
    "my_iter = iter(my_list) <br>\n",
    "# Here, my_iter is an iterator. <br>\n",
    "print(next(my_iter))  # Output: 1 <br>\n",
    "print(next(my_iter))  # Output: 2\n",
    "\n",
    "</code>\n",
    "\n",
    "You can think of an iterable as a container of items, and an iterator as a tool that helps you go through those items one at a time."
   ],
   "id": "3dc99389bdf39105"
  },
  {
   "metadata": {
    "ExecuteTime": {
     "end_time": "2024-08-19T17:02:37.363496Z",
     "start_time": "2024-08-19T17:02:37.349774Z"
    }
   },
   "cell_type": "code",
   "source": "s = iter(s)",
   "id": "222d3e544115dee4",
   "outputs": [],
   "execution_count": 41
  },
  {
   "metadata": {
    "ExecuteTime": {
     "end_time": "2024-08-19T17:02:38.729566Z",
     "start_time": "2024-08-19T17:02:38.715989Z"
    }
   },
   "cell_type": "code",
   "source": "next(s)",
   "id": "dd794773d02eebbe",
   "outputs": [
    {
     "data": {
      "text/plain": [
       "'j'"
      ]
     },
     "execution_count": 42,
     "metadata": {},
     "output_type": "execute_result"
    }
   ],
   "execution_count": 42
  },
  {
   "metadata": {
    "ExecuteTime": {
     "end_time": "2024-08-19T17:03:03.308115Z",
     "start_time": "2024-08-19T17:03:03.287698Z"
    }
   },
   "cell_type": "code",
   "source": "next(s)",
   "id": "510380a5a8655c0d",
   "outputs": [
    {
     "data": {
      "text/plain": [
       "'o'"
      ]
     },
     "execution_count": 43,
     "metadata": {},
     "output_type": "execute_result"
    }
   ],
   "execution_count": 43
  },
  {
   "metadata": {
    "ExecuteTime": {
     "end_time": "2024-08-19T17:03:08.456067Z",
     "start_time": "2024-08-19T17:03:08.439931Z"
    }
   },
   "cell_type": "code",
   "source": "next(s)",
   "id": "97d98a5fdf21c992",
   "outputs": [
    {
     "data": {
      "text/plain": [
       "'h'"
      ]
     },
     "execution_count": 44,
     "metadata": {},
     "output_type": "execute_result"
    }
   ],
   "execution_count": 44
  },
  {
   "metadata": {
    "ExecuteTime": {
     "end_time": "2024-08-19T17:03:11.407160Z",
     "start_time": "2024-08-19T17:03:11.399536Z"
    }
   },
   "cell_type": "code",
   "source": "next(s)",
   "id": "9ad0d54681a8ee41",
   "outputs": [
    {
     "data": {
      "text/plain": [
       "'n'"
      ]
     },
     "execution_count": 45,
     "metadata": {},
     "output_type": "execute_result"
    }
   ],
   "execution_count": 45
  },
  {
   "metadata": {},
   "cell_type": "markdown",
   "source": "## Another example",
   "id": "6d8764c74743a950"
  },
  {
   "metadata": {
    "ExecuteTime": {
     "end_time": "2024-08-19T17:04:23.651707Z",
     "start_time": "2024-08-19T17:04:23.644494Z"
    }
   },
   "cell_type": "code",
   "source": [
    "my_list = [1, 2, 3]\n",
    "my_iter = iter(my_list)\n",
    "print(next(my_iter))"
   ],
   "id": "2cbc7fde4769a2a8",
   "outputs": [
    {
     "name": "stdout",
     "output_type": "stream",
     "text": [
      "1\n"
     ]
    }
   ],
   "execution_count": 53
  },
  {
   "metadata": {
    "ExecuteTime": {
     "end_time": "2024-08-19T17:04:25.911738Z",
     "start_time": "2024-08-19T17:04:25.897449Z"
    }
   },
   "cell_type": "code",
   "source": "print(next(my_iter))",
   "id": "b47bb12536e20b53",
   "outputs": [
    {
     "name": "stdout",
     "output_type": "stream",
     "text": [
      "2\n"
     ]
    }
   ],
   "execution_count": 54
  },
  {
   "metadata": {
    "ExecuteTime": {
     "end_time": "2024-08-19T17:04:27.499028Z",
     "start_time": "2024-08-19T17:04:27.490905Z"
    }
   },
   "cell_type": "code",
   "source": "print(next(my_iter))",
   "id": "aa1ba32c0f899784",
   "outputs": [
    {
     "name": "stdout",
     "output_type": "stream",
     "text": [
      "3\n"
     ]
    }
   ],
   "execution_count": 55
  },
  {
   "metadata": {},
   "cell_type": "markdown",
   "source": "### When there are no more items, __next__() raises a StopIteration exception.",
   "id": "59bac015d1df0b2a"
  },
  {
   "metadata": {
    "ExecuteTime": {
     "end_time": "2024-08-19T17:04:31.413622Z",
     "start_time": "2024-08-19T17:04:31.396979Z"
    }
   },
   "cell_type": "code",
   "source": "print(next(my_iter))",
   "id": "76b5df1eb25ccb64",
   "outputs": [
    {
     "ename": "StopIteration",
     "evalue": "",
     "output_type": "error",
     "traceback": [
      "\u001B[1;31m---------------------------------------------------------------------------\u001B[0m",
      "\u001B[1;31mStopIteration\u001B[0m                             Traceback (most recent call last)",
      "Cell \u001B[1;32mIn[56], line 1\u001B[0m\n\u001B[1;32m----> 1\u001B[0m \u001B[38;5;28mprint\u001B[39m(\u001B[38;5;28;43mnext\u001B[39;49m\u001B[43m(\u001B[49m\u001B[43mmy_iter\u001B[49m\u001B[43m)\u001B[49m)\n",
      "\u001B[1;31mStopIteration\u001B[0m: "
     ]
    }
   ],
   "execution_count": 56
  },
  {
   "metadata": {
    "ExecuteTime": {
     "end_time": "2024-08-19T17:11:22.630124Z",
     "start_time": "2024-08-19T17:11:22.611820Z"
    }
   },
   "cell_type": "code",
   "source": [
    "def test_4(n):\n",
    "    l = []\n",
    "    for i in range(n):\n",
    "        l.append(i ** 3)\n",
    "    \n",
    "    return l"
   ],
   "id": "574e7bdb32497d16",
   "outputs": [],
   "execution_count": 66
  },
  {
   "metadata": {
    "ExecuteTime": {
     "end_time": "2024-08-19T17:11:24.346626Z",
     "start_time": "2024-08-19T17:11:24.334207Z"
    }
   },
   "cell_type": "code",
   "source": "test_4(6)",
   "id": "35936de5f1ede75",
   "outputs": [
    {
     "data": {
      "text/plain": [
       "[0, 1, 8, 27, 64, 125]"
      ]
     },
     "execution_count": 67,
     "metadata": {},
     "output_type": "execute_result"
    }
   ],
   "execution_count": 67
  },
  {
   "metadata": {},
   "cell_type": "markdown",
   "source": [
    "## Generator Function\n",
    "### A generator function is a special type of function that returns an iterator known as a \"generator\".\n",
    "\n",
    " - The yield keyword is used to return the next value in the sequence. \n",
    " - Each call to yield produces a new value, and the function’s execution is paused."
   ],
   "id": "d757aa7c3eac46ec"
  },
  {
   "metadata": {
    "ExecuteTime": {
     "end_time": "2024-08-19T17:21:22.218116Z",
     "start_time": "2024-08-19T17:21:22.204226Z"
    }
   },
   "cell_type": "code",
   "source": [
    "def test_5(n):\n",
    "    for i in range(n):\n",
    "        yield i ** 3"
   ],
   "id": "64df7533d8b2ff95",
   "outputs": [],
   "execution_count": 70
  },
  {
   "metadata": {
    "ExecuteTime": {
     "end_time": "2024-08-19T17:22:41.753021Z",
     "start_time": "2024-08-19T17:22:41.733286Z"
    }
   },
   "cell_type": "code",
   "source": [
    "t = test_5(6)\n",
    "for i in t:\n",
    "    print(i, end=\" \")"
   ],
   "id": "c4e1a25673586461",
   "outputs": [
    {
     "name": "stdout",
     "output_type": "stream",
     "text": [
      "0 1 8 27 64 125 "
     ]
    }
   ],
   "execution_count": 73
  },
  {
   "metadata": {},
   "cell_type": "markdown",
   "source": "### Simple function",
   "id": "6d8a4814f73183ab"
  },
  {
   "metadata": {
    "ExecuteTime": {
     "end_time": "2024-08-19T17:30:53.406259Z",
     "start_time": "2024-08-19T17:30:53.385274Z"
    }
   },
   "cell_type": "code",
   "source": [
    "def genfib(n):\n",
    "    a = 1\n",
    "    b = 1\n",
    "    output = []\n",
    "    for i in range(n):\n",
    "        output.append(a)\n",
    "        a, b = b, a + b\n",
    "    return output\n",
    "\n",
    "genfib(10)"
   ],
   "id": "41f35ee493e1a46b",
   "outputs": [
    {
     "data": {
      "text/plain": [
       "[1, 1, 2, 3, 5, 8, 13, 21, 34, 55]"
      ]
     },
     "execution_count": 75,
     "metadata": {},
     "output_type": "execute_result"
    }
   ],
   "execution_count": 75
  },
  {
   "metadata": {},
   "cell_type": "markdown",
   "source": "### Using Generator Function",
   "id": "6c982d23318dcef2"
  },
  {
   "metadata": {
    "ExecuteTime": {
     "end_time": "2024-08-19T17:32:06.253686Z",
     "start_time": "2024-08-19T17:32:06.234172Z"
    }
   },
   "cell_type": "code",
   "source": [
    "def genfib(n):\n",
    "    a = 1\n",
    "    b = 1\n",
    "    for i in range(n):\n",
    "        yield a\n",
    "        a, b = b, a + b"
   ],
   "id": "42b36dbc5d2c04ec",
   "outputs": [],
   "execution_count": 76
  },
  {
   "metadata": {
    "ExecuteTime": {
     "end_time": "2024-08-19T17:34:35.907668Z",
     "start_time": "2024-08-19T17:34:35.894141Z"
    }
   },
   "cell_type": "code",
   "source": [
    "g = genfib(20)\n",
    "for i in g:\n",
    "    print(i, end=\" \")"
   ],
   "id": "36f6ebf30f177064",
   "outputs": [
    {
     "name": "stdout",
     "output_type": "stream",
     "text": [
      "1 1 2 3 5 8 13 21 34 55 89 144 233 377 610 987 1597 2584 4181 6765 "
     ]
    }
   ],
   "execution_count": 87
  },
  {
   "metadata": {
    "ExecuteTime": {
     "end_time": "2024-08-19T17:35:35.086699Z",
     "start_time": "2024-08-19T17:35:35.083150Z"
    }
   },
   "cell_type": "code",
   "source": "",
   "id": "9ebd43fc65c37608",
   "outputs": [],
   "execution_count": 87
  },
  {
   "metadata": {},
   "cell_type": "code",
   "outputs": [],
   "execution_count": null,
   "source": "",
   "id": "57ff31e2bf4fea11"
  }
 ],
 "metadata": {
  "kernelspec": {
   "display_name": "Python 3",
   "language": "python",
   "name": "python3"
  },
  "language_info": {
   "codemirror_mode": {
    "name": "ipython",
    "version": 2
   },
   "file_extension": ".py",
   "mimetype": "text/x-python",
   "name": "python",
   "nbconvert_exporter": "python",
   "pygments_lexer": "ipython2",
   "version": "2.7.6"
  }
 },
 "nbformat": 4,
 "nbformat_minor": 5
}
