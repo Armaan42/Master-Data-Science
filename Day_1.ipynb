{
 "cells": [
  {
   "metadata": {},
   "cell_type": "markdown",
   "source": "### This is simple print statement",
   "id": "5d8f316a88fb7a5"
  },
  {
   "metadata": {
    "ExecuteTime": {
     "end_time": "2024-08-08T13:14:09.920518Z",
     "start_time": "2024-08-08T13:14:09.916182Z"
    }
   },
   "cell_type": "code",
   "source": "print(\"Hello World!\")",
   "id": "8e7d269f1d1dce72",
   "outputs": [
    {
     "name": "stdout",
     "output_type": "stream",
     "text": [
      "Hello World!\n"
     ]
    }
   ],
   "execution_count": 118
  },
  {
   "metadata": {
    "ExecuteTime": {
     "end_time": "2024-08-08T13:14:09.978238Z",
     "start_time": "2024-08-08T13:14:09.973833Z"
    }
   },
   "cell_type": "code",
   "source": [
    "a = 10\n",
    "b = 20\n",
    "\n",
    "if a == 10 or b > 20:\n",
    "    print(\"this is a valid statement\")\n",
    "elif a == 10 and b <= 20:\n",
    "    print(\"this is a valid inside elif\")\n",
    "else:\n",
    "    print(\"condition is not valid\")"
   ],
   "id": "69c2a51bc28be8",
   "outputs": [
    {
     "name": "stdout",
     "output_type": "stream",
     "text": [
      "this is a valid statement\n"
     ]
    }
   ],
   "execution_count": 119
  },
  {
   "metadata": {},
   "cell_type": "markdown",
   "source": "## Take a input from your keyboard as your first and second name",
   "id": "a67d2d9680cce1c9"
  },
  {
   "metadata": {
    "ExecuteTime": {
     "end_time": "2024-08-08T13:14:11.757200Z",
     "start_time": "2024-08-08T13:14:09.989437Z"
    }
   },
   "cell_type": "code",
   "source": [
    "first_name = input(\"Enter your first name: \")\n",
    "last_name = input(\"Enter your last name: \")\n",
    "if first_name == \"Armaan singh\" and last_name == \"bhau\":\n",
    "    print(\"Hello\", first_name, last_name)\n",
    "else:\n",
    "    print(\"This is not a valid statement\")"
   ],
   "id": "75278c42c6bd9c7f",
   "outputs": [
    {
     "name": "stdout",
     "output_type": "stream",
     "text": [
      "This is not a valid statement\n"
     ]
    }
   ],
   "execution_count": 120
  },
  {
   "metadata": {},
   "cell_type": "markdown",
   "source": "## Program explaining counter",
   "id": "e6e0ed468a214ee2"
  },
  {
   "metadata": {
    "ExecuteTime": {
     "end_time": "2024-08-08T13:14:11.767638Z",
     "start_time": "2024-08-08T13:14:11.757200Z"
    }
   },
   "cell_type": "code",
   "source": [
    "initial_speed = 0\n",
    "final_speed = 10\n",
    "while initial_speed <= final_speed:\n",
    "    initial_speed = initial_speed + 1\n",
    "    print(\"speed\", initial_speed,\"km/hr\")\n",
    "    if(initial_speed > final_speed):\n",
    "        print(\"speed exceeded\")"
   ],
   "id": "1ff2945cb48aac88",
   "outputs": [
    {
     "name": "stdout",
     "output_type": "stream",
     "text": [
      "speed 1 km/hr\n",
      "speed 2 km/hr\n",
      "speed 3 km/hr\n",
      "speed 4 km/hr\n",
      "speed 5 km/hr\n",
      "speed 6 km/hr\n",
      "speed 7 km/hr\n",
      "speed 8 km/hr\n",
      "speed 9 km/hr\n",
      "speed 10 km/hr\n",
      "speed 11 km/hr\n",
      "speed exceeded\n"
     ]
    }
   ],
   "execution_count": 121
  },
  {
   "metadata": {},
   "cell_type": "markdown",
   "source": "## Working with loops",
   "id": "c291b3a3a4d75214"
  },
  {
   "metadata": {
    "ExecuteTime": {
     "end_time": "2024-08-08T13:14:11.776092Z",
     "start_time": "2024-08-08T13:14:11.769669Z"
    }
   },
   "cell_type": "code",
   "source": [
    "note = 5\n",
    "i = 1\n",
    "while i < note:\n",
    "    print(i)\n",
    "    i += 1\n",
    "else:\n",
    "    print(\"No $10 note is available\")"
   ],
   "id": "60cfc3dbb1c0f7c9",
   "outputs": [
    {
     "name": "stdout",
     "output_type": "stream",
     "text": [
      "1\n",
      "2\n",
      "3\n",
      "4\n",
      "No $10 note is available\n"
     ]
    }
   ],
   "execution_count": 122
  },
  {
   "metadata": {
    "ExecuteTime": {
     "end_time": "2024-08-08T13:14:11.786532Z",
     "start_time": "2024-08-08T13:14:11.779118Z"
    }
   },
   "cell_type": "code",
   "source": [
    "for i in range(10):\n",
    "    if i == 5:\n",
    "        continue\n",
    "    elif i == 8:\n",
    "        break\n",
    "    print(i, end=\" \")\n",
    "        "
   ],
   "id": "1215ed716c9aaac4",
   "outputs": [
    {
     "name": "stdout",
     "output_type": "stream",
     "text": [
      "0 1 2 3 4 6 7 "
     ]
    }
   ],
   "execution_count": 123
  },
  {
   "metadata": {},
   "cell_type": "markdown",
   "source": [
    "## Accessing the value at index\n",
    "* slicing\n",
    "* indexing"
   ],
   "id": "ab66c2794b80ef84"
  },
  {
   "metadata": {
    "ExecuteTime": {
     "end_time": "2024-08-08T13:14:11.797456Z",
     "start_time": "2024-08-08T13:14:11.790556Z"
    }
   },
   "cell_type": "code",
   "source": [
    "s = \"abc\"\n",
    "print(s[1])"
   ],
   "id": "466ed39204e252eb",
   "outputs": [
    {
     "name": "stdout",
     "output_type": "stream",
     "text": [
      "b\n"
     ]
    }
   ],
   "execution_count": 124
  },
  {
   "metadata": {},
   "cell_type": "markdown",
   "source": [
    "## slicing\n",
    "[start : end : jump]"
   ],
   "id": "f9a1206ff29e5d35"
  },
  {
   "metadata": {
    "ExecuteTime": {
     "end_time": "2024-08-08T13:14:11.871286Z",
     "start_time": "2024-08-08T13:14:11.865557Z"
    }
   },
   "cell_type": "code",
   "source": [
    "str1 = \"This is a string\"\n",
    "print(str1[3:12])"
   ],
   "id": "c4d51c86e031bf9",
   "outputs": [
    {
     "name": "stdout",
     "output_type": "stream",
     "text": [
      "s is a st\n"
     ]
    }
   ],
   "execution_count": 125
  },
  {
   "metadata": {},
   "cell_type": "markdown",
   "source": "## Reversing the string using slicing and indexing",
   "id": "b07841b6c19528ab"
  },
  {
   "metadata": {
    "ExecuteTime": {
     "end_time": "2024-08-08T13:14:11.929717Z",
     "start_time": "2024-08-08T13:14:11.923043Z"
    }
   },
   "cell_type": "code",
   "source": "print(str1[::-1])",
   "id": "b5a4ace0512e0001",
   "outputs": [
    {
     "name": "stdout",
     "output_type": "stream",
     "text": [
      "gnirts a si sihT\n"
     ]
    }
   ],
   "execution_count": 126
  },
  {
   "metadata": {
    "ExecuteTime": {
     "end_time": "2024-08-08T13:14:12.011916Z",
     "start_time": "2024-08-08T13:14:12.005632Z"
    }
   },
   "cell_type": "code",
   "source": [
    "for i in str1:\n",
    "    if i == \"g\":\n",
    "        continue\n",
    "    print(i, end=\"\")\n",
    "else:\n",
    "    print(\"\\n\")\n",
    "    if i == \"g\":\n",
    "        print(\"Last character of the string is\", i)"
   ],
   "id": "f6d367696a79dc61",
   "outputs": [
    {
     "name": "stdout",
     "output_type": "stream",
     "text": [
      "This is a strin\n",
      "\n",
      "Last character of the string is g\n"
     ]
    }
   ],
   "execution_count": 127
  },
  {
   "metadata": {
    "ExecuteTime": {
     "end_time": "2024-08-08T13:14:12.031717Z",
     "start_time": "2024-08-08T13:14:12.026934Z"
    }
   },
   "cell_type": "code",
   "source": "print(len(str1))",
   "id": "577580a66ff9e604",
   "outputs": [
    {
     "name": "stdout",
     "output_type": "stream",
     "text": [
      "16\n"
     ]
    }
   ],
   "execution_count": 128
  },
  {
   "metadata": {},
   "cell_type": "markdown",
   "source": "## Pattern problems",
   "id": "c302ea05f0aa72b2"
  },
  {
   "metadata": {
    "ExecuteTime": {
     "end_time": "2024-08-08T13:14:12.068026Z",
     "start_time": "2024-08-08T13:14:12.062902Z"
    }
   },
   "cell_type": "code",
   "source": [
    "for i in range(0,7):\n",
    "    for j in range(0,i+1):\n",
    "        print(\"* \", end=\" \")\n",
    "    print(\"\\n\")"
   ],
   "id": "b3d7fc61c369a4d2",
   "outputs": [
    {
     "name": "stdout",
     "output_type": "stream",
     "text": [
      "*  \n",
      "\n",
      "*  *  \n",
      "\n",
      "*  *  *  \n",
      "\n",
      "*  *  *  *  \n",
      "\n",
      "*  *  *  *  *  \n",
      "\n",
      "*  *  *  *  *  *  \n",
      "\n",
      "*  *  *  *  *  *  *  \n",
      "\n"
     ]
    }
   ],
   "execution_count": 129
  },
  {
   "metadata": {
    "ExecuteTime": {
     "end_time": "2024-08-08T13:14:12.161791Z",
     "start_time": "2024-08-08T13:14:12.155884Z"
    }
   },
   "cell_type": "code",
   "source": [
    "for i in range(0,7):\n",
    "    for j in range(0,i+1):\n",
    "        print(\" \", end=\" \")\n",
    "    for j in range(0,7):\n",
    "        print(\"*\", end=\" \")\n",
    "    print(\"\\n\")"
   ],
   "id": "c5a5bd939d321eec",
   "outputs": [
    {
     "name": "stdout",
     "output_type": "stream",
     "text": [
      "  * * * * * * * \n",
      "\n",
      "    * * * * * * * \n",
      "\n",
      "      * * * * * * * \n",
      "\n",
      "        * * * * * * * \n",
      "\n",
      "          * * * * * * * \n",
      "\n",
      "            * * * * * * * \n",
      "\n",
      "              * * * * * * * \n",
      "\n"
     ]
    }
   ],
   "execution_count": 130
  },
  {
   "metadata": {
    "ExecuteTime": {
     "end_time": "2024-08-08T13:14:21.004548Z",
     "start_time": "2024-08-08T13:14:19.745503Z"
    }
   },
   "cell_type": "code",
   "source": [
    "n = int(input(\"Enter a number: \"))\n",
    "for i in range(n,0,-1):\n",
    "    for j in range(n-i):\n",
    "        print(\" \", end=\" \")\n",
    "        \n",
    "    for j in range(2*i-1):\n",
    "        print(\"*\", end=\" \")\n",
    "    print()\n",
    "    "
   ],
   "id": "3f8b6f8ad7a14de6",
   "outputs": [
    {
     "name": "stdout",
     "output_type": "stream",
     "text": [
      "* * * * * * * * * \n",
      "  * * * * * * * \n",
      "    * * * * * \n",
      "      * * * \n",
      "        * \n"
     ]
    }
   ],
   "execution_count": 134
  },
  {
   "metadata": {
    "ExecuteTime": {
     "end_time": "2024-08-08T13:14:25.194216Z",
     "start_time": "2024-08-08T13:14:23.338693Z"
    }
   },
   "cell_type": "code",
   "source": [
    "n = int(input(\"Enter a number: \"))\n",
    "for i in range(n,0,-1):\n",
    "    for j in range(i-1):\n",
    "        print(\"*\", end=\" \")\n",
    "    print()"
   ],
   "id": "aed80b3f49d38627",
   "outputs": [
    {
     "name": "stdout",
     "output_type": "stream",
     "text": [
      "* * * * * \n",
      "* * * * \n",
      "* * * \n",
      "* * \n",
      "* \n",
      "\n"
     ]
    }
   ],
   "execution_count": 135
  },
  {
   "metadata": {
    "ExecuteTime": {
     "end_time": "2024-08-08T13:14:27.722207Z",
     "start_time": "2024-08-08T13:14:26.726545Z"
    }
   },
   "cell_type": "code",
   "source": [
    "n = int(input(\"Enter a number: \"))\n",
    "\n",
    "for i in range(0,n):\n",
    "    for j in range(n-i):\n",
    "        print(\" \", end=\" \")\n",
    "    for j in range(0,n):\n",
    "        print(\" * \", end=\" \")\n",
    "    print()"
   ],
   "id": "b64ff0ab2a79d3cd",
   "outputs": [
    {
     "name": "stdout",
     "output_type": "stream",
     "text": [
      "           *   *   *   *   *  \n",
      "         *   *   *   *   *  \n",
      "       *   *   *   *   *  \n",
      "     *   *   *   *   *  \n",
      "   *   *   *   *   *  \n"
     ]
    }
   ],
   "execution_count": 136
  },
  {
   "metadata": {
    "ExecuteTime": {
     "end_time": "2024-08-08T13:14:29.285832Z",
     "start_time": "2024-08-08T13:14:29.274593Z"
    }
   },
   "cell_type": "code",
   "source": [
    "i = 0\n",
    "n = 9\n",
    "while i < n:\n",
    "    print(\" \"*(n-i-1) + \"* \" * (i+1))\n",
    "    i += 1"
   ],
   "id": "22e5ba2389ad9700",
   "outputs": [
    {
     "name": "stdout",
     "output_type": "stream",
     "text": [
      "        * \n",
      "       * * \n",
      "      * * * \n",
      "     * * * * \n",
      "    * * * * * \n",
      "   * * * * * * \n",
      "  * * * * * * * \n",
      " * * * * * * * * \n",
      "* * * * * * * * * \n"
     ]
    }
   ],
   "execution_count": 137
  },
  {
   "metadata": {},
   "cell_type": "markdown",
   "source": "# List",
   "id": "2a2a3ae20f336aa5"
  },
  {
   "metadata": {
    "ExecuteTime": {
     "end_time": "2024-08-08T13:14:13.295512Z",
     "start_time": "2024-08-08T13:14:13.288218Z"
    }
   },
   "cell_type": "code",
   "source": [
    "l = [\"a\", \"b\", \"c\", \"d\", \"e\", \"f\", \"g\", \"h\"]\n",
    "print(l)\n",
    "type(l)"
   ],
   "id": "d402d78f751f9cab",
   "outputs": [
    {
     "name": "stdout",
     "output_type": "stream",
     "text": [
      "['a', 'b', 'c', 'd', 'e', 'f', 'g', 'h']\n"
     ]
    },
    {
     "data": {
      "text/plain": [
       "list"
      ]
     },
     "execution_count": 133,
     "metadata": {},
     "output_type": "execute_result"
    }
   ],
   "execution_count": 133
  },
  {
   "metadata": {},
   "cell_type": "markdown",
   "source": "## Different ways to define the list",
   "id": "137d140ea7d6f79a"
  },
  {
   "metadata": {
    "ExecuteTime": {
     "end_time": "2024-08-08T13:15:55.240051Z",
     "start_time": "2024-08-08T13:15:55.232225Z"
    }
   },
   "cell_type": "code",
   "source": [
    "l1 = []\n",
    "print(l1)\n",
    "type(l1)"
   ],
   "id": "972a3100e332bfdb",
   "outputs": [
    {
     "name": "stdout",
     "output_type": "stream",
     "text": [
      "[]\n"
     ]
    },
    {
     "data": {
      "text/plain": [
       "list"
      ]
     },
     "execution_count": 138,
     "metadata": {},
     "output_type": "execute_result"
    }
   ],
   "execution_count": 138
  },
  {
   "metadata": {
    "ExecuteTime": {
     "end_time": "2024-08-08T13:26:30.431233Z",
     "start_time": "2024-08-08T13:26:30.425098Z"
    }
   },
   "cell_type": "code",
   "source": [
    "l2 = list()\n",
    "print(l2)\n",
    "type(l2)"
   ],
   "id": "f070b51ee0e69b35",
   "outputs": [
    {
     "name": "stdout",
     "output_type": "stream",
     "text": [
      "[]\n"
     ]
    },
    {
     "data": {
      "text/plain": [
       "list"
      ]
     },
     "execution_count": 155,
     "metadata": {},
     "output_type": "execute_result"
    }
   ],
   "execution_count": 155
  },
  {
   "metadata": {
    "ExecuteTime": {
     "end_time": "2024-08-08T13:24:07.740955Z",
     "start_time": "2024-08-08T13:24:07.734877Z"
    }
   },
   "cell_type": "code",
   "source": [
    "l = [\"abc\",[1,2,3,4,5,\"six\"],True, False,\"hello\", 45+24j, 4.5]\n",
    "for i in l:\n",
    "    if type(i) == list:\n",
    "        n = 0\n",
    "        for j in i:\n",
    "            if type(j) == int:\n",
    "                n = n + j\n",
    "        print(n)\n",
    "        print(type(j))"
   ],
   "id": "8658b7d35171301a",
   "outputs": [
    {
     "name": "stdout",
     "output_type": "stream",
     "text": [
      "15\n",
      "<class 'str'>\n"
     ]
    }
   ],
   "execution_count": 151
  },
  {
   "metadata": {
    "ExecuteTime": {
     "end_time": "2024-08-08T13:25:58.136974Z",
     "start_time": "2024-08-08T13:25:58.127023Z"
    }
   },
   "cell_type": "code",
   "source": "l[0:5]",
   "id": "a84a1c1b6e001e3d",
   "outputs": [
    {
     "data": {
      "text/plain": [
       "['abc', [1, 2, 3, 4, 5, 'six'], True, False, 'hello']"
      ]
     },
     "execution_count": 152,
     "metadata": {},
     "output_type": "execute_result"
    }
   ],
   "execution_count": 152
  },
  {
   "metadata": {},
   "cell_type": "markdown",
   "source": "# Strings",
   "id": "6c28f3cfe957387a"
  },
  {
   "metadata": {
    "ExecuteTime": {
     "end_time": "2024-08-08T13:37:48.518693Z",
     "start_time": "2024-08-08T13:37:48.510207Z"
    }
   },
   "cell_type": "code",
   "source": [
    "string = \"hello world\"\n",
    "for i in string:\n",
    "    print(i, end=\"\")"
   ],
   "id": "8529f45e1def59f7",
   "outputs": [
    {
     "name": "stdout",
     "output_type": "stream",
     "text": [
      "hello world"
     ]
    }
   ],
   "execution_count": 157
  },
  {
   "metadata": {
    "ExecuteTime": {
     "end_time": "2024-08-08T14:16:55.527273Z",
     "start_time": "2024-08-08T14:16:55.521549Z"
    }
   },
   "cell_type": "code",
   "source": [
    "a = \"abc\"\n",
    "a"
   ],
   "id": "6a9171eb012cb7d5",
   "outputs": [
    {
     "data": {
      "text/plain": [
       "'abc'"
      ]
     },
     "execution_count": 163,
     "metadata": {},
     "output_type": "execute_result"
    }
   ],
   "execution_count": 163
  },
  {
   "metadata": {
    "ExecuteTime": {
     "end_time": "2024-08-08T14:16:57.283207Z",
     "start_time": "2024-08-08T14:16:57.277667Z"
    }
   },
   "cell_type": "code",
   "source": [
    "b = 'abc'\n",
    "b"
   ],
   "id": "82b5bc01e2d54628",
   "outputs": [
    {
     "data": {
      "text/plain": [
       "'abc'"
      ]
     },
     "execution_count": 164,
     "metadata": {},
     "output_type": "execute_result"
    }
   ],
   "execution_count": 164
  },
  {
   "metadata": {
    "ExecuteTime": {
     "end_time": "2024-08-08T14:17:29.489962Z",
     "start_time": "2024-08-08T14:17:29.483924Z"
    }
   },
   "cell_type": "code",
   "source": [
    "c = 'This is very \"important\" string'\n",
    "c"
   ],
   "id": "60ed797f80b9ad37",
   "outputs": [
    {
     "data": {
      "text/plain": [
       "'This is very \"important\" string'"
      ]
     },
     "execution_count": 165,
     "metadata": {},
     "output_type": "execute_result"
    }
   ],
   "execution_count": 165
  },
  {
   "metadata": {
    "ExecuteTime": {
     "end_time": "2024-08-08T14:20:38.559216Z",
     "start_time": "2024-08-08T14:20:38.552916Z"
    }
   },
   "cell_type": "code",
   "source": [
    "d = \"This is very 'important' string\"\n",
    "d"
   ],
   "id": "f750d586f327f5ed",
   "outputs": [
    {
     "data": {
      "text/plain": [
       "\"This is very 'important' string\""
      ]
     },
     "execution_count": 166,
     "metadata": {},
     "output_type": "execute_result"
    }
   ],
   "execution_count": 166
  },
  {
   "metadata": {},
   "cell_type": "code",
   "outputs": [],
   "execution_count": null,
   "source": "",
   "id": "d546aeab7a4314a1"
  }
 ],
 "metadata": {
  "kernelspec": {
   "display_name": "Python 3",
   "language": "python",
   "name": "python3"
  },
  "language_info": {
   "codemirror_mode": {
    "name": "ipython",
    "version": 2
   },
   "file_extension": ".py",
   "mimetype": "text/x-python",
   "name": "python",
   "nbconvert_exporter": "python",
   "pygments_lexer": "ipython2",
   "version": "2.7.6"
  }
 },
 "nbformat": 4,
 "nbformat_minor": 5
}
