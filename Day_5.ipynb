{
 "cells": [
  {
   "metadata": {
    "ExecuteTime": {
     "end_time": "2024-08-17T07:46:16.859949Z",
     "start_time": "2024-08-17T07:46:16.852199Z"
    }
   },
   "cell_type": "code",
   "source": [
    "def test(*args):\n",
    "    print(\"This is my args arguments\")\n",
    "    print(*args)\n",
    "\n",
    "test(\"hello\", 45.44, 45)"
   ],
   "id": "659e9c73d8c276aa",
   "outputs": [
    {
     "name": "stdout",
     "output_type": "stream",
     "text": [
      "This is my args arguments\n",
      "hello 45.44 45\n"
     ]
    }
   ],
   "execution_count": 11
  },
  {
   "metadata": {
    "ExecuteTime": {
     "end_time": "2024-08-17T07:55:58.481438Z",
     "start_time": "2024-08-17T07:55:58.473376Z"
    }
   },
   "cell_type": "code",
   "source": [
    "def sum_of(a,b,*args):\n",
    "    print(a+b)\n",
    "    for i in args:\n",
    "        print(i,end=\" \")\n",
    "\n",
    "sum_of(1,23,3,3,2,2,4,5,3,2,2)"
   ],
   "id": "5b6a2ef3d6d568b2",
   "outputs": [
    {
     "name": "stdout",
     "output_type": "stream",
     "text": [
      "24\n",
      "3 3 2 2 4 5 3 2 2 "
     ]
    }
   ],
   "execution_count": 23
  },
  {
   "metadata": {
    "ExecuteTime": {
     "end_time": "2024-08-17T07:51:53.566612Z",
     "start_time": "2024-08-17T07:51:53.559773Z"
    }
   },
   "cell_type": "code",
   "source": [
    "def func(**kwargs):\n",
    "    for key, value in kwargs.items():\n",
    "        print(f\"{key}: {value}\")\n",
    "\n",
    "func(a=1, b=2, c=3)"
   ],
   "id": "e0eb8829a77caf6b",
   "outputs": [
    {
     "name": "stdout",
     "output_type": "stream",
     "text": [
      "a: 1\n",
      "b: 2\n",
      "c: 3\n"
     ]
    }
   ],
   "execution_count": 18
  },
  {
   "metadata": {
    "ExecuteTime": {
     "end_time": "2024-08-17T07:59:15.292719Z",
     "start_time": "2024-08-17T07:59:15.284335Z"
    }
   },
   "cell_type": "code",
   "source": [
    "def sum_of(a,b,*args, **kwargs):\n",
    "    print(a+b)\n",
    "    for i in args:\n",
    "        print(i,end=\" \")\n",
    "        \n",
    "    print(\"\")\n",
    "    \n",
    "    for value in kwargs.values():\n",
    "        print(value,end=\" \")\n",
    "\n",
    "sum_of(1,23,3,3,2,2,4,5,3,2,2,first_name=\"John\",last_name=\"Smith\")"
   ],
   "id": "793b6c8ff7b5e605",
   "outputs": [
    {
     "name": "stdout",
     "output_type": "stream",
     "text": [
      "24\n",
      "3 3 2 2 4 5 3 2 2 \n",
      "John Smith "
     ]
    }
   ],
   "execution_count": 34
  },
  {
   "metadata": {},
   "cell_type": "markdown",
   "source": "### concatenate strings",
   "id": "bb05dbe997a96adf"
  },
  {
   "metadata": {
    "ExecuteTime": {
     "end_time": "2024-08-17T08:02:05.894577Z",
     "start_time": "2024-08-17T08:02:05.888896Z"
    }
   },
   "cell_type": "code",
   "source": [
    "def concatenate_strings(separator, *args):\n",
    "    return separator.join(args)\n",
    "\n",
    "result = concatenate_strings(\", \", \"apple\", \"banana\", \"grapes\")\n",
    "print(result)"
   ],
   "id": "4f080d192ee3a95e",
   "outputs": [
    {
     "name": "stdout",
     "output_type": "stream",
     "text": [
      "apple, banana, grapes\n"
     ]
    }
   ],
   "execution_count": 39
  },
  {
   "metadata": {
    "ExecuteTime": {
     "end_time": "2024-08-17T10:36:34.614162Z",
     "start_time": "2024-08-17T10:36:34.600674Z"
    }
   },
   "cell_type": "code",
   "source": [
    "def process_data(*args, **kwargs):\n",
    "    positional_sum = sum(args)\n",
    "    filtered_kwargs = {key: value for key, value in kwargs.items() if(value,int) and value > 10}\n",
    "    return positional_sum, filtered_kwargs\n",
    "\n",
    "process_data(5, 10, 15, a=5, b=12, c=20)"
   ],
   "id": "2fd77481b1e6335e",
   "outputs": [
    {
     "data": {
      "text/plain": [
       "(30, {'b': 12, 'c': 20})"
      ]
     },
     "execution_count": 2,
     "metadata": {},
     "output_type": "execute_result"
    }
   ],
   "execution_count": 2
  },
  {
   "metadata": {
    "ExecuteTime": {
     "end_time": "2024-08-17T10:39:32.750301Z",
     "start_time": "2024-08-17T10:39:32.740333Z"
    }
   },
   "cell_type": "code",
   "source": [
    "def process_data(*args, **kwargs):\n",
    "    positional_sum = sum(args)\n",
    "    \n",
    "    filtered_kwargs = []\n",
    "    for key, value in kwargs.items():\n",
    "        if value > 10:\n",
    "            filtered_kwargs.append((key, value))\n",
    "            \n",
    "    filtered_kwargs_dict = dict(filtered_kwargs)\n",
    "    return positional_sum, filtered_kwargs_dict\n",
    "    \n",
    "process_data(5, 10, 15, a=5, b=12, c=20)\n",
    "            "
   ],
   "id": "cc6c1c23761acc60",
   "outputs": [
    {
     "data": {
      "text/plain": [
       "(30, {'b': 12, 'c': 20})"
      ]
     },
     "execution_count": 4,
     "metadata": {},
     "output_type": "execute_result"
    }
   ],
   "execution_count": 4
  },
  {
   "metadata": {
    "ExecuteTime": {
     "end_time": "2024-08-17T10:41:56.601045Z",
     "start_time": "2024-08-17T10:41:56.582002Z"
    }
   },
   "cell_type": "code",
   "source": [
    "def combine_and_sort(*args, **kwargs):\n",
    "    combined = list(args) + list(kwargs.values())\n",
    "    \n",
    "    combined.sort()\n",
    "    \n",
    "    unique_count = len(set(combined))\n",
    "    return combined, unique_count\n",
    "\n",
    "combine_and_sort(3, 1, 4, a=2, b=5, c=2)"
   ],
   "id": "c4a24b1f7b8e7429",
   "outputs": [
    {
     "data": {
      "text/plain": [
       "([1, 2, 2, 3, 4, 5], 5)"
      ]
     },
     "execution_count": 6,
     "metadata": {},
     "output_type": "execute_result"
    }
   ],
   "execution_count": 6
  },
  {
   "metadata": {},
   "cell_type": "markdown",
   "source": [
    "## Problem 1: Data Processing Pipeline\n",
    "### Problem:\n",
    "Design a function that processes a list of records where each record is a dictionary containing user data. The function should:\n",
    "\n",
    "1. Filter out records where the user's age is less than 18.\n",
    "2. Transform the records to include a new key full_name which is a concatenation of first_name and last_name.\n",
    "3. Sort the records by last_name in ascending order.\n",
    "\n",
    "<code>\n",
    "[\n",
    "    {\"first_name\": \"John\", \"last_name\": \"Doe\", \"age\": 25},\n",
    "    {\"first_name\": \"Jane\", \"last_name\": \"Smith\", \"age\": 17},\n",
    "    {\"first_name\": \"Alice\", \"last_name\": \"Johnson\", \"age\": 30}\n",
    "]\n",
    "</code>"
   ],
   "id": "e8cf1b6f4a01333c"
  },
  {
   "metadata": {
    "ExecuteTime": {
     "end_time": "2024-08-17T10:59:08.658063Z",
     "start_time": "2024-08-17T10:59:08.648437Z"
    }
   },
   "cell_type": "code",
   "source": [
    "def process_records(records):\n",
    "    filtered_records = []\n",
    "    for record in records:\n",
    "        if record['age'] >= 18:\n",
    "            filtered_records.append(record)\n",
    "            \n",
    "    for record in filtered_records:\n",
    "        record['full_name'] = f\"{record['first_name']} {record['last_name']}\"\n",
    "        \n",
    "    return filtered_records\n",
    "\n",
    "data = [\n",
    "    {\"first_name\": \"John\", \"last_name\": \"Doe\", \"age\": 25},\n",
    "    {\"first_name\": \"Jane\", \"last_name\": \"Smith\", \"age\": 17},\n",
    "    {\"first_name\": \"Alice\", \"last_name\": \"Johnson\", \"age\": 30}\n",
    "]\n",
    "process_records(data)"
   ],
   "id": "de4ff781ba6943bc",
   "outputs": [
    {
     "data": {
      "text/plain": [
       "[{'first_name': 'John',\n",
       "  'last_name': 'Doe',\n",
       "  'age': 25,\n",
       "  'full_name': 'John Doe'},\n",
       " {'first_name': 'Alice',\n",
       "  'last_name': 'Johnson',\n",
       "  'age': 30,\n",
       "  'full_name': 'Alice Johnson'}]"
      ]
     },
     "execution_count": 11,
     "metadata": {},
     "output_type": "execute_result"
    }
   ],
   "execution_count": 11
  },
  {
   "metadata": {},
   "cell_type": "markdown",
   "source": [
    "## Problem 2: Rate Limiter\n",
    "### Problem:\n",
    "Implement a rate limiter using a decorator that restricts the number of function calls to a given function within a specified time window."
   ],
   "id": "82318f2f04515447"
  },
  {
   "metadata": {},
   "cell_type": "markdown",
   "source": [
    "## Problem 3: Dynamic Query Builder\n",
    "### Problem:\n",
    "Write a function that constructs SQL queries dynamically based on input parameters."
   ],
   "id": "b2db51ac88022957"
  },
  {
   "metadata": {
    "ExecuteTime": {
     "end_time": "2024-08-17T11:05:48.497856Z",
     "start_time": "2024-08-17T11:05:48.480193Z"
    }
   },
   "cell_type": "code",
   "source": [
    "def build_query(operation, table, columns=None, conditions=None):\n",
    "    if operation == 'SELECT':\n",
    "        cols = ', '.join(columns) if columns else '*'\n",
    "        conds = ' AND '.join(f\"{k} = '{v}'\" for k, v in conditions.items()) if conditions else '1=1'\n",
    "        return f\"SELECT {cols} FROM {table} WHERE {conds}\"\n",
    "    elif operation == 'INSERT':\n",
    "        keys = ', '.join(columns.keys())\n",
    "        values = ', '.join(f\"'{v}'\" for v in columns.values())\n",
    "        return f\"INSERT INTO {table} ({keys}) VALUES ({values})\"\n",
    "    elif operation == 'UPDATE':\n",
    "        updates = ', '.join(f\"{k} = '{v}'\" for k, v in columns.items())\n",
    "        conds = ' AND '.join(f\"{k} = '{v}'\" for k, v in conditions.items())\n",
    "        return f\"UPDATE {table} SET {updates} WHERE {conds}\"\n",
    "    elif operation == 'DELETE':\n",
    "        conds = ' AND '.join(f\"{k} = '{v}'\" for k, v in conditions.items())\n",
    "        return f\"DELETE FROM {table} WHERE {conds}\"\n",
    "    else:\n",
    "        raise ValueError(\"Invalid operation\")\n",
    "\n",
    "print(build_query('SELECT', 'users', columns=['id', 'name'], conditions={'age': '18'}))"
   ],
   "id": "8802ae20ee880468",
   "outputs": [
    {
     "name": "stdout",
     "output_type": "stream",
     "text": [
      "SELECT id, name FROM users WHERE age = '18'\n"
     ]
    }
   ],
   "execution_count": 13
  },
  {
   "metadata": {},
   "cell_type": "markdown",
   "source": [
    "## Problem 4: Function Composition\n",
    "### Problem:\n",
    "Implement a function composition utility that allows composing multiple functions into a single function."
   ],
   "id": "480d53d582bfbc80"
  },
  {
   "metadata": {
    "ExecuteTime": {
     "end_time": "2024-08-17T11:06:24.978082Z",
     "start_time": "2024-08-17T11:06:24.968371Z"
    }
   },
   "cell_type": "code",
   "source": [
    "def compose(*funcs):\n",
    "    def composed_func(x):\n",
    "        for func in reversed(funcs):\n",
    "            x = func(x)\n",
    "        return x\n",
    "    return composed_func\n",
    "\n",
    "# Example functions\n",
    "def add_one(x):\n",
    "    return x + 1\n",
    "\n",
    "def square(x):\n",
    "    return x * x\n",
    "\n",
    "composed = compose(add_one, square)\n",
    "print(composed(4))  # Output: 17 (square(4) = 16, add_one(16) = 17)\n"
   ],
   "id": "9d65925c45aaea94",
   "outputs": [
    {
     "name": "stdout",
     "output_type": "stream",
     "text": [
      "17\n"
     ]
    }
   ],
   "execution_count": 14
  },
  {
   "metadata": {},
   "cell_type": "markdown",
   "source": [
    "## Problem 5: Caching and Memoization\n",
    "### Problem:\n",
    "Implement a caching mechanism for a function that computes the nth Fibonacci number using memoization."
   ],
   "id": "549f4f0b43dd3ec2"
  },
  {
   "metadata": {
    "ExecuteTime": {
     "end_time": "2024-08-17T11:06:49.400798Z",
     "start_time": "2024-08-17T11:06:49.385187Z"
    }
   },
   "cell_type": "code",
   "source": [
    "def memoize(func):\n",
    "    cache = {}\n",
    "    def wrapper(n):\n",
    "        if n not in cache:\n",
    "            cache[n] = func(n)\n",
    "        return cache[n]\n",
    "    return wrapper\n",
    "\n",
    "@memoize\n",
    "def fibonacci(n):\n",
    "    if n <= 1:\n",
    "        return n\n",
    "    return fibonacci(n-1) + fibonacci(n-2)\n",
    "\n",
    "print(fibonacci(10))"
   ],
   "id": "972e93d551d25202",
   "outputs": [
    {
     "name": "stdout",
     "output_type": "stream",
     "text": [
      "55\n"
     ]
    }
   ],
   "execution_count": 15
  },
  {
   "metadata": {},
   "cell_type": "markdown",
   "source": [
    "## Problem 6: Asynchronous Function Handling\n",
    "### Problem:\n",
    "Design a function that performs asynchronous operations and collects their results."
   ],
   "id": "e4bd8043de840608"
  },
  {
   "metadata": {
    "ExecuteTime": {
     "end_time": "2024-08-17T11:06:59.498633Z",
     "start_time": "2024-08-17T11:06:59.173582Z"
    }
   },
   "cell_type": "code",
   "source": [
    "import asyncio\n",
    "\n",
    "async def async_task(n):\n",
    "    await asyncio.sleep(n)\n",
    "    return n\n",
    "\n",
    "async def collect_results(tasks):\n",
    "    results = await asyncio.gather(*tasks)\n",
    "    return results\n",
    "\n",
    "# Example usage\n",
    "async def main():\n",
    "    tasks = [async_task(1), async_task(2), async_task(3)]\n",
    "    results = await collect_results(tasks)\n",
    "    print(results)  # Output: [1, 2, 3]\n",
    "\n",
    "asyncio.run(main())"
   ],
   "id": "a0e352029c27cf66",
   "outputs": [
    {
     "ename": "RuntimeError",
     "evalue": "asyncio.run() cannot be called from a running event loop",
     "output_type": "error",
     "traceback": [
      "\u001B[1;31m---------------------------------------------------------------------------\u001B[0m",
      "\u001B[1;31mRuntimeError\u001B[0m                              Traceback (most recent call last)",
      "Cell \u001B[1;32mIn[16], line 17\u001B[0m\n\u001B[0;32m     14\u001B[0m     results \u001B[38;5;241m=\u001B[39m \u001B[38;5;28;01mawait\u001B[39;00m collect_results(tasks)\n\u001B[0;32m     15\u001B[0m     \u001B[38;5;28mprint\u001B[39m(results)  \u001B[38;5;66;03m# Output: [1, 2, 3]\u001B[39;00m\n\u001B[1;32m---> 17\u001B[0m \u001B[43masyncio\u001B[49m\u001B[38;5;241;43m.\u001B[39;49m\u001B[43mrun\u001B[49m\u001B[43m(\u001B[49m\u001B[43mmain\u001B[49m\u001B[43m(\u001B[49m\u001B[43m)\u001B[49m\u001B[43m)\u001B[49m\n",
      "File \u001B[1;32m~\\AppData\\Local\\Programs\\Python\\Python311\\Lib\\asyncio\\runners.py:186\u001B[0m, in \u001B[0;36mrun\u001B[1;34m(main, debug)\u001B[0m\n\u001B[0;32m    161\u001B[0m \u001B[38;5;250m\u001B[39m\u001B[38;5;124;03m\"\"\"Execute the coroutine and return the result.\u001B[39;00m\n\u001B[0;32m    162\u001B[0m \n\u001B[0;32m    163\u001B[0m \u001B[38;5;124;03mThis function runs the passed coroutine, taking care of\u001B[39;00m\n\u001B[1;32m   (...)\u001B[0m\n\u001B[0;32m    182\u001B[0m \u001B[38;5;124;03m    asyncio.run(main())\u001B[39;00m\n\u001B[0;32m    183\u001B[0m \u001B[38;5;124;03m\"\"\"\u001B[39;00m\n\u001B[0;32m    184\u001B[0m \u001B[38;5;28;01mif\u001B[39;00m events\u001B[38;5;241m.\u001B[39m_get_running_loop() \u001B[38;5;129;01mis\u001B[39;00m \u001B[38;5;129;01mnot\u001B[39;00m \u001B[38;5;28;01mNone\u001B[39;00m:\n\u001B[0;32m    185\u001B[0m     \u001B[38;5;66;03m# fail fast with short traceback\u001B[39;00m\n\u001B[1;32m--> 186\u001B[0m     \u001B[38;5;28;01mraise\u001B[39;00m \u001B[38;5;167;01mRuntimeError\u001B[39;00m(\n\u001B[0;32m    187\u001B[0m         \u001B[38;5;124m\"\u001B[39m\u001B[38;5;124masyncio.run() cannot be called from a running event loop\u001B[39m\u001B[38;5;124m\"\u001B[39m)\n\u001B[0;32m    189\u001B[0m \u001B[38;5;28;01mwith\u001B[39;00m Runner(debug\u001B[38;5;241m=\u001B[39mdebug) \u001B[38;5;28;01mas\u001B[39;00m runner:\n\u001B[0;32m    190\u001B[0m     \u001B[38;5;28;01mreturn\u001B[39;00m runner\u001B[38;5;241m.\u001B[39mrun(main)\n",
      "\u001B[1;31mRuntimeError\u001B[0m: asyncio.run() cannot be called from a running event loop"
     ]
    }
   ],
   "execution_count": 16
  },
  {
   "metadata": {},
   "cell_type": "markdown",
   "source": [
    "## Problem 7: Function Signature Validation\n",
    "### Problem:\n",
    "Create a utility that validates a function's signature against a provided schema."
   ],
   "id": "983d7c58faac97d2"
  },
  {
   "metadata": {
    "ExecuteTime": {
     "end_time": "2024-08-17T11:08:20.219507Z",
     "start_time": "2024-08-17T11:08:20.209256Z"
    }
   },
   "cell_type": "code",
   "source": [
    "import inspect\n",
    "\n",
    "def validate_signature(func, schema):\n",
    "    sig = inspect.signature(func)\n",
    "    for param_name, param_type in schema['args']:\n",
    "        if param_name not in sig.parameters:\n",
    "            raise ValueError(f\"Missing parameter: {param_name}\")\n",
    "        if sig.parameters[param_name].annotation != param_type:\n",
    "            raise TypeError(f\"Parameter {param_name} should be of type {param_type}\")\n",
    "    for param_name, param_type in schema.get('kwargs', {}).items():\n",
    "        if param_name not in sig.parameters:\n",
    "            raise ValueError(f\"Missing keyword argument: {param_name}\")\n",
    "        if sig.parameters[param_name].annotation != param_type:\n",
    "            raise TypeError(f\"Keyword argument {param_name} should be of type {param_type}\")\n",
    "\n",
    "schema = {\n",
    "    'args': [('a', int), ('b', str)],\n",
    "    'kwargs': {'key1': int, 'key2': str}\n",
    "}\n",
    "\n",
    "def sample_function(a: int, b: str, *, key1: int, key2: str):\n",
    "    pass\n",
    "\n",
    "validate_signature(sample_function, schema)\n"
   ],
   "id": "6ef1ea088ad0d635",
   "outputs": [],
   "execution_count": 19
  },
  {
   "metadata": {},
   "cell_type": "markdown",
   "source": [
    "## Problem 8: Recursive Function for Binary Search\n",
    "### Problem:\n",
    "Implement a recursive binary search function to find an element in a sorted list."
   ],
   "id": "3ccdce0439229b7a"
  },
  {
   "metadata": {
    "ExecuteTime": {
     "end_time": "2024-08-17T11:09:15.700631Z",
     "start_time": "2024-08-17T11:09:15.694501Z"
    }
   },
   "cell_type": "code",
   "source": [
    "def binary_search(arr, target, low=0, high=None):\n",
    "    if high is None:\n",
    "        high = len(arr) - 1\n",
    "    \n",
    "    if low > high:\n",
    "        return -1\n",
    "    \n",
    "    mid = (low + high) // 2\n",
    "    if arr[mid] == target:\n",
    "        return mid\n",
    "    elif arr[mid] < target:\n",
    "        return binary_search(arr, target, mid + 1, high)\n",
    "    else:\n",
    "        return binary_search(arr, target, low, mid - 1)\n",
    "\n",
    "sorted_list = [1, 3, 5, 7, 9, 11]\n",
    "print(binary_search(sorted_list, 7))  # Output: 3\n"
   ],
   "id": "a40d3efac06063ef",
   "outputs": [
    {
     "name": "stdout",
     "output_type": "stream",
     "text": [
      "3\n"
     ]
    }
   ],
   "execution_count": 20
  },
  {
   "metadata": {},
   "cell_type": "markdown",
   "source": [
    "## Problem 9: Function Decorators with Arguments\n",
    "### Problem:\n",
    "Implement a decorator that accepts arguments to control its behavior."
   ],
   "id": "901e63ff8f87c862"
  },
  {
   "metadata": {
    "ExecuteTime": {
     "end_time": "2024-08-17T11:09:35.550535Z",
     "start_time": "2024-08-17T11:09:35.536392Z"
    }
   },
   "cell_type": "code",
   "source": [
    "from functools import wraps\n",
    "\n",
    "def repeat(times):\n",
    "    def decorator(func):\n",
    "        @wraps(func)\n",
    "        def wrapper(*args, **kwargs):\n",
    "            for _ in range(times):\n",
    "                result = func(*args, **kwargs)\n",
    "            return result\n",
    "        return wrapper\n",
    "    return decorator\n",
    "\n",
    "@repeat(times=3)\n",
    "def greet(name):\n",
    "    print(f\"Hello, {name}!\")\n",
    "\n",
    "greet(\"Alice\")"
   ],
   "id": "c008137358e2ce7b",
   "outputs": [
    {
     "name": "stdout",
     "output_type": "stream",
     "text": [
      "Hello, Alice!\n",
      "Hello, Alice!\n",
      "Hello, Alice!\n"
     ]
    }
   ],
   "execution_count": 22
  },
  {
   "metadata": {},
   "cell_type": "markdown",
   "source": [
    "## Problem 10: Function Memoization with LRU Cache\n",
    "### Problem:\n",
    "Implement a memoization function using an LRU (Least Recently Used) cache to limit the number of cached results."
   ],
   "id": "e1d6fe54ea28644"
  },
  {
   "metadata": {
    "ExecuteTime": {
     "end_time": "2024-08-17T11:09:47.497414Z",
     "start_time": "2024-08-17T11:09:47.479018Z"
    }
   },
   "cell_type": "code",
   "source": [
    "from functools import lru_cache\n",
    "\n",
    "@lru_cache(maxsize=100)\n",
    "def compute(n):\n",
    "    if n <= 1:\n",
    "        return n\n",
    "    return compute(n-1) + compute(n-2)\n",
    "\n",
    "\n",
    "print(compute(10))"
   ],
   "id": "498df1469d25bbb",
   "outputs": [
    {
     "name": "stdout",
     "output_type": "stream",
     "text": [
      "55\n"
     ]
    }
   ],
   "execution_count": 24
  },
  {
   "metadata": {},
   "cell_type": "code",
   "outputs": [],
   "execution_count": null,
   "source": "",
   "id": "87d574c93743756f"
  }
 ],
 "metadata": {
  "kernelspec": {
   "display_name": "Python 3",
   "language": "python",
   "name": "python3"
  },
  "language_info": {
   "codemirror_mode": {
    "name": "ipython",
    "version": 2
   },
   "file_extension": ".py",
   "mimetype": "text/x-python",
   "name": "python",
   "nbconvert_exporter": "python",
   "pygments_lexer": "ipython2",
   "version": "2.7.6"
  }
 },
 "nbformat": 4,
 "nbformat_minor": 5
}
